{
 "cells": [
  {
   "cell_type": "code",
   "execution_count": 143,
   "id": "2ffc9d5b",
   "metadata": {
    "scrolled": true
   },
   "outputs": [],
   "source": [
    "library(dplyr)\n"
   ]
  },
  {
   "cell_type": "markdown",
   "id": "35aad25a",
   "metadata": {},
   "source": [
    "a) Null: The null hypothesis is the theory presented by the Bureau of Crime Statistics and Research of Australia stating that the mean length of imprisonment for motor-vehicle-theft offenders in Australia is 16.7 months.\n",
    "\n",
    "Alternative: The alternative hypothesis is the theory presented by the group of researchers that the mean length of imprisonment is less than 16.7 months."
   ]
  },
  {
   "cell_type": "markdown",
   "id": "087b9578",
   "metadata": {},
   "source": [
    "b. Determine the probability of a Type I error.\n",
    "\n",
    "For a one-tailed test, the probability of a type I error is at most alpha. For a two-tailed test, the probability is exactly alpha. Alpha is the same as the significance level which is 0.05. So there is 5% chance of rejecting the null hypothesis when it is true."
   ]
  },
  {
   "cell_type": "markdown",
   "id": "9479f366",
   "metadata": {},
   "source": [
    "c. Determine the probability of a Type II error."
   ]
  },
  {
   "cell_type": "code",
   "execution_count": 29,
   "id": "e88ad455",
   "metadata": {},
   "outputs": [],
   "source": [
    "sig_level =0.05\n",
    "null_mean = 16.7\n",
    "sd = 6.0\n",
    "true_distrib = 15.5"
   ]
  },
  {
   "cell_type": "code",
   "execution_count": 30,
   "id": "0ffa8ba5",
   "metadata": {},
   "outputs": [
    {
     "data": {
      "text/html": [
       "6.83087823829116"
      ],
      "text/latex": [
       "6.83087823829116"
      ],
      "text/markdown": [
       "6.83087823829116"
      ],
      "text/plain": [
       "[1] 6.830878"
      ]
     },
     "metadata": {},
     "output_type": "display_data"
    }
   ],
   "source": [
    "crit_val = qnorm(sig_level, null_mean, sd, lower.tail =T)\n",
    "crit_val"
   ]
  },
  {
   "cell_type": "code",
   "execution_count": 44,
   "id": "679efb28",
   "metadata": {},
   "outputs": [
    {
     "data": {
      "text/html": [
       "'There is a 1 percent probability of a Type II.'"
      ],
      "text/latex": [
       "'There is a 1 percent probability of a Type II.'"
      ],
      "text/markdown": [
       "'There is a 1 percent probability of a Type II.'"
      ],
      "text/plain": [
       "[1] \"There is a 1 percent probability of a Type II.\""
      ]
     },
     "metadata": {},
     "output_type": "display_data"
    }
   ],
   "source": [
    "prob_typeII = pnorm(crit_val, mean= true_distrib, sd= sd/sqrt(100), lower.tail=F)\n",
    "sprintf(\"There is a %d percent probability of a Type II.\", prob_typeII)"
   ]
  },
  {
   "cell_type": "markdown",
   "id": "456cca3f",
   "metadata": {},
   "source": [
    "d) Simulate 1,000 samples, each of size 100. "
   ]
  },
  {
   "cell_type": "code",
   "execution_count": 129,
   "id": "4d46b8ac",
   "metadata": {},
   "outputs": [],
   "source": [
    "#1000 samples of size 100 from a normal distribution with mean 5 and standard deviation 6.0\n",
    "samp = replicate(1000, rnorm(100, 5, sd=6.0), simplify=FALSE)"
   ]
  },
  {
   "cell_type": "code",
   "execution_count": 130,
   "id": "49b7215f",
   "metadata": {},
   "outputs": [
    {
     "data": {
      "text/html": [
       "<ol class=list-inline>\n",
       "\t<li>5.18810210872373</li>\n",
       "\t<li>5.00430631298222</li>\n",
       "\t<li>6.36794967064644</li>\n",
       "\t<li>4.80610729719859</li>\n",
       "\t<li>4.6909428289566</li>\n",
       "\t<li>5.12066421027589</li>\n",
       "</ol>\n"
      ],
      "text/latex": [
       "\\begin{enumerate*}\n",
       "\\item 5.18810210872373\n",
       "\\item 5.00430631298222\n",
       "\\item 6.36794967064644\n",
       "\\item 4.80610729719859\n",
       "\\item 4.6909428289566\n",
       "\\item 5.12066421027589\n",
       "\\end{enumerate*}\n"
      ],
      "text/markdown": [
       "1. 5.18810210872373\n",
       "2. 5.00430631298222\n",
       "3. 6.36794967064644\n",
       "4. 4.80610729719859\n",
       "5. 4.6909428289566\n",
       "6. 5.12066421027589\n",
       "\n",
       "\n"
      ],
      "text/plain": [
       "[1] 5.188102 5.004306 6.367950 4.806107 4.690943 5.120664"
      ]
     },
     "metadata": {},
     "output_type": "display_data"
    }
   ],
   "source": [
    "samp_mean = (sapply(samp, mean))\n",
    "head(samp_mean)"
   ]
  },
  {
   "cell_type": "code",
   "execution_count": 131,
   "id": "86434c66",
   "metadata": {
    "scrolled": true
   },
   "outputs": [
    {
     "data": {
      "image/png": "[encoded data removed]",
      "text/plain": [
       "Plot with title \"Histogram of sapply(samp, mean)\""
      ]
     },
     "metadata": {},
     "output_type": "display_data"
    }
   ],
   "source": [
    "hist(sapply(samp, mean))"
   ]
  },
  {
   "cell_type": "code",
   "execution_count": null,
   "id": "3af4705b",
   "metadata": {},
   "outputs": [],
   "source": []
  }
 ],
 "metadata": {
  "kernelspec": {
   "display_name": "R",
   "language": "R",
   "name": "ir"
  },
  "language_info": {
   "codemirror_mode": "r",
   "file_extension": ".r",
   "mimetype": "text/x-r-source",
   "name": "R",
   "pygments_lexer": "r",
   "version": "3.6.1"
  }
 },
 "nbformat": 4,
 "nbformat_minor": 5
}
