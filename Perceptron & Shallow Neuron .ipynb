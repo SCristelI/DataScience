{
 "cells": [
  {
   "cell_type": "markdown",
   "id": "135ecda2",
   "metadata": {},
   "source": [
    "### Perceptron & Shallow Neuron"
   ]
  },
  {
   "cell_type": "markdown",
   "id": "fb14407a",
   "metadata": {},
   "source": [
    "### Cristel "
   ]
  },
  {
   "cell_type": "code",
   "execution_count": 1,
   "id": "0465d087",
   "metadata": {},
   "outputs": [],
   "source": [
    "import pandas as pd\n",
    "import numpy as np\n",
    "import matplotlib.pyplot as plt\n",
    "import matplotlib\n",
    "import random \n",
    "from random import *\n",
    "from math import exp"
   ]
  },
  {
   "cell_type": "markdown",
   "id": "cffd7651",
   "metadata": {},
   "source": [
    "### Problem 1"
   ]
  },
  {
   "cell_type": "code",
   "execution_count": 2,
   "id": "5acf025e",
   "metadata": {},
   "outputs": [
    {
     "data": {
      "text/html": [
       "<div>\n",
       "<style scoped>\n",
       "    .dataframe tbody tr th:only-of-type {\n",
       "        vertical-align: middle;\n",
       "    }\n",
       "\n",
       "    .dataframe tbody tr th {\n",
       "        vertical-align: top;\n",
       "    }\n",
       "\n",
       "    .dataframe thead th {\n",
       "        text-align: right;\n",
       "    }\n",
       "</style>\n",
       "<table border=\"1\" class=\"dataframe\">\n",
       "  <thead>\n",
       "    <tr style=\"text-align: right;\">\n",
       "      <th></th>\n",
       "      <th>Ones</th>\n",
       "      <th>LevelOfViolence</th>\n",
       "      <th>CriticsRating</th>\n",
       "      <th>Watched</th>\n",
       "    </tr>\n",
       "  </thead>\n",
       "  <tbody>\n",
       "    <tr>\n",
       "      <th>0</th>\n",
       "      <td>1.0</td>\n",
       "      <td>1</td>\n",
       "      <td>1.2</td>\n",
       "      <td>-1</td>\n",
       "    </tr>\n",
       "    <tr>\n",
       "      <th>1</th>\n",
       "      <td>1.0</td>\n",
       "      <td>1</td>\n",
       "      <td>3.5</td>\n",
       "      <td>1</td>\n",
       "    </tr>\n",
       "    <tr>\n",
       "      <th>2</th>\n",
       "      <td>1.0</td>\n",
       "      <td>1</td>\n",
       "      <td>4.2</td>\n",
       "      <td>1</td>\n",
       "    </tr>\n",
       "    <tr>\n",
       "      <th>3</th>\n",
       "      <td>1.0</td>\n",
       "      <td>2</td>\n",
       "      <td>3.9</td>\n",
       "      <td>1</td>\n",
       "    </tr>\n",
       "    <tr>\n",
       "      <th>4</th>\n",
       "      <td>1.0</td>\n",
       "      <td>2</td>\n",
       "      <td>2.8</td>\n",
       "      <td>-1</td>\n",
       "    </tr>\n",
       "    <tr>\n",
       "      <th>5</th>\n",
       "      <td>1.0</td>\n",
       "      <td>3</td>\n",
       "      <td>3.0</td>\n",
       "      <td>-1</td>\n",
       "    </tr>\n",
       "    <tr>\n",
       "      <th>6</th>\n",
       "      <td>1.0</td>\n",
       "      <td>5</td>\n",
       "      <td>4.5</td>\n",
       "      <td>-1</td>\n",
       "    </tr>\n",
       "    <tr>\n",
       "      <th>7</th>\n",
       "      <td>1.0</td>\n",
       "      <td>4</td>\n",
       "      <td>1.8</td>\n",
       "      <td>-1</td>\n",
       "    </tr>\n",
       "    <tr>\n",
       "      <th>8</th>\n",
       "      <td>1.0</td>\n",
       "      <td>1</td>\n",
       "      <td>2.1</td>\n",
       "      <td>-1</td>\n",
       "    </tr>\n",
       "    <tr>\n",
       "      <th>9</th>\n",
       "      <td>1.0</td>\n",
       "      <td>3</td>\n",
       "      <td>4.8</td>\n",
       "      <td>1</td>\n",
       "    </tr>\n",
       "    <tr>\n",
       "      <th>10</th>\n",
       "      <td>1.0</td>\n",
       "      <td>5</td>\n",
       "      <td>4.9</td>\n",
       "      <td>1</td>\n",
       "    </tr>\n",
       "    <tr>\n",
       "      <th>11</th>\n",
       "      <td>1.0</td>\n",
       "      <td>3</td>\n",
       "      <td>1.5</td>\n",
       "      <td>-1</td>\n",
       "    </tr>\n",
       "    <tr>\n",
       "      <th>12</th>\n",
       "      <td>1.0</td>\n",
       "      <td>3</td>\n",
       "      <td>2.6</td>\n",
       "      <td>-1</td>\n",
       "    </tr>\n",
       "  </tbody>\n",
       "</table>\n",
       "</div>"
      ],
      "text/plain": [
       "    Ones  LevelOfViolence  CriticsRating  Watched\n",
       "0    1.0                1            1.2       -1\n",
       "1    1.0                1            3.5        1\n",
       "2    1.0                1            4.2        1\n",
       "3    1.0                2            3.9        1\n",
       "4    1.0                2            2.8       -1\n",
       "5    1.0                3            3.0       -1\n",
       "6    1.0                5            4.5       -1\n",
       "7    1.0                4            1.8       -1\n",
       "8    1.0                1            2.1       -1\n",
       "9    1.0                3            4.8        1\n",
       "10   1.0                5            4.9        1\n",
       "11   1.0                3            1.5       -1\n",
       "12   1.0                3            2.6       -1"
      ]
     },
     "execution_count": 2,
     "metadata": {},
     "output_type": "execute_result"
    }
   ],
   "source": [
    "Movie_data = pd.read_csv(\"movieData.csv\")\n",
    "Movie_df = np.ones(Movie_data.shape[0])\n",
    "Movie_data.insert(0,\"Ones\",Movie_df)\n",
    "Movie_data"
   ]
  },
  {
   "cell_type": "code",
   "execution_count": 3,
   "id": "81a0222c",
   "metadata": {},
   "outputs": [],
   "source": [
    "Watched = Movie_data[Movie_data[\"Watched\"] == 1]\n",
    "Not_Watched = Movie_data[Movie_data[\"Watched\"] == -1]"
   ]
  },
  {
   "cell_type": "code",
   "execution_count": 4,
   "id": "f45d88f1",
   "metadata": {},
   "outputs": [
    {
     "data": {
      "image/png": "[encoded data removed]",
      "text/plain": [
       "<Figure size 720x432 with 1 Axes>"
      ]
     },
     "metadata": {
      "needs_background": "light"
     },
     "output_type": "display_data"
    }
   ],
   "source": [
    "fig = plt.figure(figsize=(10,6))\n",
    "plt.scatter(Watched.LevelOfViolence,Watched.CriticsRating ,color='blue')\n",
    "plt.scatter(Not_Watched.LevelOfViolence,Not_Watched.CriticsRating ,color='green')\n",
    "plt.show()"
   ]
  },
  {
   "cell_type": "markdown",
   "id": "b26a7461",
   "metadata": {},
   "source": [
    "#### (a) Train a perceptron that will create a linear boundary decision that willhelp the company to make future recommendations to Ms. X. After how many iterations does the algorithm converge?"
   ]
  },
  {
   "cell_type": "code",
   "execution_count": 22,
   "id": "bdd74778",
   "metadata": {},
   "outputs": [],
   "source": [
    "def perceptron(Data, Labels, lr, Number_Of_Iterations):\n",
    "    \n",
    "    # Data --> Inputs\n",
    "    # Labels --> labels/target\n",
    "    # lr --> Learning Rate\n",
    "    # Number Of Iteration --> Epochs\n",
    "    \n",
    "    A,B = Data.shape\n",
    "    \n",
    "    \n",
    "    # Initializing parapeters(theta) to zeros.\n",
    "    # +1 in n+1 for the bias term.\n",
    "    \n",
    "    Theta = np.zeros((B, 1))\n",
    "    \n",
    "    # Empty list to store how many examples were \n",
    "    # misclassified at every iteration.\n",
    "    \n",
    "    n_miss_list = []\n",
    "    \n",
    "    # Training\n",
    "\n",
    "    for epoch in range(Number_Of_Iterations):\n",
    "        \n",
    "        # variable to store #misclassified.\n",
    "        n_miss = 0\n",
    "        \n",
    "        for i, x in enumerate(Data):\n",
    "            #print(np.dot(Data[i], Theta))\n",
    "            t = np.dot(Data[i], Theta)\n",
    "            k = 1.0 if (t > 0) else -1.0\n",
    "            \n",
    "            if (Labels[i] - k) != 0:\n",
    "                n_miss += 1\n",
    "                \n",
    "                Theta = Theta + (Data[i] * Labels[i]).reshape(3,1)\n",
    "                \n",
    "                \n",
    "                \n",
    "        n_miss_list.append(n_miss)\n",
    "        \n",
    "        plt.plot(n_miss_list)\n",
    "        plt.xlabel('Epoch')\n",
    "        plt.ylabel('Total Loss')\n",
    "        \n",
    "        \n",
    "    \n",
    "        \n",
    "    return Theta, n_miss_list"
   ]
  },
  {
   "cell_type": "code",
   "execution_count": 20,
   "id": "d23b4d3f",
   "metadata": {},
   "outputs": [
    {
     "data": {
      "image/png": "[encoded data removed]",
      "text/plain": [
       "<Figure size 720x432 with 1 Axes>"
      ]
     },
     "metadata": {
      "needs_background": "light"
     },
     "output_type": "display_data"
    }
   ],
   "source": [
    "fig = plt.figure(figsize=(10,6))\n",
    "Weights, Values = perceptron(Movie_data.iloc[:, :-1].values, Movie_data.iloc[:, -1].values, 1, 50)"
   ]
  },
  {
   "cell_type": "code",
   "execution_count": 7,
   "id": "f9eb07bb",
   "metadata": {},
   "outputs": [
    {
     "name": "stdout",
     "output_type": "stream",
     "text": [
      "[[-28. ]\n",
      " [ -9. ]\n",
      " [ 15.2]]\n"
     ]
    }
   ],
   "source": [
    "print(Weights)"
   ]
  },
  {
   "cell_type": "code",
   "execution_count": 35,
   "id": "cc96f8b5",
   "metadata": {},
   "outputs": [
    {
     "name": "stdout",
     "output_type": "stream",
     "text": [
      "The algorithm becomes stable on epoch 39 as the value becomes 0\n"
     ]
    }
   ],
   "source": [
    "print('The algorithm becomes stable on epoch', Values.index(0) + 1, 'as the value becomes 0')"
   ]
  },
  {
   "cell_type": "code",
   "execution_count": 8,
   "id": "74dcacfc",
   "metadata": {},
   "outputs": [
    {
     "name": "stdout",
     "output_type": "stream",
     "text": [
      "The slope is: 0.5921052631578945\n",
      "The intercept is: 1.842105263157894\n"
     ]
    }
   ],
   "source": [
    "Slope = -Weights[1][0] / Weights[2][0]\n",
    "Intercept = -Weights[0][0] / Weights[2][0]\n",
    "print(\"The slope is:\", Slope)\n",
    "print('The intercept is:', Intercept)"
   ]
  },
  {
   "cell_type": "markdown",
   "id": "090baa8e",
   "metadata": {},
   "source": [
    "#### (b) Upon creating a model, plot the boundary line along with all the datapoints and axes clearly marked."
   ]
  },
  {
   "cell_type": "code",
   "execution_count": 9,
   "id": "203fe45b",
   "metadata": {},
   "outputs": [
    {
     "data": {
      "image/png": "[encoded data removed]",
      "text/plain": [
       "<Figure size 720x432 with 1 Axes>"
      ]
     },
     "metadata": {
      "needs_background": "light"
     },
     "output_type": "display_data"
    }
   ],
   "source": [
    "xvalue = np.linspace(0,6)\n",
    "abline_values = [(Slope  * i) + Intercept for i in xvalue]\n",
    "fig = plt.figure(figsize=(10,6))\n",
    "colors=['blue','green']\n",
    "label=Movie_data['Watched']\n",
    "plt.scatter(Movie_data['LevelOfViolence'],  Movie_data['CriticsRating'],c=label, cmap=matplotlib.colors.ListedColormap(colors))\n",
    "plt.plot(xvalue, abline_values, 'red')  \n",
    "plt.show()"
   ]
  },
  {
   "cell_type": "markdown",
   "id": "e0944ac0",
   "metadata": {},
   "source": [
    "### Problem 2"
   ]
  },
  {
   "cell_type": "code",
   "execution_count": 27,
   "id": "3101f274",
   "metadata": {},
   "outputs": [
    {
     "data": {
      "text/html": [
       "<div>\n",
       "<style scoped>\n",
       "    .dataframe tbody tr th:only-of-type {\n",
       "        vertical-align: middle;\n",
       "    }\n",
       "\n",
       "    .dataframe tbody tr th {\n",
       "        vertical-align: top;\n",
       "    }\n",
       "\n",
       "    .dataframe thead th {\n",
       "        text-align: right;\n",
       "    }\n",
       "</style>\n",
       "<table border=\"1\" class=\"dataframe\">\n",
       "  <thead>\n",
       "    <tr style=\"text-align: right;\">\n",
       "      <th></th>\n",
       "      <th>x</th>\n",
       "      <th>y</th>\n",
       "    </tr>\n",
       "  </thead>\n",
       "  <tbody>\n",
       "    <tr>\n",
       "      <th>0</th>\n",
       "      <td>-0.889238</td>\n",
       "      <td>-0.334713</td>\n",
       "    </tr>\n",
       "    <tr>\n",
       "      <th>1</th>\n",
       "      <td>0.532539</td>\n",
       "      <td>0.898156</td>\n",
       "    </tr>\n",
       "    <tr>\n",
       "      <th>2</th>\n",
       "      <td>0.596540</td>\n",
       "      <td>0.870667</td>\n",
       "    </tr>\n",
       "    <tr>\n",
       "      <th>3</th>\n",
       "      <td>-0.375349</td>\n",
       "      <td>-0.713875</td>\n",
       "    </tr>\n",
       "    <tr>\n",
       "      <th>4</th>\n",
       "      <td>0.083465</td>\n",
       "      <td>0.401115</td>\n",
       "    </tr>\n",
       "  </tbody>\n",
       "</table>\n",
       "</div>"
      ],
      "text/plain": [
       "          x         y\n",
       "0 -0.889238 -0.334713\n",
       "1  0.532539  0.898156\n",
       "2  0.596540  0.870667\n",
       "3 -0.375349 -0.713875\n",
       "4  0.083465  0.401115"
      ]
     },
     "execution_count": 27,
     "metadata": {},
     "output_type": "execute_result"
    }
   ],
   "source": [
    "Co_df = pd.read_csv(\"siCoData.csv\")\n",
    "Co_df.head()"
   ]
  },
  {
   "cell_type": "markdown",
   "id": "74a3c444",
   "metadata": {},
   "source": [
    "#### (a)"
   ]
  },
  {
   "cell_type": "code",
   "execution_count": 11,
   "id": "abd38291",
   "metadata": {},
   "outputs": [],
   "source": [
    "#### Converting the data into a matrix\n",
    "CoData_df = np.matrix(Co_df)"
   ]
  },
  {
   "cell_type": "code",
   "execution_count": 12,
   "id": "78bc6409",
   "metadata": {},
   "outputs": [],
   "source": [
    "def tanh_derivative(num):\n",
    "    return (1.0 - np.power(np.tanh(num), 2))"
   ]
  },
  {
   "cell_type": "code",
   "execution_count": 13,
   "id": "e11bf333",
   "metadata": {},
   "outputs": [],
   "source": [
    "def Activation(Data, epochs):\n",
    "    \n",
    "    X = Data[:, :-1]\n",
    "    Y = Data[:, -1]\n",
    "    \n",
    "    # Generating random weights\n",
    "    W_0_1 = np.random.normal(size=(2, 2))\n",
    "    W_1_2 = np.random.normal(size=(3, 1))\n",
    "    Old_W_1_2 = W_1_2\n",
    "    \n",
    "    yhat = []\n",
    "    listoferror = []\n",
    "    for j in range(epochs):\n",
    "        epocherror = 0\n",
    "        Prediction = []\n",
    "        for i in range(len(X)):\n",
    "            # Forward Pass\n",
    "            X_val = np.insert(X[i], 0, 1) \n",
    "            Hidden_Init = np.dot(X_val, W_0_1) \n",
    "            Temp = np.tanh(Hidden_Init)\n",
    "            Temp = np.insert(Temp, 0, 1) \n",
    "            Hidden_Output = np.dot(Temp, W_1_2) \n",
    "            \n",
    "            Error = (Hidden_Output - Y[i])**2\n",
    "            \n",
    "            # Back Propogation\n",
    "            # Output --> hidden layer\n",
    "            D1 = (2*(Hidden_Output - Y[i])).item(0,0) \n",
    "            D2 = (tanh_derivative(Hidden_Output)).item(0,0) \n",
    "            D3 = Temp.reshape(3,1)\n",
    "            D3[0][0] = 0 \n",
    "            Total_Delta = D1*D2*D3\n",
    "            \n",
    "            W_1_2 = W_1_2 - Total_Delta*0.1\n",
    "            \n",
    "            D3 = Old_W_1_2[1][0]\n",
    "            D4 = tanh_derivative(Hidden_Init.item(0,0))\n",
    "            D5 = X_val\n",
    "            Total_Delta_1 = D1*D2*D3*D4*D5\n",
    "            W_0_1 = W_0_1.T\n",
    "\n",
    "            W_0_1[0] = W_0_1[0] - Total_Delta_1*0.1\n",
    "            \n",
    "            D3 = Old_W_1_2[2][0]\n",
    "            D4 = tanh_derivative(Hidden_Init.item(0,1))\n",
    "            D5 = X_val\n",
    "            Total_Delta_2 = D1*D2*D3*D4*D5\n",
    "            \n",
    "            W_0_1[1] = W_0_1[1] - Total_Delta_2*0.1\n",
    "            \n",
    "            W_0_1 = W_0_1.T\n",
    "            Old_W_1_2 = W_1_2\n",
    "            \n",
    "            epocherror += Error\n",
    "            Prediction.append(Hidden_Output)\n",
    "            \n",
    "        yhat.append(Prediction)\n",
    "        listoferror.append(epocherror/250)\n",
    "            \n",
    "    return yhat, listoferror"
   ]
  },
  {
   "cell_type": "code",
   "execution_count": 14,
   "id": "5731ca3d",
   "metadata": {},
   "outputs": [],
   "source": [
    "Data, err = Activation(CoData_df, 300)"
   ]
  },
  {
   "cell_type": "markdown",
   "id": "786f2668",
   "metadata": {},
   "source": [
    "#### (b)"
   ]
  },
  {
   "cell_type": "markdown",
   "id": "0b6fc468",
   "metadata": {},
   "source": [
    "#### Plotting the orignal data"
   ]
  },
  {
   "cell_type": "code",
   "execution_count": 15,
   "id": "4619a5db",
   "metadata": {},
   "outputs": [
    {
     "data": {
      "text/plain": [
       "<matplotlib.collections.PathCollection at 0x7fbcc2b7f970>"
      ]
     },
     "execution_count": 15,
     "metadata": {},
     "output_type": "execute_result"
    },
    {
     "data": {
      "image/png": "[encoded data removed]",
      "text/plain": [
       "<Figure size 432x288 with 1 Axes>"
      ]
     },
     "metadata": {
      "needs_background": "light"
     },
     "output_type": "display_data"
    }
   ],
   "source": [
    "plt.scatter(Co_df.x, Co_df.y)"
   ]
  },
  {
   "cell_type": "markdown",
   "id": "ab55afb2",
   "metadata": {},
   "source": [
    "#### Plotting the predicted values"
   ]
  },
  {
   "cell_type": "code",
   "execution_count": 16,
   "id": "ec36288b",
   "metadata": {},
   "outputs": [
    {
     "data": {
      "image/png": "[encoded data removed]",
      "text/plain": [
       "<Figure size 432x288 with 1 Axes>"
      ]
     },
     "metadata": {
      "needs_background": "light"
     },
     "output_type": "display_data"
    }
   ],
   "source": [
    "plt.scatter(Co_df.x, Data[np.argmin(err)])\n",
    "plt.show()"
   ]
  },
  {
   "cell_type": "code",
   "execution_count": null,
   "id": "0b4134ba",
   "metadata": {},
   "outputs": [],
   "source": []
  }
 ],
 "metadata": {
  "kernelspec": {
   "display_name": "Python 3 (ipykernel)",
   "language": "python",
   "name": "python3"
  },
  "language_info": {
   "codemirror_mode": {
    "name": "ipython",
    "version": 3
   },
   "file_extension": ".py",
   "mimetype": "text/x-python",
   "name": "python",
   "nbconvert_exporter": "python",
   "pygments_lexer": "ipython3",
   "version": "3.9.7"
  }
 },
 "nbformat": 4,
 "nbformat_minor": 5
}
