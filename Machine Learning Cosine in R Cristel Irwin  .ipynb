{
 "cells": [
  {
   "cell_type": "markdown",
   "id": "3a631d3c",
   "metadata": {},
   "source": [
    "# Cristel Irwin"
   ]
  },
  {
   "cell_type": "markdown",
   "id": "2197b747",
   "metadata": {},
   "source": [
    "Find the senator whose voting record is closest to Rhode Island senator, Lincoln Chafee.\n",
    "Sen. Jeffords\n",
    "\n",
    "Find the senator who disagrees most with Pennsylvania senator, Rick Santorum.\n",
    "Sen Feingold\n",
    "\n",
    "Vermont senator Jim Jeffords was an Independent. Choose 5 Democratic and 5 Republican (or more) senators. You should try to do this randomly. Compare Jefford's record with each of these 10 senators.\n",
    "\n",
    "Would you classify Jeffords as closer to the Democrats or a Republicans?\n",
    "Democrat"
   ]
  },
  {
   "cell_type": "code",
   "execution_count": 3,
   "id": "739a46ef",
   "metadata": {},
   "outputs": [],
   "source": [
    "Senate_votes <- read.csv(\"C:/Users/Sandy/Desktop/R CSV FILES/SenateVote.csv\")"
   ]
  },
  {
   "cell_type": "code",
   "execution_count": 4,
   "id": "dac3ba85",
   "metadata": {},
   "outputs": [],
   "source": [
    "#colnames(Senate_votes)"
   ]
  },
  {
   "cell_type": "code",
   "execution_count": 5,
   "id": "b3d4cdbf",
   "metadata": {},
   "outputs": [],
   "source": [
    "#summary(Senate_votes)"
   ]
  },
  {
   "cell_type": "code",
   "execution_count": 6,
   "id": "6f7798e4",
   "metadata": {},
   "outputs": [],
   "source": [
    "#head(Senate_votes, 5)"
   ]
  },
  {
   "cell_type": "code",
   "execution_count": 7,
   "id": "450ce1b5",
   "metadata": {},
   "outputs": [],
   "source": [
    "#Senate_votes_dim <- dim(Senate_votes)\n",
    "#print(Senate_votes_dim)"
   ]
  },
  {
   "cell_type": "code",
   "execution_count": 8,
   "id": "d549edef",
   "metadata": {},
   "outputs": [],
   "source": [
    "Senate_votes[is.na(Senate_votes)]<-0"
   ]
  },
  {
   "cell_type": "code",
   "execution_count": 9,
   "id": "067fc2db",
   "metadata": {},
   "outputs": [],
   "source": [
    "Senate_votes_matrix <- as.matrix(Senate_votes[1:99,4:49])"
   ]
  },
  {
   "cell_type": "code",
   "execution_count": 10,
   "id": "868f98f5",
   "metadata": {},
   "outputs": [],
   "source": [
    "#cos(Senate_votes_matrix)\n",
    "#head(Senate_votes_matrix, 5)"
   ]
  },
  {
   "cell_type": "code",
   "execution_count": 11,
   "id": "ac9032c7",
   "metadata": {},
   "outputs": [],
   "source": [
    "Senators_addnames <- Senate_votes_matrix"
   ]
  },
  {
   "cell_type": "code",
   "execution_count": 12,
   "id": "c9411526",
   "metadata": {},
   "outputs": [],
   "source": [
    "row_vec <- Senate_votes$Name"
   ]
  },
  {
   "cell_type": "code",
   "execution_count": 13,
   "id": "433fb700",
   "metadata": {},
   "outputs": [],
   "source": [
    "rownames(Senators_addnames) <- row_vec"
   ]
  },
  {
   "cell_type": "code",
   "execution_count": 14,
   "id": "4e3c1ba2",
   "metadata": {},
   "outputs": [
    {
     "data": {
      "text/html": [
       "<dl class=dl-horizontal>\n",
       "\t<dt>Lugar</dt>\n",
       "\t\t<dd>46</dd>\n",
       "\t<dt>Murkowski</dt>\n",
       "\t\t<dd>46</dd>\n",
       "\t<dt>Smith</dt>\n",
       "\t\t<dd>46</dd>\n",
       "\t<dt>Warner</dt>\n",
       "\t\t<dd>46</dd>\n",
       "\t<dt>Bennett</dt>\n",
       "\t\t<dd>45</dd>\n",
       "\t<dt>Stevens</dt>\n",
       "\t\t<dd>45</dd>\n",
       "\t<dt>Cochran</dt>\n",
       "\t\t<dd>44</dd>\n",
       "\t<dt>Frist</dt>\n",
       "\t\t<dd>44</dd>\n",
       "\t<dt>McConnell</dt>\n",
       "\t\t<dd>44</dd>\n",
       "\t<dt>Domenici</dt>\n",
       "\t\t<dd>43</dd>\n",
       "\t<dt>Hatch</dt>\n",
       "\t\t<dd>43</dd>\n",
       "\t<dt>Allen</dt>\n",
       "\t\t<dd>42</dd>\n",
       "\t<dt>Bond</dt>\n",
       "\t\t<dd>42</dd>\n",
       "\t<dt>Brownback</dt>\n",
       "\t\t<dd>42</dd>\n",
       "\t<dt>Grassley</dt>\n",
       "\t\t<dd>42</dd>\n",
       "\t<dt>Hagel</dt>\n",
       "\t\t<dd>42</dd>\n",
       "\t<dt>Hutchison</dt>\n",
       "\t\t<dd>42</dd>\n",
       "\t<dt>Roberts</dt>\n",
       "\t\t<dd>42</dd>\n",
       "\t<dt>Talent</dt>\n",
       "\t\t<dd>42</dd>\n",
       "\t<dt>Alexander</dt>\n",
       "\t\t<dd>41</dd>\n",
       "\t<dt>Landrieu</dt>\n",
       "\t\t<dd>41</dd>\n",
       "\t<dt>Lott</dt>\n",
       "\t\t<dd>41</dd>\n",
       "\t<dt>Santorum</dt>\n",
       "\t\t<dd>41</dd>\n",
       "\t<dt>Allard</dt>\n",
       "\t\t<dd>40</dd>\n",
       "\t<dt>Chambliss</dt>\n",
       "\t\t<dd>40</dd>\n",
       "\t<dt>DeWine</dt>\n",
       "\t\t<dd>40</dd>\n",
       "\t<dt>Isakson</dt>\n",
       "\t\t<dd>40</dd>\n",
       "\t<dt>Martinez</dt>\n",
       "\t\t<dd>40</dd>\n",
       "\t<dt>Nelson2</dt>\n",
       "\t\t<dd>40</dd>\n",
       "\t<dt>Pryor</dt>\n",
       "\t\t<dd>40</dd>\n",
       "\t<dt>Voinovich</dt>\n",
       "\t\t<dd>40</dd>\n",
       "\t<dt>Coleman</dt>\n",
       "\t\t<dd>39</dd>\n",
       "\t<dt>Sessions</dt>\n",
       "\t\t<dd>39</dd>\n",
       "\t<dt>Specter</dt>\n",
       "\t\t<dd>39</dd>\n",
       "\t<dt>Bunning</dt>\n",
       "\t\t<dd>38</dd>\n",
       "\t<dt>Burns</dt>\n",
       "\t\t<dd>38</dd>\n",
       "\t<dt>Carper</dt>\n",
       "\t\t<dd>38</dd>\n",
       "\t<dt>Cornyn</dt>\n",
       "\t\t<dd>38</dd>\n",
       "\t<dt>Dole</dt>\n",
       "\t\t<dd>38</dd>\n",
       "\t<dt>Kyl</dt>\n",
       "\t\t<dd>38</dd>\n",
       "\t<dt>Nelson1</dt>\n",
       "\t\t<dd>38</dd>\n",
       "\t<dt>Gregg</dt>\n",
       "\t\t<dd>37</dd>\n",
       "\t<dt>Shelby</dt>\n",
       "\t\t<dd>37</dd>\n",
       "\t<dt>Thune</dt>\n",
       "\t\t<dd>37</dd>\n",
       "\t<dt>Craig</dt>\n",
       "\t\t<dd>36</dd>\n",
       "\t<dt>Vitter</dt>\n",
       "\t\t<dd>36</dd>\n",
       "\t<dt>Crapo</dt>\n",
       "\t\t<dd>35</dd>\n",
       "\t<dt>DeMint</dt>\n",
       "\t\t<dd>35</dd>\n",
       "\t<dt>Salazar</dt>\n",
       "\t\t<dd>35</dd>\n",
       "\t<dt>Ensign</dt>\n",
       "\t\t<dd>34</dd>\n",
       "\t<dt>Graham</dt>\n",
       "\t\t<dd>34</dd>\n",
       "\t<dt>Lincoln</dt>\n",
       "\t\t<dd>34</dd>\n",
       "\t<dt>McCain</dt>\n",
       "\t\t<dd>34</dd>\n",
       "\t<dt>Snowe</dt>\n",
       "\t\t<dd>33</dd>\n",
       "\t<dt>Burr</dt>\n",
       "\t\t<dd>32</dd>\n",
       "\t<dt>Cantwell</dt>\n",
       "\t\t<dd>32</dd>\n",
       "\t<dt>Collins</dt>\n",
       "\t\t<dd>32</dd>\n",
       "\t<dt>Enzi</dt>\n",
       "\t\t<dd>32</dd>\n",
       "\t<dt>Johnson</dt>\n",
       "\t\t<dd>32</dd>\n",
       "\t<dt>Thomas</dt>\n",
       "\t\t<dd>32</dd>\n",
       "\t<dt>Feinstein</dt>\n",
       "\t\t<dd>31</dd>\n",
       "\t<dt>Inhofe</dt>\n",
       "\t\t<dd>31</dd>\n",
       "\t<dt>Baucus</dt>\n",
       "\t\t<dd>30</dd>\n",
       "\t<dt>Clinton</dt>\n",
       "\t\t<dd>30</dd>\n",
       "\t<dt>Chafee</dt>\n",
       "\t\t<dd>29</dd>\n",
       "\t<dt>Jeffords</dt>\n",
       "\t\t<dd>29</dd>\n",
       "\t<dt>Sununu</dt>\n",
       "\t\t<dd>29</dd>\n",
       "\t<dt>Stabenow</dt>\n",
       "\t\t<dd>27</dd>\n",
       "\t<dt>Kohl</dt>\n",
       "\t\t<dd>26</dd>\n",
       "\t<dt>Bingaman</dt>\n",
       "\t\t<dd>25</dd>\n",
       "\t<dt>Murray</dt>\n",
       "\t\t<dd>25</dd>\n",
       "\t<dt>Schumer</dt>\n",
       "\t\t<dd>25</dd>\n",
       "\t<dt>Bayh</dt>\n",
       "\t\t<dd>24</dd>\n",
       "\t<dt>Conrad</dt>\n",
       "\t\t<dd>24</dd>\n",
       "\t<dt>Obama</dt>\n",
       "\t\t<dd>24</dd>\n",
       "\t<dt>Reid</dt>\n",
       "\t\t<dd>24</dd>\n",
       "\t<dt>Coburn</dt>\n",
       "\t\t<dd>23</dd>\n",
       "\t<dt>Lieberman</dt>\n",
       "\t\t<dd>23</dd>\n",
       "\t<dt>Biden</dt>\n",
       "\t\t<dd>22</dd>\n",
       "\t<dt>Dayton</dt>\n",
       "\t\t<dd>22</dd>\n",
       "\t<dt>Rockefeller</dt>\n",
       "\t\t<dd>22</dd>\n",
       "\t<dt>Wyden</dt>\n",
       "\t\t<dd>22</dd>\n",
       "\t<dt>Dodd</dt>\n",
       "\t\t<dd>21</dd>\n",
       "\t<dt>Dorgan</dt>\n",
       "\t\t<dd>20</dd>\n",
       "\t<dt>Kerry</dt>\n",
       "\t\t<dd>20</dd>\n",
       "\t<dt>Byrd</dt>\n",
       "\t\t<dd>19</dd>\n",
       "\t<dt>Inouye</dt>\n",
       "\t\t<dd>19</dd>\n",
       "\t<dt>Durbin</dt>\n",
       "\t\t<dd>18</dd>\n",
       "\t<dt>Kennedy</dt>\n",
       "\t\t<dd>18</dd>\n",
       "\t<dt>Lautenberg</dt>\n",
       "\t\t<dd>18</dd>\n",
       "\t<dt>Levin</dt>\n",
       "\t\t<dd>18</dd>\n",
       "\t<dt>Mikulski</dt>\n",
       "\t\t<dd>18</dd>\n",
       "\t<dt>Reed</dt>\n",
       "\t\t<dd>18</dd>\n",
       "\t<dt>Sarbanes</dt>\n",
       "\t\t<dd>18</dd>\n",
       "\t<dt>Boxer</dt>\n",
       "\t\t<dd>17</dd>\n",
       "\t<dt>Harkin</dt>\n",
       "\t\t<dd>17</dd>\n",
       "\t<dt>Akaka</dt>\n",
       "\t\t<dd>16</dd>\n",
       "\t<dt>Leahy</dt>\n",
       "\t\t<dd>16</dd>\n",
       "\t<dt>Feingold</dt>\n",
       "\t\t<dd>6</dd>\n",
       "</dl>\n"
      ],
      "text/latex": [
       "\\begin{description*}\n",
       "\\item[Lugar] 46\n",
       "\\item[Murkowski] 46\n",
       "\\item[Smith] 46\n",
       "\\item[Warner] 46\n",
       "\\item[Bennett] 45\n",
       "\\item[Stevens] 45\n",
       "\\item[Cochran] 44\n",
       "\\item[Frist] 44\n",
       "\\item[McConnell] 44\n",
       "\\item[Domenici] 43\n",
       "\\item[Hatch] 43\n",
       "\\item[Allen] 42\n",
       "\\item[Bond] 42\n",
       "\\item[Brownback] 42\n",
       "\\item[Grassley] 42\n",
       "\\item[Hagel] 42\n",
       "\\item[Hutchison] 42\n",
       "\\item[Roberts] 42\n",
       "\\item[Talent] 42\n",
       "\\item[Alexander] 41\n",
       "\\item[Landrieu] 41\n",
       "\\item[Lott] 41\n",
       "\\item[Santorum] 41\n",
       "\\item[Allard] 40\n",
       "\\item[Chambliss] 40\n",
       "\\item[DeWine] 40\n",
       "\\item[Isakson] 40\n",
       "\\item[Martinez] 40\n",
       "\\item[Nelson2] 40\n",
       "\\item[Pryor] 40\n",
       "\\item[Voinovich] 40\n",
       "\\item[Coleman] 39\n",
       "\\item[Sessions] 39\n",
       "\\item[Specter] 39\n",
       "\\item[Bunning] 38\n",
       "\\item[Burns] 38\n",
       "\\item[Carper] 38\n",
       "\\item[Cornyn] 38\n",
       "\\item[Dole] 38\n",
       "\\item[Kyl] 38\n",
       "\\item[Nelson1] 38\n",
       "\\item[Gregg] 37\n",
       "\\item[Shelby] 37\n",
       "\\item[Thune] 37\n",
       "\\item[Craig] 36\n",
       "\\item[Vitter] 36\n",
       "\\item[Crapo] 35\n",
       "\\item[DeMint] 35\n",
       "\\item[Salazar] 35\n",
       "\\item[Ensign] 34\n",
       "\\item[Graham] 34\n",
       "\\item[Lincoln] 34\n",
       "\\item[McCain] 34\n",
       "\\item[Snowe] 33\n",
       "\\item[Burr] 32\n",
       "\\item[Cantwell] 32\n",
       "\\item[Collins] 32\n",
       "\\item[Enzi] 32\n",
       "\\item[Johnson] 32\n",
       "\\item[Thomas] 32\n",
       "\\item[Feinstein] 31\n",
       "\\item[Inhofe] 31\n",
       "\\item[Baucus] 30\n",
       "\\item[Clinton] 30\n",
       "\\item[Chafee] 29\n",
       "\\item[Jeffords] 29\n",
       "\\item[Sununu] 29\n",
       "\\item[Stabenow] 27\n",
       "\\item[Kohl] 26\n",
       "\\item[Bingaman] 25\n",
       "\\item[Murray] 25\n",
       "\\item[Schumer] 25\n",
       "\\item[Bayh] 24\n",
       "\\item[Conrad] 24\n",
       "\\item[Obama] 24\n",
       "\\item[Reid] 24\n",
       "\\item[Coburn] 23\n",
       "\\item[Lieberman] 23\n",
       "\\item[Biden] 22\n",
       "\\item[Dayton] 22\n",
       "\\item[Rockefeller] 22\n",
       "\\item[Wyden] 22\n",
       "\\item[Dodd] 21\n",
       "\\item[Dorgan] 20\n",
       "\\item[Kerry] 20\n",
       "\\item[Byrd] 19\n",
       "\\item[Inouye] 19\n",
       "\\item[Durbin] 18\n",
       "\\item[Kennedy] 18\n",
       "\\item[Lautenberg] 18\n",
       "\\item[Levin] 18\n",
       "\\item[Mikulski] 18\n",
       "\\item[Reed] 18\n",
       "\\item[Sarbanes] 18\n",
       "\\item[Boxer] 17\n",
       "\\item[Harkin] 17\n",
       "\\item[Akaka] 16\n",
       "\\item[Leahy] 16\n",
       "\\item[Feingold] 6\n",
       "\\end{description*}\n"
      ],
      "text/markdown": [
       "Lugar\n",
       ":   46Murkowski\n",
       ":   46Smith\n",
       ":   46Warner\n",
       ":   46Bennett\n",
       ":   45Stevens\n",
       ":   45Cochran\n",
       ":   44Frist\n",
       ":   44McConnell\n",
       ":   44Domenici\n",
       ":   43Hatch\n",
       ":   43Allen\n",
       ":   42Bond\n",
       ":   42Brownback\n",
       ":   42Grassley\n",
       ":   42Hagel\n",
       ":   42Hutchison\n",
       ":   42Roberts\n",
       ":   42Talent\n",
       ":   42Alexander\n",
       ":   41Landrieu\n",
       ":   41Lott\n",
       ":   41Santorum\n",
       ":   41Allard\n",
       ":   40Chambliss\n",
       ":   40DeWine\n",
       ":   40Isakson\n",
       ":   40Martinez\n",
       ":   40Nelson2\n",
       ":   40Pryor\n",
       ":   40Voinovich\n",
       ":   40Coleman\n",
       ":   39Sessions\n",
       ":   39Specter\n",
       ":   39Bunning\n",
       ":   38Burns\n",
       ":   38Carper\n",
       ":   38Cornyn\n",
       ":   38Dole\n",
       ":   38Kyl\n",
       ":   38Nelson1\n",
       ":   38Gregg\n",
       ":   37Shelby\n",
       ":   37Thune\n",
       ":   37Craig\n",
       ":   36Vitter\n",
       ":   36Crapo\n",
       ":   35DeMint\n",
       ":   35Salazar\n",
       ":   35Ensign\n",
       ":   34Graham\n",
       ":   34Lincoln\n",
       ":   34McCain\n",
       ":   34Snowe\n",
       ":   33Burr\n",
       ":   32Cantwell\n",
       ":   32Collins\n",
       ":   32Enzi\n",
       ":   32Johnson\n",
       ":   32Thomas\n",
       ":   32Feinstein\n",
       ":   31Inhofe\n",
       ":   31Baucus\n",
       ":   30Clinton\n",
       ":   30Chafee\n",
       ":   29Jeffords\n",
       ":   29Sununu\n",
       ":   29Stabenow\n",
       ":   27Kohl\n",
       ":   26Bingaman\n",
       ":   25Murray\n",
       ":   25Schumer\n",
       ":   25Bayh\n",
       ":   24Conrad\n",
       ":   24Obama\n",
       ":   24Reid\n",
       ":   24Coburn\n",
       ":   23Lieberman\n",
       ":   23Biden\n",
       ":   22Dayton\n",
       ":   22Rockefeller\n",
       ":   22Wyden\n",
       ":   22Dodd\n",
       ":   21Dorgan\n",
       ":   20Kerry\n",
       ":   20Byrd\n",
       ":   19Inouye\n",
       ":   19Durbin\n",
       ":   18Kennedy\n",
       ":   18Lautenberg\n",
       ":   18Levin\n",
       ":   18Mikulski\n",
       ":   18Reed\n",
       ":   18Sarbanes\n",
       ":   18Boxer\n",
       ":   17Harkin\n",
       ":   17Akaka\n",
       ":   16Leahy\n",
       ":   16Feingold\n",
       ":   6\n",
       "\n"
      ],
      "text/plain": [
       "      Lugar   Murkowski       Smith      Warner     Bennett     Stevens \n",
       "         46          46          46          46          45          45 \n",
       "    Cochran       Frist   McConnell    Domenici       Hatch       Allen \n",
       "         44          44          44          43          43          42 \n",
       "       Bond   Brownback    Grassley       Hagel   Hutchison     Roberts \n",
       "         42          42          42          42          42          42 \n",
       "     Talent   Alexander    Landrieu        Lott    Santorum      Allard \n",
       "         42          41          41          41          41          40 \n",
       "  Chambliss      DeWine     Isakson    Martinez     Nelson2       Pryor \n",
       "         40          40          40          40          40          40 \n",
       "  Voinovich     Coleman    Sessions     Specter     Bunning       Burns \n",
       "         40          39          39          39          38          38 \n",
       "     Carper      Cornyn        Dole         Kyl     Nelson1       Gregg \n",
       "         38          38          38          38          38          37 \n",
       "     Shelby       Thune       Craig      Vitter       Crapo      DeMint \n",
       "         37          37          36          36          35          35 \n",
       "    Salazar      Ensign      Graham     Lincoln      McCain       Snowe \n",
       "         35          34          34          34          34          33 \n",
       "       Burr    Cantwell     Collins        Enzi     Johnson      Thomas \n",
       "         32          32          32          32          32          32 \n",
       "  Feinstein      Inhofe      Baucus     Clinton      Chafee    Jeffords \n",
       "         31          31          30          30          29          29 \n",
       "     Sununu    Stabenow        Kohl    Bingaman      Murray     Schumer \n",
       "         29          27          26          25          25          25 \n",
       "       Bayh      Conrad       Obama        Reid      Coburn   Lieberman \n",
       "         24          24          24          24          23          23 \n",
       "      Biden      Dayton Rockefeller       Wyden        Dodd      Dorgan \n",
       "         22          22          22          22          21          20 \n",
       "      Kerry        Byrd      Inouye      Durbin     Kennedy  Lautenberg \n",
       "         20          19          19          18          18          18 \n",
       "      Levin    Mikulski        Reed    Sarbanes       Boxer      Harkin \n",
       "         18          18          18          18          17          17 \n",
       "      Akaka       Leahy    Feingold \n",
       "         16          16           6 "
      ]
     },
     "metadata": {},
     "output_type": "display_data"
    }
   ],
   "source": [
    "Names.sort <- rowSums(Senators_addnames)\n",
    "sort(Names.sort, decreasing=TRUE)"
   ]
  },
  {
   "cell_type": "code",
   "execution_count": 15,
   "id": "3af13480",
   "metadata": {},
   "outputs": [
    {
     "data": {
      "text/html": [
       "<dl class=dl-horizontal>\n",
       "\t<dt>Lugar</dt>\n",
       "\t\t<dd>1</dd>\n",
       "\t<dt>Murkowski</dt>\n",
       "\t\t<dd>1</dd>\n",
       "\t<dt>Smith</dt>\n",
       "\t\t<dd>1</dd>\n",
       "\t<dt>Warner</dt>\n",
       "\t\t<dd>1</dd>\n",
       "\t<dt>Bennett</dt>\n",
       "\t\t<dd>0.978260869565217</dd>\n",
       "\t<dt>Stevens</dt>\n",
       "\t\t<dd>0.978260869565217</dd>\n",
       "\t<dt>Cochran</dt>\n",
       "\t\t<dd>0.956521739130435</dd>\n",
       "\t<dt>Frist</dt>\n",
       "\t\t<dd>0.956521739130435</dd>\n",
       "\t<dt>McConnell</dt>\n",
       "\t\t<dd>0.956521739130435</dd>\n",
       "\t<dt>Domenici</dt>\n",
       "\t\t<dd>0.934782608695652</dd>\n",
       "\t<dt>Hatch</dt>\n",
       "\t\t<dd>0.934782608695652</dd>\n",
       "\t<dt>Allen</dt>\n",
       "\t\t<dd>0.91304347826087</dd>\n",
       "\t<dt>Bond</dt>\n",
       "\t\t<dd>0.91304347826087</dd>\n",
       "\t<dt>Brownback</dt>\n",
       "\t\t<dd>0.91304347826087</dd>\n",
       "\t<dt>Grassley</dt>\n",
       "\t\t<dd>0.91304347826087</dd>\n",
       "\t<dt>Hagel</dt>\n",
       "\t\t<dd>0.91304347826087</dd>\n",
       "\t<dt>Hutchison</dt>\n",
       "\t\t<dd>0.91304347826087</dd>\n",
       "\t<dt>Roberts</dt>\n",
       "\t\t<dd>0.91304347826087</dd>\n",
       "\t<dt>Talent</dt>\n",
       "\t\t<dd>0.91304347826087</dd>\n",
       "\t<dt>Alexander</dt>\n",
       "\t\t<dd>0.891304347826087</dd>\n",
       "\t<dt>Landrieu</dt>\n",
       "\t\t<dd>0.891304347826087</dd>\n",
       "\t<dt>Lott</dt>\n",
       "\t\t<dd>0.891304347826087</dd>\n",
       "\t<dt>Santorum</dt>\n",
       "\t\t<dd>0.891304347826087</dd>\n",
       "\t<dt>Allard</dt>\n",
       "\t\t<dd>0.869565217391304</dd>\n",
       "\t<dt>Chambliss</dt>\n",
       "\t\t<dd>0.869565217391304</dd>\n",
       "\t<dt>DeWine</dt>\n",
       "\t\t<dd>0.869565217391304</dd>\n",
       "\t<dt>Isakson</dt>\n",
       "\t\t<dd>0.869565217391304</dd>\n",
       "\t<dt>Martinez</dt>\n",
       "\t\t<dd>0.869565217391304</dd>\n",
       "\t<dt>Nelson2</dt>\n",
       "\t\t<dd>0.869565217391304</dd>\n",
       "\t<dt>Pryor</dt>\n",
       "\t\t<dd>0.869565217391304</dd>\n",
       "\t<dt>Voinovich</dt>\n",
       "\t\t<dd>0.869565217391304</dd>\n",
       "\t<dt>Coleman</dt>\n",
       "\t\t<dd>0.847826086956522</dd>\n",
       "\t<dt>Sessions</dt>\n",
       "\t\t<dd>0.847826086956522</dd>\n",
       "\t<dt>Specter</dt>\n",
       "\t\t<dd>0.847826086956522</dd>\n",
       "\t<dt>Bunning</dt>\n",
       "\t\t<dd>0.826086956521739</dd>\n",
       "\t<dt>Burns</dt>\n",
       "\t\t<dd>0.826086956521739</dd>\n",
       "\t<dt>Carper</dt>\n",
       "\t\t<dd>0.826086956521739</dd>\n",
       "\t<dt>Cornyn</dt>\n",
       "\t\t<dd>0.826086956521739</dd>\n",
       "\t<dt>Dole</dt>\n",
       "\t\t<dd>0.826086956521739</dd>\n",
       "\t<dt>Kyl</dt>\n",
       "\t\t<dd>0.826086956521739</dd>\n",
       "\t<dt>Nelson1</dt>\n",
       "\t\t<dd>0.826086956521739</dd>\n",
       "\t<dt>Gregg</dt>\n",
       "\t\t<dd>0.804347826086957</dd>\n",
       "\t<dt>Shelby</dt>\n",
       "\t\t<dd>0.804347826086957</dd>\n",
       "\t<dt>Thune</dt>\n",
       "\t\t<dd>0.804347826086957</dd>\n",
       "\t<dt>Craig</dt>\n",
       "\t\t<dd>0.782608695652174</dd>\n",
       "\t<dt>Vitter</dt>\n",
       "\t\t<dd>0.782608695652174</dd>\n",
       "\t<dt>Crapo</dt>\n",
       "\t\t<dd>0.760869565217391</dd>\n",
       "\t<dt>DeMint</dt>\n",
       "\t\t<dd>0.760869565217391</dd>\n",
       "\t<dt>Salazar</dt>\n",
       "\t\t<dd>0.760869565217391</dd>\n",
       "\t<dt>Ensign</dt>\n",
       "\t\t<dd>0.739130434782609</dd>\n",
       "\t<dt>Graham</dt>\n",
       "\t\t<dd>0.739130434782609</dd>\n",
       "\t<dt>Lincoln</dt>\n",
       "\t\t<dd>0.739130434782609</dd>\n",
       "\t<dt>McCain</dt>\n",
       "\t\t<dd>0.739130434782609</dd>\n",
       "\t<dt>Snowe</dt>\n",
       "\t\t<dd>0.717391304347826</dd>\n",
       "\t<dt>Burr</dt>\n",
       "\t\t<dd>0.695652173913043</dd>\n",
       "\t<dt>Cantwell</dt>\n",
       "\t\t<dd>0.695652173913043</dd>\n",
       "\t<dt>Collins</dt>\n",
       "\t\t<dd>0.695652173913043</dd>\n",
       "\t<dt>Enzi</dt>\n",
       "\t\t<dd>0.695652173913043</dd>\n",
       "\t<dt>Johnson</dt>\n",
       "\t\t<dd>0.695652173913043</dd>\n",
       "\t<dt>Thomas</dt>\n",
       "\t\t<dd>0.695652173913043</dd>\n",
       "\t<dt>Feinstein</dt>\n",
       "\t\t<dd>0.673913043478261</dd>\n",
       "\t<dt>Inhofe</dt>\n",
       "\t\t<dd>0.673913043478261</dd>\n",
       "\t<dt>Baucus</dt>\n",
       "\t\t<dd>0.652173913043478</dd>\n",
       "\t<dt>Clinton</dt>\n",
       "\t\t<dd>0.652173913043478</dd>\n",
       "\t<dt>Chafee</dt>\n",
       "\t\t<dd>0.630434782608696</dd>\n",
       "\t<dt>Jeffords</dt>\n",
       "\t\t<dd>0.630434782608696</dd>\n",
       "\t<dt>Sununu</dt>\n",
       "\t\t<dd>0.630434782608696</dd>\n",
       "\t<dt>Stabenow</dt>\n",
       "\t\t<dd>0.58695652173913</dd>\n",
       "\t<dt>Kohl</dt>\n",
       "\t\t<dd>0.565217391304348</dd>\n",
       "\t<dt>Bingaman</dt>\n",
       "\t\t<dd>0.543478260869565</dd>\n",
       "\t<dt>Murray</dt>\n",
       "\t\t<dd>0.543478260869565</dd>\n",
       "\t<dt>Schumer</dt>\n",
       "\t\t<dd>0.543478260869565</dd>\n",
       "\t<dt>Bayh</dt>\n",
       "\t\t<dd>0.521739130434783</dd>\n",
       "\t<dt>Conrad</dt>\n",
       "\t\t<dd>0.521739130434783</dd>\n",
       "\t<dt>Obama</dt>\n",
       "\t\t<dd>0.521739130434783</dd>\n",
       "\t<dt>Reid</dt>\n",
       "\t\t<dd>0.521739130434783</dd>\n",
       "\t<dt>Coburn</dt>\n",
       "\t\t<dd>0.5</dd>\n",
       "\t<dt>Lieberman</dt>\n",
       "\t\t<dd>0.5</dd>\n",
       "\t<dt>Biden</dt>\n",
       "\t\t<dd>0.478260869565217</dd>\n",
       "\t<dt>Dayton</dt>\n",
       "\t\t<dd>0.478260869565217</dd>\n",
       "\t<dt>Rockefeller</dt>\n",
       "\t\t<dd>0.478260869565217</dd>\n",
       "\t<dt>Wyden</dt>\n",
       "\t\t<dd>0.478260869565217</dd>\n",
       "\t<dt>Dodd</dt>\n",
       "\t\t<dd>0.456521739130435</dd>\n",
       "\t<dt>Dorgan</dt>\n",
       "\t\t<dd>0.434782608695652</dd>\n",
       "\t<dt>Kerry</dt>\n",
       "\t\t<dd>0.434782608695652</dd>\n",
       "\t<dt>Byrd</dt>\n",
       "\t\t<dd>0.41304347826087</dd>\n",
       "\t<dt>Inouye</dt>\n",
       "\t\t<dd>0.41304347826087</dd>\n",
       "\t<dt>Durbin</dt>\n",
       "\t\t<dd>0.391304347826087</dd>\n",
       "\t<dt>Kennedy</dt>\n",
       "\t\t<dd>0.391304347826087</dd>\n",
       "\t<dt>Lautenberg</dt>\n",
       "\t\t<dd>0.391304347826087</dd>\n",
       "\t<dt>Levin</dt>\n",
       "\t\t<dd>0.391304347826087</dd>\n",
       "\t<dt>Mikulski</dt>\n",
       "\t\t<dd>0.391304347826087</dd>\n",
       "\t<dt>Reed</dt>\n",
       "\t\t<dd>0.391304347826087</dd>\n",
       "\t<dt>Sarbanes</dt>\n",
       "\t\t<dd>0.391304347826087</dd>\n",
       "\t<dt>Boxer</dt>\n",
       "\t\t<dd>0.369565217391304</dd>\n",
       "\t<dt>Harkin</dt>\n",
       "\t\t<dd>0.369565217391304</dd>\n",
       "\t<dt>Akaka</dt>\n",
       "\t\t<dd>0.347826086956522</dd>\n",
       "\t<dt>Leahy</dt>\n",
       "\t\t<dd>0.347826086956522</dd>\n",
       "\t<dt>Feingold</dt>\n",
       "\t\t<dd>0.130434782608696</dd>\n",
       "</dl>\n"
      ],
      "text/latex": [
       "\\begin{description*}\n",
       "\\item[Lugar] 1\n",
       "\\item[Murkowski] 1\n",
       "\\item[Smith] 1\n",
       "\\item[Warner] 1\n",
       "\\item[Bennett] 0.978260869565217\n",
       "\\item[Stevens] 0.978260869565217\n",
       "\\item[Cochran] 0.956521739130435\n",
       "\\item[Frist] 0.956521739130435\n",
       "\\item[McConnell] 0.956521739130435\n",
       "\\item[Domenici] 0.934782608695652\n",
       "\\item[Hatch] 0.934782608695652\n",
       "\\item[Allen] 0.91304347826087\n",
       "\\item[Bond] 0.91304347826087\n",
       "\\item[Brownback] 0.91304347826087\n",
       "\\item[Grassley] 0.91304347826087\n",
       "\\item[Hagel] 0.91304347826087\n",
       "\\item[Hutchison] 0.91304347826087\n",
       "\\item[Roberts] 0.91304347826087\n",
       "\\item[Talent] 0.91304347826087\n",
       "\\item[Alexander] 0.891304347826087\n",
       "\\item[Landrieu] 0.891304347826087\n",
       "\\item[Lott] 0.891304347826087\n",
       "\\item[Santorum] 0.891304347826087\n",
       "\\item[Allard] 0.869565217391304\n",
       "\\item[Chambliss] 0.869565217391304\n",
       "\\item[DeWine] 0.869565217391304\n",
       "\\item[Isakson] 0.869565217391304\n",
       "\\item[Martinez] 0.869565217391304\n",
       "\\item[Nelson2] 0.869565217391304\n",
       "\\item[Pryor] 0.869565217391304\n",
       "\\item[Voinovich] 0.869565217391304\n",
       "\\item[Coleman] 0.847826086956522\n",
       "\\item[Sessions] 0.847826086956522\n",
       "\\item[Specter] 0.847826086956522\n",
       "\\item[Bunning] 0.826086956521739\n",
       "\\item[Burns] 0.826086956521739\n",
       "\\item[Carper] 0.826086956521739\n",
       "\\item[Cornyn] 0.826086956521739\n",
       "\\item[Dole] 0.826086956521739\n",
       "\\item[Kyl] 0.826086956521739\n",
       "\\item[Nelson1] 0.826086956521739\n",
       "\\item[Gregg] 0.804347826086957\n",
       "\\item[Shelby] 0.804347826086957\n",
       "\\item[Thune] 0.804347826086957\n",
       "\\item[Craig] 0.782608695652174\n",
       "\\item[Vitter] 0.782608695652174\n",
       "\\item[Crapo] 0.760869565217391\n",
       "\\item[DeMint] 0.760869565217391\n",
       "\\item[Salazar] 0.760869565217391\n",
       "\\item[Ensign] 0.739130434782609\n",
       "\\item[Graham] 0.739130434782609\n",
       "\\item[Lincoln] 0.739130434782609\n",
       "\\item[McCain] 0.739130434782609\n",
       "\\item[Snowe] 0.717391304347826\n",
       "\\item[Burr] 0.695652173913043\n",
       "\\item[Cantwell] 0.695652173913043\n",
       "\\item[Collins] 0.695652173913043\n",
       "\\item[Enzi] 0.695652173913043\n",
       "\\item[Johnson] 0.695652173913043\n",
       "\\item[Thomas] 0.695652173913043\n",
       "\\item[Feinstein] 0.673913043478261\n",
       "\\item[Inhofe] 0.673913043478261\n",
       "\\item[Baucus] 0.652173913043478\n",
       "\\item[Clinton] 0.652173913043478\n",
       "\\item[Chafee] 0.630434782608696\n",
       "\\item[Jeffords] 0.630434782608696\n",
       "\\item[Sununu] 0.630434782608696\n",
       "\\item[Stabenow] 0.58695652173913\n",
       "\\item[Kohl] 0.565217391304348\n",
       "\\item[Bingaman] 0.543478260869565\n",
       "\\item[Murray] 0.543478260869565\n",
       "\\item[Schumer] 0.543478260869565\n",
       "\\item[Bayh] 0.521739130434783\n",
       "\\item[Conrad] 0.521739130434783\n",
       "\\item[Obama] 0.521739130434783\n",
       "\\item[Reid] 0.521739130434783\n",
       "\\item[Coburn] 0.5\n",
       "\\item[Lieberman] 0.5\n",
       "\\item[Biden] 0.478260869565217\n",
       "\\item[Dayton] 0.478260869565217\n",
       "\\item[Rockefeller] 0.478260869565217\n",
       "\\item[Wyden] 0.478260869565217\n",
       "\\item[Dodd] 0.456521739130435\n",
       "\\item[Dorgan] 0.434782608695652\n",
       "\\item[Kerry] 0.434782608695652\n",
       "\\item[Byrd] 0.41304347826087\n",
       "\\item[Inouye] 0.41304347826087\n",
       "\\item[Durbin] 0.391304347826087\n",
       "\\item[Kennedy] 0.391304347826087\n",
       "\\item[Lautenberg] 0.391304347826087\n",
       "\\item[Levin] 0.391304347826087\n",
       "\\item[Mikulski] 0.391304347826087\n",
       "\\item[Reed] 0.391304347826087\n",
       "\\item[Sarbanes] 0.391304347826087\n",
       "\\item[Boxer] 0.369565217391304\n",
       "\\item[Harkin] 0.369565217391304\n",
       "\\item[Akaka] 0.347826086956522\n",
       "\\item[Leahy] 0.347826086956522\n",
       "\\item[Feingold] 0.130434782608696\n",
       "\\end{description*}\n"
      ],
      "text/markdown": [
       "Lugar\n",
       ":   1Murkowski\n",
       ":   1Smith\n",
       ":   1Warner\n",
       ":   1Bennett\n",
       ":   0.978260869565217Stevens\n",
       ":   0.978260869565217Cochran\n",
       ":   0.956521739130435Frist\n",
       ":   0.956521739130435McConnell\n",
       ":   0.956521739130435Domenici\n",
       ":   0.934782608695652Hatch\n",
       ":   0.934782608695652Allen\n",
       ":   0.91304347826087Bond\n",
       ":   0.91304347826087Brownback\n",
       ":   0.91304347826087Grassley\n",
       ":   0.91304347826087Hagel\n",
       ":   0.91304347826087Hutchison\n",
       ":   0.91304347826087Roberts\n",
       ":   0.91304347826087Talent\n",
       ":   0.91304347826087Alexander\n",
       ":   0.891304347826087Landrieu\n",
       ":   0.891304347826087Lott\n",
       ":   0.891304347826087Santorum\n",
       ":   0.891304347826087Allard\n",
       ":   0.869565217391304Chambliss\n",
       ":   0.869565217391304DeWine\n",
       ":   0.869565217391304Isakson\n",
       ":   0.869565217391304Martinez\n",
       ":   0.869565217391304Nelson2\n",
       ":   0.869565217391304Pryor\n",
       ":   0.869565217391304Voinovich\n",
       ":   0.869565217391304Coleman\n",
       ":   0.847826086956522Sessions\n",
       ":   0.847826086956522Specter\n",
       ":   0.847826086956522Bunning\n",
       ":   0.826086956521739Burns\n",
       ":   0.826086956521739Carper\n",
       ":   0.826086956521739Cornyn\n",
       ":   0.826086956521739Dole\n",
       ":   0.826086956521739Kyl\n",
       ":   0.826086956521739Nelson1\n",
       ":   0.826086956521739Gregg\n",
       ":   0.804347826086957Shelby\n",
       ":   0.804347826086957Thune\n",
       ":   0.804347826086957Craig\n",
       ":   0.782608695652174Vitter\n",
       ":   0.782608695652174Crapo\n",
       ":   0.760869565217391DeMint\n",
       ":   0.760869565217391Salazar\n",
       ":   0.760869565217391Ensign\n",
       ":   0.739130434782609Graham\n",
       ":   0.739130434782609Lincoln\n",
       ":   0.739130434782609McCain\n",
       ":   0.739130434782609Snowe\n",
       ":   0.717391304347826Burr\n",
       ":   0.695652173913043Cantwell\n",
       ":   0.695652173913043Collins\n",
       ":   0.695652173913043Enzi\n",
       ":   0.695652173913043Johnson\n",
       ":   0.695652173913043Thomas\n",
       ":   0.695652173913043Feinstein\n",
       ":   0.673913043478261Inhofe\n",
       ":   0.673913043478261Baucus\n",
       ":   0.652173913043478Clinton\n",
       ":   0.652173913043478Chafee\n",
       ":   0.630434782608696Jeffords\n",
       ":   0.630434782608696Sununu\n",
       ":   0.630434782608696Stabenow\n",
       ":   0.58695652173913Kohl\n",
       ":   0.565217391304348Bingaman\n",
       ":   0.543478260869565Murray\n",
       ":   0.543478260869565Schumer\n",
       ":   0.543478260869565Bayh\n",
       ":   0.521739130434783Conrad\n",
       ":   0.521739130434783Obama\n",
       ":   0.521739130434783Reid\n",
       ":   0.521739130434783Coburn\n",
       ":   0.5Lieberman\n",
       ":   0.5Biden\n",
       ":   0.478260869565217Dayton\n",
       ":   0.478260869565217Rockefeller\n",
       ":   0.478260869565217Wyden\n",
       ":   0.478260869565217Dodd\n",
       ":   0.456521739130435Dorgan\n",
       ":   0.434782608695652Kerry\n",
       ":   0.434782608695652Byrd\n",
       ":   0.41304347826087Inouye\n",
       ":   0.41304347826087Durbin\n",
       ":   0.391304347826087Kennedy\n",
       ":   0.391304347826087Lautenberg\n",
       ":   0.391304347826087Levin\n",
       ":   0.391304347826087Mikulski\n",
       ":   0.391304347826087Reed\n",
       ":   0.391304347826087Sarbanes\n",
       ":   0.391304347826087Boxer\n",
       ":   0.369565217391304Harkin\n",
       ":   0.369565217391304Akaka\n",
       ":   0.347826086956522Leahy\n",
       ":   0.347826086956522Feingold\n",
       ":   0.130434782608696\n",
       "\n"
      ],
      "text/plain": [
       "      Lugar   Murkowski       Smith      Warner     Bennett     Stevens \n",
       "  1.0000000   1.0000000   1.0000000   1.0000000   0.9782609   0.9782609 \n",
       "    Cochran       Frist   McConnell    Domenici       Hatch       Allen \n",
       "  0.9565217   0.9565217   0.9565217   0.9347826   0.9347826   0.9130435 \n",
       "       Bond   Brownback    Grassley       Hagel   Hutchison     Roberts \n",
       "  0.9130435   0.9130435   0.9130435   0.9130435   0.9130435   0.9130435 \n",
       "     Talent   Alexander    Landrieu        Lott    Santorum      Allard \n",
       "  0.9130435   0.8913043   0.8913043   0.8913043   0.8913043   0.8695652 \n",
       "  Chambliss      DeWine     Isakson    Martinez     Nelson2       Pryor \n",
       "  0.8695652   0.8695652   0.8695652   0.8695652   0.8695652   0.8695652 \n",
       "  Voinovich     Coleman    Sessions     Specter     Bunning       Burns \n",
       "  0.8695652   0.8478261   0.8478261   0.8478261   0.8260870   0.8260870 \n",
       "     Carper      Cornyn        Dole         Kyl     Nelson1       Gregg \n",
       "  0.8260870   0.8260870   0.8260870   0.8260870   0.8260870   0.8043478 \n",
       "     Shelby       Thune       Craig      Vitter       Crapo      DeMint \n",
       "  0.8043478   0.8043478   0.7826087   0.7826087   0.7608696   0.7608696 \n",
       "    Salazar      Ensign      Graham     Lincoln      McCain       Snowe \n",
       "  0.7608696   0.7391304   0.7391304   0.7391304   0.7391304   0.7173913 \n",
       "       Burr    Cantwell     Collins        Enzi     Johnson      Thomas \n",
       "  0.6956522   0.6956522   0.6956522   0.6956522   0.6956522   0.6956522 \n",
       "  Feinstein      Inhofe      Baucus     Clinton      Chafee    Jeffords \n",
       "  0.6739130   0.6739130   0.6521739   0.6521739   0.6304348   0.6304348 \n",
       "     Sununu    Stabenow        Kohl    Bingaman      Murray     Schumer \n",
       "  0.6304348   0.5869565   0.5652174   0.5434783   0.5434783   0.5434783 \n",
       "       Bayh      Conrad       Obama        Reid      Coburn   Lieberman \n",
       "  0.5217391   0.5217391   0.5217391   0.5217391   0.5000000   0.5000000 \n",
       "      Biden      Dayton Rockefeller       Wyden        Dodd      Dorgan \n",
       "  0.4782609   0.4782609   0.4782609   0.4782609   0.4565217   0.4347826 \n",
       "      Kerry        Byrd      Inouye      Durbin     Kennedy  Lautenberg \n",
       "  0.4347826   0.4130435   0.4130435   0.3913043   0.3913043   0.3913043 \n",
       "      Levin    Mikulski        Reed    Sarbanes       Boxer      Harkin \n",
       "  0.3913043   0.3913043   0.3913043   0.3913043   0.3695652   0.3695652 \n",
       "      Akaka       Leahy    Feingold \n",
       "  0.3478261   0.3478261   0.1304348 "
      ]
     },
     "metadata": {},
     "output_type": "display_data"
    }
   ],
   "source": [
    "Names.sort2 <- rowMeans(Senators_addnames)\n",
    "sort(Names.sort2, decreasing=TRUE)"
   ]
  },
  {
   "cell_type": "code",
   "execution_count": 16,
   "id": "69084a80",
   "metadata": {},
   "outputs": [],
   "source": [
    "Senator_Matrix_Votes <- Senators_addnames"
   ]
  },
  {
   "cell_type": "code",
   "execution_count": 17,
   "id": "88e8885d",
   "metadata": {},
   "outputs": [],
   "source": [
    "Senator_Matrix_trans <- t(Senator_Matrix_Votes)\n"
   ]
  },
  {
   "cell_type": "code",
   "execution_count": 18,
   "id": "c22872e1",
   "metadata": {},
   "outputs": [],
   "source": [
    "Senator_Matrix_cor <- as.data.frame(Senator_Matrix_trans)"
   ]
  },
  {
   "cell_type": "code",
   "execution_count": 22,
   "id": "f64165ae",
   "metadata": {},
   "outputs": [],
   "source": [
    "#colnames(Senator_Matrix_cor)"
   ]
  },
  {
   "cell_type": "markdown",
   "id": "c27a2f01",
   "metadata": {},
   "source": [
    "# Find the senator whose voting record is closest to Rhode Island senator, Lincoln Chafee. \n",
    "\n",
    "Sen. Jeffords has a higher voting correlation to Sen. Chaffee.\n"
   ]
  },
  {
   "cell_type": "code",
   "execution_count": 38,
   "id": "20e75c4e",
   "metadata": {},
   "outputs": [],
   "source": [
    "#Senator_Matrix_cor$Chafee%*%Senator_Matrix_cor$Jeffords"
   ]
  },
  {
   "cell_type": "markdown",
   "id": "341f98a7",
   "metadata": {},
   "source": [
    "\n",
    "# Find the senator who disagrees most with Pennsylvania senator, Rick Santorum.\n",
    "\n",
    "Sen. Feingold\n"
   ]
  },
  {
   "cell_type": "code",
   "execution_count": 369,
   "id": "e0d79277",
   "metadata": {},
   "outputs": [
    {
     "data": {
      "text/html": [
       "-0.0377910489652098"
      ],
      "text/latex": [
       "-0.0377910489652098"
      ],
      "text/markdown": [
       "-0.0377910489652098"
      ],
      "text/plain": [
       "[1] -0.03779105"
      ]
     },
     "metadata": {},
     "output_type": "display_data"
    }
   ],
   "source": [
    "cor(Senator_Matrix_cor$Santorum, Senator_Matrix_cor$Bennett)"
   ]
  },
  {
   "cell_type": "code",
   "execution_count": 370,
   "id": "219f5ed5",
   "metadata": {},
   "outputs": [
    {
     "data": {
      "text/html": [
       "-0.120065238347172"
      ],
      "text/latex": [
       "-0.120065238347172"
      ],
      "text/markdown": [
       "-0.120065238347172"
      ],
      "text/plain": [
       "[1] -0.1200652"
      ]
     },
     "metadata": {},
     "output_type": "display_data"
    }
   ],
   "source": [
    "cor(Senator_Matrix_cor$Santorum, Senator_Matrix_cor$Feingold)"
   ]
  },
  {
   "cell_type": "markdown",
   "id": "2fca6517",
   "metadata": {},
   "source": [
    "# Vermont senator Jim Jeffords was an Independent. Choose 5 Democratic and 5 Republican (or more) senators. You should try to do this randomly. Compare Jefford's record with each of these 10 senators."
   ]
  },
  {
   "cell_type": "code",
   "execution_count": 376,
   "id": "d8997c8f",
   "metadata": {},
   "outputs": [
    {
     "data": {
      "text/html": [
       "0.423169832567451"
      ],
      "text/latex": [
       "0.423169832567451"
      ],
      "text/markdown": [
       "0.423169832567451"
      ],
      "text/plain": [
       "[1] 0.4231698"
      ]
     },
     "metadata": {},
     "output_type": "display_data"
    }
   ],
   "source": [
    "#Dem\n",
    "cor(Senator_Matrix_cor$Jeffords, Senator_Matrix_cor$Lautenberg)"
   ]
  },
  {
   "cell_type": "code",
   "execution_count": 374,
   "id": "1a84dbf5",
   "metadata": {},
   "outputs": [
    {
     "data": {
      "text/html": [
       "0.59020404391087"
      ],
      "text/latex": [
       "0.59020404391087"
      ],
      "text/markdown": [
       "0.59020404391087"
      ],
      "text/plain": [
       "[1] 0.590204"
      ]
     },
     "metadata": {},
     "output_type": "display_data"
    }
   ],
   "source": [
    "#Dem\n",
    "cor(Senator_Matrix_cor$Jeffords, Senator_Matrix_cor$Leahy)"
   ]
  },
  {
   "cell_type": "code",
   "execution_count": 375,
   "id": "87f6b898",
   "metadata": {},
   "outputs": [
    {
     "data": {
      "text/html": [
       "0.434469447442534"
      ],
      "text/latex": [
       "0.434469447442534"
      ],
      "text/markdown": [
       "0.434469447442534"
      ],
      "text/plain": [
       "[1] 0.4344694"
      ]
     },
     "metadata": {},
     "output_type": "display_data"
    }
   ],
   "source": [
    "#Dem\n",
    "cor(Senator_Matrix_cor$Jeffords, Senator_Matrix_cor$Mikulski)"
   ]
  },
  {
   "cell_type": "code",
   "execution_count": 377,
   "id": "874dd13d",
   "metadata": {},
   "outputs": [
    {
     "data": {
      "text/html": [
       "0.530623595741058"
      ],
      "text/latex": [
       "0.530623595741058"
      ],
      "text/markdown": [
       "0.530623595741058"
      ],
      "text/plain": [
       "[1] 0.5306236"
      ]
     },
     "metadata": {},
     "output_type": "display_data"
    }
   ],
   "source": [
    "#Dem\n",
    "cor(Senator_Matrix_cor$Jeffords, Senator_Matrix_cor$Obama)"
   ]
  },
  {
   "cell_type": "code",
   "execution_count": 378,
   "id": "932762ce",
   "metadata": {},
   "outputs": [
    {
     "data": {
      "text/html": [
       "0.284399838198969"
      ],
      "text/latex": [
       "0.284399838198969"
      ],
      "text/markdown": [
       "0.284399838198969"
      ],
      "text/plain": [
       "[1] 0.2843998"
      ]
     },
     "metadata": {},
     "output_type": "display_data"
    }
   ],
   "source": [
    "#Dem\n",
    "cor(Senator_Matrix_cor$Jeffords, Senator_Matrix_cor$Schumer)"
   ]
  },
  {
   "cell_type": "code",
   "execution_count": 379,
   "id": "d4fe1007",
   "metadata": {},
   "outputs": [
    {
     "data": {
      "text/html": [
       "-0.197512398722636"
      ],
      "text/latex": [
       "-0.197512398722636"
      ],
      "text/markdown": [
       "-0.197512398722636"
      ],
      "text/plain": [
       "[1] -0.1975124"
      ]
     },
     "metadata": {},
     "output_type": "display_data"
    }
   ],
   "source": [
    "#Rep\n",
    "cor(Senator_Matrix_cor$Jeffords, Senator_Matrix_cor$McCain)"
   ]
  },
  {
   "cell_type": "code",
   "execution_count": 380,
   "id": "85a57cb1",
   "metadata": {},
   "outputs": [
    {
     "data": {
      "text/html": [
       "0.0791318361315782"
      ],
      "text/latex": [
       "0.0791318361315782"
      ],
      "text/markdown": [
       "0.0791318361315782"
      ],
      "text/plain": [
       "[1] 0.07913184"
      ]
     },
     "metadata": {},
     "output_type": "display_data"
    }
   ],
   "source": [
    "#Rep\n",
    "cor(Senator_Matrix_cor$Jeffords, Senator_Matrix_cor$Specter)"
   ]
  },
  {
   "cell_type": "code",
   "execution_count": 381,
   "id": "56c1fad2",
   "metadata": {},
   "outputs": [
    {
     "data": {
      "text/html": [
       "-0.17972450257241"
      ],
      "text/latex": [
       "-0.17972450257241"
      ],
      "text/markdown": [
       "-0.17972450257241"
      ],
      "text/plain": [
       "[1] -0.1797245"
      ]
     },
     "metadata": {},
     "output_type": "display_data"
    }
   ],
   "source": [
    "#Rep\n",
    "cor(Senator_Matrix_cor$Jeffords, Senator_Matrix_cor$Vitter)"
   ]
  },
  {
   "cell_type": "code",
   "execution_count": 384,
   "id": "e0d82f24",
   "metadata": {},
   "outputs": [
    {
     "data": {
      "text/html": [
       "-0.164837675047701"
      ],
      "text/latex": [
       "-0.164837675047701"
      ],
      "text/markdown": [
       "-0.164837675047701"
      ],
      "text/plain": [
       "[1] -0.1648377"
      ]
     },
     "metadata": {},
     "output_type": "display_data"
    }
   ],
   "source": [
    "#Rep\n",
    "cor(Senator_Matrix_cor$Jeffords, Senator_Matrix_cor$Thune)"
   ]
  },
  {
   "cell_type": "code",
   "execution_count": 385,
   "id": "8d978604",
   "metadata": {},
   "outputs": [
    {
     "data": {
      "text/html": [
       "-0.244479061066126"
      ],
      "text/latex": [
       "-0.244479061066126"
      ],
      "text/markdown": [
       "-0.244479061066126"
      ],
      "text/plain": [
       "[1] -0.2444791"
      ]
     },
     "metadata": {},
     "output_type": "display_data"
    }
   ],
   "source": [
    "#Rep\n",
    "cor(Senator_Matrix_cor$Jeffords, Senator_Matrix_cor$Sununu)"
   ]
  },
  {
   "cell_type": "markdown",
   "id": "d07e3f80",
   "metadata": {},
   "source": [
    "# Would you classify Jeffords as closer to the Democrats or a Republicans? \n",
    "Sen. Jerrods would be classified as a Democrat."
   ]
  }
 ],
 "metadata": {
  "kernelspec": {
   "display_name": "R",
   "language": "R",
   "name": "ir"
  },
  "language_info": {
   "codemirror_mode": "r",
   "file_extension": ".r",
   "mimetype": "text/x-r-source",
   "name": "R",
   "pygments_lexer": "r",
   "version": "3.6.1"
  }
 },
 "nbformat": 4,
 "nbformat_minor": 5
}
