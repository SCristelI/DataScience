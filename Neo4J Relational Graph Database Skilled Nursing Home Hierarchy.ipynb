{
 "cells": [
  {
   "cell_type": "markdown",
   "id": "e412e10e",
   "metadata": {},
   "source": [
    "# <center> Leadership Graph of Nursing Healthcare Workers <center>\n",
    "    \n",
    "    The relational database is a visualization of a chain of command for a healthcare facility to refer to during a pandemic lockdown. \n",
    "   <center> by Cristel Irwin <center>"
   ]
  },
  {
   "cell_type": "markdown",
   "id": "e196a45d",
   "metadata": {},
   "source": [
    "Importing the necessary packages."
   ]
  },
  {
   "cell_type": "code",
   "execution_count": 1,
   "id": "f0652629",
   "metadata": {},
   "outputs": [],
   "source": [
    "from py2neo import Graph\n",
    "from py2neo import Relationship\n",
    "from py2neo import Node"
   ]
  },
  {
   "cell_type": "markdown",
   "id": "32a91fca",
   "metadata": {},
   "source": [
    "Connect to database"
   ]
  },
  {
   "cell_type": "code",
   "execution_count": 2,
   "id": "b4dd4f11",
   "metadata": {},
   "outputs": [],
   "source": [
    "graph = Graph(uri=\"bolt://localhost:0000\", auth=(\"neo4j\",\"neo10\"))"
   ]
  },
  {
   "cell_type": "markdown",
   "id": "4d9304fd",
   "metadata": {},
   "source": [
    "Refreshes the graphs in Neo4j"
   ]
  },
  {
   "cell_type": "code",
   "execution_count": 3,
   "id": "57b3b007",
   "metadata": {},
   "outputs": [],
   "source": [
    "graph.delete_all()"
   ]
  },
  {
   "cell_type": "markdown",
   "id": "82b213b4",
   "metadata": {},
   "source": [
    "## Create nodes"
   ]
  },
  {
   "cell_type": "markdown",
   "id": "6f1baa2a",
   "metadata": {},
   "source": [
    "Creating nodes for the Administration department."
   ]
  },
  {
   "cell_type": "code",
   "execution_count": 4,
   "id": "9e8354da",
   "metadata": {},
   "outputs": [],
   "source": [
    "Node0 = Node(\"Person\", name=\"J. Smith\", age=\"48\", CE_training_hours=\"40\")\n",
    "Admin=Node(\"Job_and_Duties\", job_title=\"Administrator\",duties=\"supervises clinical and administrative affairs of nursing home such as overseeing staff and personnel, financial matters, medical care, medical supplies, facilities and other tasks required to run a nursing home facility.\")\n",
    "AdminDepartment=Node(\"Department\", unit=\"Administration\")           "
   ]
  },
  {
   "cell_type": "markdown",
   "id": "0eeddb6f",
   "metadata": {},
   "source": [
    "Creating nodes for the Nursing department."
   ]
  },
  {
   "cell_type": "code",
   "execution_count": 5,
   "id": "0521132d",
   "metadata": {},
   "outputs": [],
   "source": [
    "#Department= Nursing \n",
    "Node1 = Node(\"Person\", name=\"Andi Mitchell\", university=\"Betty Irene Moore School of Nursing, University of California, Davis\", certifications=\"Registered Nursing License, Acute Care Nurse Practitioner- Adult-Gerontology, Trauma Certified Registered Nurse, Certified Nurse Manager and Leader, Stroke Certified Registered Nurse, Cardiac-Vascular Nursing, Pain Management Nursing, Public Health Nursing-Advanced, Nursing Case Management, Emergency Nurse Practitioner, Orthopaedic Nurse Certified, Certified Academic Clinical Nurse Educator, Training in Infection Prevention and Control to Provide On-Site Management of the IPC Program, Psychiatric-Mental Health Nursing, Informatics Nursing, Rheumatology Nursing, Clinical Nurse Specialist\", duties=\"oversees nursing staff and nursing operations of healthcare facility, evaluates and directs all nursing employees, establishes goals for the nursing department, creates and enforces compliant healthcare policies, designates trainers.\")\n",
    "#Nodes under DoN\n",
    "Node2 = Node(\"Person\", name=\"Elena Wills\", age=\"31\")\n",
    "Node3 = Node(\"Person\", name=\"Ruby Parker\", credentials=\"Certified Rehabilitation Registered Nurse, Certified Registered Nurse First Assistant, Certified Ostomy Care Nurse, Stroke Certified Registered Nurse, Pain Management Nursing\", duties=\"oversees clinical staff on behalf of DoN\")\n",
    "Node4 = Node(\"Person\", name=\"Cristel Evens\", staff=\"RN Staff\", schedule=\"rotation\", shifts=\"AM, PM, NOC\")\n",
    "Node5 =Node(\"Person\", name=\"Parker Wong\", requirements=\"WOCNCB Certified Wound Care Nurse\")\n",
    "Node6 = Node(\"Person\", name=\"Ethan Chang\", age=\"35\")\n",
    "\n",
    "Clinical=Node(\"Job_and_Duties\", job_title=\"DoN\", duties=\"evaluating and directing all nursing employees\")\n",
    "Clinical1=Node(\"Job_and_Duties\", job_title=\"Direct Care Staff\", duties=\"care for residents on a daily basis\")\n",
    "Clinical2=Node(\"Job_and_Duties\", job_title=\"Charge Nurse\", CDC_duties=\"Provide Supplies Necessary to Adhere to Recommended IPC Practices\")\n",
    "Clinical3=Node(\"Job_and_Duties\", job_title=\"Licensed Practical Nurse\", duties=\"provide routine care and observe patients' health\")\n",
    "Clinical4=Node(\"Job_and_Duties\", job_title=\"Emergency Room Registered Nurse\", RN_type=\"Wound Care\", specialty_care=\"Wound Care, Ostomy Care, Continence Care, Foot Care\")\n",
    "Clinical5=Node(\"Job_and_Duties\", job_title=\"Certified Nursing Assistant\", duties=\"Gathering medical supplies\")\n",
    "\n",
    "NursingDepartment=Node(\"Department\", unit=\"Nursing\")"
   ]
  },
  {
   "cell_type": "markdown",
   "id": "717cae5a",
   "metadata": {},
   "source": [
    "Creating nodes for the Admissions department."
   ]
  },
  {
   "cell_type": "code",
   "execution_count": 6,
   "id": "7c8c206b",
   "metadata": {},
   "outputs": [],
   "source": [
    "#Node under Node1 Administrator, Department= Admissions \n",
    "Node7 = Node(\"Person\",  name=\"Bailey Kennedy\", age=\"59\")\n",
    "Node8 = Node(\"Person\", name=\"Samantha Mak\", education=\"High School Diploma\") \n",
    "\n",
    "Administrator1=Node(\"Job_and_Duties\", job_title=\"Admissions Director\",duties= \"responsible for admissions process and staff in a nursing home. Works directly with residents and the families of elderly hospital patients who may need to move into the facility.\")\n",
    "Administrator2=Node(\"Job_and_Duties\", job_title= \"Admissions Assistant\", duties= \"responsible for assisting in the admissions process and staff in a nursing home.\")\n",
    "\n",
    "AdmissionsDepartment=Node(\"Department\", unit=\"Admissions\")"
   ]
  },
  {
   "cell_type": "markdown",
   "id": "c5c33bd7",
   "metadata": {},
   "source": [
    "Creating nodes for the Dietary department."
   ]
  },
  {
   "cell_type": "code",
   "execution_count": 7,
   "id": "e0d6067c",
   "metadata": {},
   "outputs": [],
   "source": [
    "#Department= Dietary                                        \n",
    "Node9 = Node(\"Person\", job_title=\"Executive Chef\", name=\"Adam Johnson\", specialty_training=\"Culinary Degree, CPR Certification, Food Service Management Certification\")\n",
    "#Nodes under Culinary Specialist\n",
    "Node10 = Node(\"Person\",  name=\"Ameila Miller\", specialty_training=\"Associate's Degree in Food Service Preparation, Nutrition Specialist Certification, Choking Prevention Certification\")\n",
    "Node11 = Node(\"Person\", job_title=\"Cook2\", name=\"Robert Willson\", education=\"High School Diploma\")\n",
    "Node12 = Node(\"Person\", job_title=\"Cook3\", name=\"Noah Garcia\", education=\"GED\")\n",
    "                    \n",
    "DietaryDepartment= Node(\"Department\", unit=\"Dietary\")   \n",
    "\n",
    "Cook1=Node(\"Job_and_Duties\", job_title=\"Cook1\",  duties=\"create menus for patients in the hospital\")\n",
    "Cook2=Node(\"Job_and_Duties\", job_title=\"Cook2\", duties=\"ensure ingredients and final products are fresh\")\n",
    "Cook3=Node(\"Job_and_Duties\", job_title=\"Cook2\", duties=\"follow recipes, including measuring, weighing and mixing ingredients\")"
   ]
  },
  {
   "cell_type": "markdown",
   "id": "e8fc8013",
   "metadata": {},
   "source": [
    "Creating nodes for the Maintenance department."
   ]
  },
  {
   "cell_type": "code",
   "execution_count": 8,
   "id": "17ef5ba7",
   "metadata": {},
   "outputs": [],
   "source": [
    "#Department= Maintenance                                      \n",
    "Node13 = Node(\"Person\", name=\"Liam Lee\", apprenticeship_status=\"Graduate, Lakeshore Technical College\", salary_type=\"Annual\")\n",
    "Node14 = Node(\"Person\", name=\"James Beckett\", age=\"31\", hourly_pay=\"17.50\")\n",
    "\n",
    "Maintenance1=Node(\"Job_and_Duties\", job_title=\"Maintenance Supervisor\", CDC_duties=\"ensure HCP have access to all necessary supplies including alcohol based hand sanitizer with 60-95% alcohol, personal protective equipment (PPE), and supplies for cleaning and disinfection.\")\n",
    "Maintenance2=Node(\"Job_and_Duties\", job_title=\"Maintenance Assistant/Laundry\", duties=\"perform cleaning activities such as dusting, mopping etc\")\n",
    "           \n",
    "MaintenanceDepartment= Node(\"Department\", unit=\"Maintenance\") "
   ]
  },
  {
   "cell_type": "markdown",
   "id": "2ef95be4",
   "metadata": {},
   "source": [
    "Creating nodes for the Billing department."
   ]
  },
  {
   "cell_type": "code",
   "execution_count": 9,
   "id": "ae343caf",
   "metadata": {},
   "outputs": [],
   "source": [
    "#Department= Billing                                    \n",
    "Node15 = Node(\"Person\", job_title=\"Billing Specialist\", name=\"Elijah Thomson\", payment_methods=\"Private insurance, Government insurance, Private Cash Payments\", hours=\"Monday 8am-4pm, Tuesday 8am-4pm, Wednesday 8am-4pm, Thursday 8am-4pm\")\n",
    "\n",
    "Billing=Node(\"Job_and_Duties\", job_title=\"calculating and collecting payments for medical procedures and services\")\n",
    "\n",
    "BillingDepartment=Node(\"Department\", unit=\"Billing\")"
   ]
  },
  {
   "cell_type": "markdown",
   "id": "f56161f1",
   "metadata": {},
   "source": [
    "Creating nodes for the Social Services department."
   ]
  },
  {
   "cell_type": "code",
   "execution_count": 10,
   "id": "ea985499",
   "metadata": {},
   "outputs": [],
   "source": [
    "#Department= SS \n",
    "Node16 = Node(\"Person\", name=\"Emily Lopez\", qualifications=\"Master of Social Work, Advanced Social Worker in Gerontology- ASW-G, Advanced Certified Hospice and Palliative Social Worker- ACHP-SW, Certified Clinical Alcohol, Tobacco & Other Drugs Social Worker C-CATODSW\")\n",
    "\n",
    "SSD= Node(\"Job_and_Duties\", job_title=\"Social Services Director\", duties=\"manage and assign responsibilities to staff, hire new staff members, coordinate fund-raising efforts and write grants to obtain funds\")\n",
    "\n",
    "SSDDepartment=Node(\"Department\", unit=\"Social Services\")"
   ]
  },
  {
   "cell_type": "markdown",
   "id": "6e29772c",
   "metadata": {},
   "source": [
    "Creating nodes for the Medical Records department."
   ]
  },
  {
   "cell_type": "code",
   "execution_count": 11,
   "id": "81476925",
   "metadata": {},
   "outputs": [],
   "source": [
    "#Department= MedRec                                        \n",
    "Node17 = Node(\"Person\", name=\"Martin Hill\", age=\"56\")\n",
    "Node18 = Node(\"Person\",  name=\"Luna Campbell\", degree=\"Bachelor's in Nursing\", job_requirements=\"assesses and monitors proper treatment for residents in nursing homes\")     \n",
    "\n",
    "MedRec1=Node(\"Job_and_Duties\", job_title=\"Medical Records Coordinator\",duties=\"making certain that patient data is being compiled, updated, and organized accurately in compliance with regulations\")\n",
    "MedRec2=Node(\"Job_and_Duties\", job_title=\"MDS Coordinator\" ,duties=\"assess and monitor proper treatment for residents in nursing homes\")\n",
    "\n",
    "MedRecDepartment=Node(\"Department\", unit=\"Medical Records\")"
   ]
  },
  {
   "cell_type": "markdown",
   "id": "43ecc73b",
   "metadata": {},
   "source": [
    "Creating nodes for the Rehab department."
   ]
  },
  {
   "cell_type": "code",
   "execution_count": 12,
   "id": "2e7ca3d5",
   "metadata": {},
   "outputs": [],
   "source": [
    "#Department= Rehab                                       \n",
    "Node19 = Node(\"Person\", name=\"Carter Jones\", experience=\"20 years of experience working in rehabilitation, specializing in senior care\")\n",
    "Node20 = Node(\"Person\", name=\"Cloe Young\", accreditations=\"Master's degree in Occupational Therapy, NBCOT certification\")\n",
    "Node21 = Node(\"Person\", name=\"Allen Walker\", age=\"41\")\n",
    "Node22 = Node(\"Person\", name=\"Travis Petterson\", licenses=\"American Sign Language (ASL) Interpreting Certificate\")\n",
    "\n",
    "Rehab1=Node(\"Job_and_Duties\", job_title=\"Therapy Director\", duties=\"sets and implements guidelines for rehabilitation programs such as physical therapy, occupational therapy, and speech therapy.\")\n",
    "Rehab2=Node(\"Job_and_Duties\", job_title=\"Occupational Therapist\", duties=\"treat injured, ill, or disabled patients through the therapeutic use of everyday activities.\")\n",
    "Rehab3=Node(\"Job_and_Duties\", job_title=\"Physical Therapist\", duties=\"examines, evaluates, diagnoses a patient in order to reduce disability\")\n",
    "Rehab4=Node(\"Job_and_Duties\", job_title=\" Speech Pathologist\", duties=\"work to prevent, assess, diagnose, and treat speech, language, social communication, cognitive-communication, and swallowing disorders in children and adults\")\n",
    "\n",
    "RehabDepartment=Node(\"Department\", unit=\"Rehab\")"
   ]
  },
  {
   "cell_type": "markdown",
   "id": "41e7e8c9",
   "metadata": {},
   "source": [
    "Creating nodes for the Activities department."
   ]
  },
  {
   "cell_type": "code",
   "execution_count": 13,
   "id": "87813b1d",
   "metadata": {},
   "outputs": [],
   "source": [
    "#Department= Activities \n",
    "Node23 = Node(\"Person\", name=\"Stanley Vu\", committees=\"Activity Directors Network\")\n",
    "Node24 = Node(\"Person\", name=\"Anita Diez\", age=\"28\")                                     \n",
    "\n",
    "Activities1=Node(\"Job_and_Duties\", job_title=\"Activities Director\", duties= \"coordinates activities such as group events, field trips, and recreational activities\")\n",
    "Activities2=Node(\"Job_and_Duties\", job_title=\"Activities Assistant\", duties= \"assists the director in coordinating activities such as group events, field trips, and recreational activities\")\n",
    "\n",
    "ActivitiesDepartment= Node(\"Department\", unit=\"Activities\")\n",
    "\n",
    "             "
   ]
  },
  {
   "cell_type": "markdown",
   "id": "adda2367",
   "metadata": {},
   "source": [
    "## Create relationships"
   ]
  },
  {
   "cell_type": "markdown",
   "id": "f25d6981",
   "metadata": {},
   "source": [
    "### Administration"
   ]
  },
  {
   "cell_type": "markdown",
   "id": "d7ea41b2",
   "metadata": {},
   "source": [
    "Creating the relationships for relating to Node 1."
   ]
  },
  {
   "cell_type": "code",
   "execution_count": 14,
   "id": "b20db8c1",
   "metadata": {},
   "outputs": [],
   "source": [
    "graph.create(Relationship(Node0,  \"Department\", AdminDepartment)) \n",
    "\n",
    "graph.create(Relationship(Node0, \"Job\", Admin)) \n",
    "\n",
    "graph.create(Relationship(Node0, \"Oversees\", Node1)) #DoN Nursing\n",
    "graph.create(Relationship(Node0, \"Oversees\", Node7)) #Admissions\n",
    "graph.create(Relationship(Node0, \"Oversees\", Node9)) #Culinary\n",
    "graph.create(Relationship(Node0,  \"Oversees\", Node13)) #Maintenance\n",
    "graph.create(Relationship(Node0, \"Oversees\", Node15)) #Financial\n",
    "graph.create(Relationship(Node0, \"Oversees\", Node16)) #Social Services\n",
    "graph.create(Relationship(Node0, \"Oversees\", Node17)) #MedRec\n",
    "graph.create(Relationship(Node0, \"Oversees\", Node19)) #Therapy\n",
    "graph.create(Relationship(Node0, \"Oversees\", Node23)) #Activities\n"
   ]
  },
  {
   "cell_type": "markdown",
   "id": "ed1a4690",
   "metadata": {},
   "source": [
    "### Clinical"
   ]
  },
  {
   "cell_type": "markdown",
   "id": "ec768fb7",
   "metadata": {},
   "source": [
    "Creating the relationships for relating for Nodes 2-6."
   ]
  },
  {
   "cell_type": "code",
   "execution_count": 15,
   "id": "738b321f",
   "metadata": {},
   "outputs": [],
   "source": [
    "graph.create(Relationship(Node1,  \"Department\", NursingDepartment)) \n",
    "graph.create(Relationship(Node2,  \"Department\", NursingDepartment)) \n",
    "graph.create(Relationship(Node3,  \"Department\", NursingDepartment)) \n",
    "graph.create(Relationship(Node4,  \"Department\", NursingDepartment)) \n",
    "graph.create(Relationship(Node5,  \"Department\", NursingDepartment)) \n",
    "graph.create(Relationship(Node6,  \"Department\", NursingDepartment)) \n",
    "\n",
    "graph.create(Relationship(Node1, \"Job\", Clinical)) \n",
    "graph.create(Relationship(Node2, \"Job\", Clinical1))\n",
    "graph.create(Relationship(Node3, \"Job\", Clinical2)) \n",
    "graph.create(Relationship(Node4, \"Job\", Clinical3)) \n",
    "graph.create(Relationship(Node5, \"Job\", Clinical4)) \n",
    "graph.create(Relationship(Node6, \"Job\", Clinical5)) \n"
   ]
  },
  {
   "cell_type": "markdown",
   "id": "c195a6c9",
   "metadata": {},
   "source": [
    "### Admissions"
   ]
  },
  {
   "cell_type": "markdown",
   "id": "003e5638",
   "metadata": {},
   "source": [
    "Creating the relationships for relating for Nodes 7 and 8."
   ]
  },
  {
   "cell_type": "code",
   "execution_count": 16,
   "id": "b587806e",
   "metadata": {},
   "outputs": [],
   "source": [
    "graph.create(Relationship(Node7, \"Department\", AdmissionsDepartment)) \n",
    "graph.create(Relationship(Node8, \"Department\", AdmissionsDepartment))\n",
    "\n",
    "\n",
    "graph.create(Relationship(Node7, \"Job\", Administrator1)) \n",
    "graph.create(Relationship(Node8, \"Job\", Administrator2))\n",
    "\n",
    "#graph.create(Relationship(Node7, \"Oversees\", Node8)) "
   ]
  },
  {
   "cell_type": "markdown",
   "id": "813f3211",
   "metadata": {},
   "source": [
    "### Dietary"
   ]
  },
  {
   "cell_type": "markdown",
   "id": "ecdc482a",
   "metadata": {},
   "source": [
    "Creating the relationships for relating for Nodes 9-11."
   ]
  },
  {
   "cell_type": "code",
   "execution_count": 17,
   "id": "06a43367",
   "metadata": {},
   "outputs": [],
   "source": [
    "graph.create(Relationship(Node9,  \"Department\", DietaryDepartment)) \n",
    "graph.create(Relationship(Node10,  \"Department\", DietaryDepartment)) \n",
    "graph.create(Relationship(Node11,  \"Department\", DietaryDepartment)) \n",
    "\n",
    "graph.create(Relationship(Node9, \"Job\", Cook1))\n",
    "graph.create(Relationship(Node10, \"Job\", Cook2))\n",
    "graph.create(Relationship(Node11, \"Job\", Cook3))\n"
   ]
  },
  {
   "cell_type": "markdown",
   "id": "2e13da31",
   "metadata": {},
   "source": [
    "### Maintenance Assistance"
   ]
  },
  {
   "cell_type": "markdown",
   "id": "ebf3f1a8",
   "metadata": {},
   "source": [
    "Creating the relationships for relating for Nodes 13 and 14."
   ]
  },
  {
   "cell_type": "code",
   "execution_count": 18,
   "id": "7b480c44",
   "metadata": {},
   "outputs": [],
   "source": [
    "graph.create(Relationship(Node13,  \"Department\", MaintenanceDepartment)) \n",
    "graph.create(Relationship(Node14,  \"Department\", MaintenanceDepartment)) \n",
    "\n",
    "graph.create(Relationship(Node13, \"Job\", Maintenance1))\n",
    "graph.create(Relationship(Node14, \"Job\", Maintenance2))\n",
    "\n",
    "#graph.create(Relationship(Node13, \"Oversees\", Node14)) "
   ]
  },
  {
   "cell_type": "markdown",
   "id": "6e26f0af",
   "metadata": {},
   "source": [
    "### Medical Records "
   ]
  },
  {
   "cell_type": "markdown",
   "id": "ce3b8911",
   "metadata": {},
   "source": [
    "Creating the relationships for relating for Nodes 17 and 18."
   ]
  },
  {
   "cell_type": "code",
   "execution_count": 19,
   "id": "ba977ba3",
   "metadata": {},
   "outputs": [],
   "source": [
    "graph.create(Relationship(Node17,  \"Department\", MedRecDepartment)) \n",
    "graph.create(Relationship(Node18,  \"Department\", MedRecDepartment))\n",
    "\n",
    "graph.create(Relationship(Node17, \"Job\", MedRec1))\n",
    "graph.create(Relationship(Node18, \"Job\", MedRec2))\n",
    "\n",
    "#graph.create(Relationship(Node17, \"Oversees\", Node18)) "
   ]
  },
  {
   "cell_type": "markdown",
   "id": "b13cfa21",
   "metadata": {},
   "source": [
    "### Rehab"
   ]
  },
  {
   "cell_type": "markdown",
   "id": "d528479c",
   "metadata": {},
   "source": [
    "Creating the relationships for relating for Nodes 19 and 22."
   ]
  },
  {
   "cell_type": "code",
   "execution_count": 20,
   "id": "b0d00a03",
   "metadata": {},
   "outputs": [],
   "source": [
    "graph.create(Relationship(Node19, \"Department\", RehabDepartment)) \n",
    "graph.create(Relationship(Node20, \"Department\", RehabDepartment)) \n",
    "graph.create(Relationship(Node21, \"Department\", RehabDepartment)) \n",
    "graph.create(Relationship(Node22, \"Department\", RehabDepartment))\n",
    "\n",
    "graph.create(Relationship(Node19,  \"Job\", Rehab1)) \n",
    "graph.create(Relationship(Node20,  \"Job\", Rehab2)) \n",
    "graph.create(Relationship(Node21,  \"Job\", Rehab3)) \n",
    "graph.create(Relationship(Node22,  \"Job\", Rehab4))\n",
    "\n",
    "#graph.create(Relationship(Node19, \"Oversees\", Node20))\n",
    "#graph.create(Relationship(Node19, \"Oversees\", Node21)) \n",
    "#graph.create(Relationship(Node19, \"Oversees\", Node22))"
   ]
  },
  {
   "cell_type": "markdown",
   "id": "58e7c587",
   "metadata": {},
   "source": [
    "### Activities "
   ]
  },
  {
   "cell_type": "markdown",
   "id": "401cf3c9",
   "metadata": {},
   "source": [
    "Creating the relationships for relating for Nodes 23 and 24."
   ]
  },
  {
   "cell_type": "code",
   "execution_count": 21,
   "id": "ac8f8516",
   "metadata": {},
   "outputs": [],
   "source": [
    "graph.create(Relationship(Node23,\"Department\", ActivitiesDepartment)) \n",
    "graph.create(Relationship(Node24, \"Department\", ActivitiesDepartment))\n",
    "\n",
    "graph.create(Relationship(Node23, \"Job\", Activities1)) \n",
    "graph.create(Relationship(Node24, \"Job\", Activities1)) \n",
    "\n",
    "#graph.create(Relationship(Node23, \"Oversees\", Node24))"
   ]
  },
  {
   "cell_type": "markdown",
   "id": "a577304c",
   "metadata": {},
   "source": [
    "## Queries"
   ]
  },
  {
   "cell_type": "markdown",
   "id": "bb3df89f",
   "metadata": {},
   "source": [
    "Who are Public Health Employees?"
   ]
  },
  {
   "cell_type": "code",
   "execution_count": 22,
   "id": "7ab47f09",
   "metadata": {},
   "outputs": [
    {
     "name": "stdout",
     "output_type": "stream",
     "text": [
      "'Robert Willson'\t'Cook2'\n",
      "'Liam Lee'\t'Maintenance Supervisor'\n",
      "'James Beckett'\t'Maintenance Assistant/Laundry'\n",
      "'Martin Hill'\t'Medical Records Coordinator'\n",
      "'Luna Campbell'\t'MDS Coordinator'\n",
      "'Carter Jones'\t'Therapy Director'\n",
      "'Cloe Young'\t'Occupational Therapist'\n",
      "'Allen Walker'\t'Physical Therapist'\n",
      "'Travis Petterson'\t' Speech Pathologist'\n",
      "'Anita Diez'\t'Activities Director'\n",
      "'Stanley Vu'\t'Activities Director'\n",
      "'J. Smith'\t'Administrator'\n",
      "'Andi Mitchell'\t'DoN'\n",
      "'Elena Wills'\t'Direct Care Staff'\n",
      "'Ruby Parker'\t'Charge Nurse'\n",
      "'Cristel Evens'\t'Licensed Practical Nurse'\n",
      "'Parker Wong'\t'Emergency Room Registered Nurse'\n",
      "'Ethan Chang'\t'Certified Nursing Assistant'\n",
      "'Bailey Kennedy'\t'Admissions Director'\n",
      "'Samantha Mak'\t'Admissions Assistant'\n",
      "'Adam Johnson'\t'Cook1'\n",
      "'Ameila Miller'\t'Cook2'\n"
     ]
    }
   ],
   "source": [
    "query = \"\"\"\n",
    "MATCH (p:Person)-[:Job]->(job:Job_and_Duties)\n",
    "RETURN p.name AS name, job.job_title AS job\n",
    "\"\"\"\n",
    "\n",
    "data = graph.run(query)\n",
    "\n",
    "for d in data:\n",
    "    print(d)"
   ]
  },
  {
   "cell_type": "markdown",
   "id": "6c983db5",
   "metadata": {},
   "source": [
    "Who's under the Nursing Department?"
   ]
  },
  {
   "cell_type": "code",
   "execution_count": 23,
   "id": "4062dfc0",
   "metadata": {},
   "outputs": [
    {
     "name": "stdout",
     "output_type": "stream",
     "text": [
      "'Ethan Chang'\t'Nursing'\n",
      "'Parker Wong'\t'Nursing'\n",
      "'Cristel Evens'\t'Nursing'\n",
      "'Ruby Parker'\t'Nursing'\n",
      "'Elena Wills'\t'Nursing'\n",
      "'Andi Mitchell'\t'Nursing'\n"
     ]
    }
   ],
   "source": [
    "query = \"\"\"\n",
    "MATCH (p:Person)-[:Department]->(department:Department {unit: 'Nursing'})\n",
    "RETURN p.name AS name, department.unit AS department\n",
    "\"\"\"\n",
    "\n",
    "data = graph.run(query)\n",
    "\n",
    "for d in data:\n",
    "    print(d)"
   ]
  },
  {
   "cell_type": "markdown",
   "id": "b6d95fd8",
   "metadata": {},
   "source": [
    "Who is assigned CDC duties and what are their duties?"
   ]
  },
  {
   "cell_type": "code",
   "execution_count": 24,
   "id": "97e770bd",
   "metadata": {},
   "outputs": [
    {
     "name": "stdout",
     "output_type": "stream",
     "text": [
      "'Liam Lee'\t'Maintenance'\t'ensure HCP have access to all necessary supplies including alcohol based hand sanitizer with 60-95% alcohol, personal protective equipment (PPE), and supplies for cleaning and disinfection.'\n",
      "'Ruby Parker'\t'Nursing'\t'Provide Supplies Necessary to Adhere to Recommended IPC Practices'\n"
     ]
    }
   ],
   "source": [
    "query = \"\"\"\n",
    "MATCH (p:Person)-[:Job]->(job:Job_and_Duties)\n",
    "MATCH (p:Person)-[:Department]->(department:Department) \n",
    "WHERE exists(job.CDC_duties)\n",
    "RETURN p.name, department.unit AS department, job.CDC_duties AS CDC_duties\n",
    "\"\"\"\n",
    "\n",
    "data = graph.run(query)\n",
    "\n",
    "for d in data:\n",
    "    print(d)"
   ]
  },
  {
   "cell_type": "markdown",
   "id": "f530933f",
   "metadata": {},
   "source": [
    "Who is the Direct Care Staff and what are their duties. "
   ]
  },
  {
   "cell_type": "code",
   "execution_count": 25,
   "id": "ea312cd0",
   "metadata": {},
   "outputs": [
    {
     "name": "stdout",
     "output_type": "stream",
     "text": [
      "'Elena Wills'\t'Direct Care Staff'\t'care for residents on a daily basis'\n"
     ]
    }
   ],
   "source": [
    "query = \"\"\"\n",
    "MATCH (p:Person)-[:Job]->(job:Job_and_Duties)\n",
    "WHERE job.job_title ='Direct Care Staff'\n",
    "RETURN p.name AS name, job.job_title AS job, job.duties AS duties\n",
    "\"\"\"\n",
    "\n",
    "data = graph.run(query)\n",
    "\n",
    "for d in data:\n",
    "    print(d)"
   ]
  },
  {
   "cell_type": "markdown",
   "id": "80a9cb14",
   "metadata": {},
   "source": [
    "Who does, J. Smith, the director of the nursing home oversee?"
   ]
  },
  {
   "cell_type": "code",
   "execution_count": 26,
   "id": "77c8d56e",
   "metadata": {},
   "outputs": [
    {
     "name": "stdout",
     "output_type": "stream",
     "text": [
      "'Stanley Vu'\t'Activities'\n",
      "'Carter Jones'\t'Rehab'\n",
      "'Martin Hill'\t'Medical Records'\n",
      "'Liam Lee'\t'Maintenance'\n",
      "'Adam Johnson'\t'Dietary'\n",
      "'Bailey Kennedy'\t'Admissions'\n",
      "'Andi Mitchell'\t'Nursing'\n"
     ]
    }
   ],
   "source": [
    "query = \"\"\"\n",
    "MATCH (p:Person)-[:Oversees]->(person:Person)-[:Department]->(department:Department)\n",
    "WHERE p.name = 'J. Smith'\n",
    "RETURN person.name AS name,department.unit AS department\n",
    "\"\"\"\n",
    "data = graph.run(query)\n",
    "\n",
    "for d in data:\n",
    "    print(d)"
   ]
  },
  {
   "cell_type": "markdown",
   "id": "cae47c7c",
   "metadata": {},
   "source": [
    "Who is the youngest member of the team and what is there deparment and duties?"
   ]
  },
  {
   "cell_type": "code",
   "execution_count": 27,
   "id": "cfd5dbe6",
   "metadata": {},
   "outputs": [
    {
     "name": "stdout",
     "output_type": "stream",
     "text": [
      "'Anita Diez'\t'Activities'\t'Activities Director'\t'coordinates activities such as group events, field trips, and recreational activities'\n"
     ]
    }
   ],
   "source": [
    "query = \"\"\"\n",
    "MATCH (s:Person)\n",
    "WITH min(s.age) as min\n",
    "MATCH (s:Person) -[:Job]->(job:Job_and_Duties)\n",
    "MATCH (s:Person) -[:Department]->(department:Department)\n",
    "WHERE s.age = min\n",
    "RETURN s.name AS name, department.unit AS department, job.job_title AS job, job.duties AS duties\n",
    "\"\"\"\n",
    "\n",
    "data = graph.run(query)\n",
    "\n",
    "for d in data:\n",
    "    print(d)"
   ]
  },
  {
   "cell_type": "markdown",
   "id": "a269d36e",
   "metadata": {},
   "source": [
    "## Insights"
   ]
  },
  {
   "cell_type": "markdown",
   "id": "dd79a558",
   "metadata": {},
   "source": [
    "Our project is to give in insight on the staff and their roles in a nursing home during the Covid-19 pandemic. We first found all the staff members working at a nursing home during Covid-19. And since the nursing staff play a huge role in helping the elderly at nursing homes, we found the personale working in the Nursing department. Plus, due to concerns about the transmissibility of the SARS-CoV-2, CDC set guidelines for healthcare workers working at nursing homes. As a result, we found the two personale that were assigend CDC duties to comply with their guidance: Ruby Parker( Nursing) and Liam Lee (Maintenance). At a nursing home, the direct care staff has the most important role. Thus, we found the personale who has the role which is Elena Wills. The direct care staff care for residents on a daily basis, are the most important people at the facility. Next we found who the director of the nursing home oversees, which are Stanley Vu (Activities), Carter Jones(Rehab),\n",
    "Martin Hill(Medical Records), Adam Johnson (Dietary), Bailey Kennedy(Admissions), Andi Mitchell(Nursing). Lastly, we found that staff memmber that is the youngest staff member working at the nursing home: Anita Diez."
   ]
  }
 ],
 "metadata": {
  "kernelspec": {
   "display_name": "Python 3 (ipykernel)",
   "language": "python",
   "name": "python3"
  },
  "language_info": {
   "codemirror_mode": {
    "name": "ipython",
    "version": 3
   },
   "file_extension": ".py",
   "mimetype": "text/x-python",
   "name": "python",
   "nbconvert_exporter": "python",
   "pygments_lexer": "ipython3",
   "version": "3.9.7"
  }
 },
 "nbformat": 4,
 "nbformat_minor": 5
}
