{
 "cells": [
  {
   "cell_type": "markdown",
   "id": "9623093e",
   "metadata": {},
   "source": [
    "# Module 2 Report - C. Irwin"
   ]
  },
  {
   "cell_type": "markdown",
   "id": "6acfe49f",
   "metadata": {},
   "source": [
    "# Objective of the Proposed Research: \n",
    "\n",
    "The goal of this report is to provide data that will help jousnalists at the The San Francisco Chronicle newspaper determine if the raise in annual salaries for San Fransisco City employees is increasing at the rate of the home purchasing prices. This report will serve as a detailed analysis of employee salaries for the city San Francisco. The data will be used by the San Fransisco Chronicle newspaper. Journalists at the publication are conducting an comparison of cost of living in the city to salary averages. They have request that the report examine two main factors that possibly affect the cost of living: 1) income and housing. \n",
    "\n",
    "This report will examine the average raise in annual salary per job title, per year. The data spans from the years 2013-2020. The report will also use outside data that lists the average median home price in San Fransisco covering the same span of time. For this project, we will mainly explore salaries for fiscal years from 2013-2020. \n",
    "\n",
    "This report will show increases or decreases in job title occupancy. This report will also estimate the percetage of employee salary ranges from Fiscal years 2013 to 2020. Additionnally, we will summarize the findings and compare the perectages of income increase to the percentages of median home prices increase from 2013 to 2020. \n",
    "\n"
   ]
  },
  {
   "cell_type": "code",
   "execution_count": 21,
   "id": "e7603cc4",
   "metadata": {},
   "outputs": [],
   "source": [
    "employee.compensation <- read.csv(\"C:/Users/Sandy/Desktop/R CSV FILES/employee.compensation.csv\")"
   ]
  },
  {
   "cell_type": "markdown",
   "id": "5817a476",
   "metadata": {},
   "source": [
    "#  Data Exploration: \n",
    "The \"head' function in combination with the name of the csv file and the number 10, print out the first 10 lines of the dataset. Here you will see that I pre-sorted the data so that it is arranged by the highest Fiscal Year (2020), followed by the second highest Fiscal and Calander years (2019-2013). \n",
    "\n",
    "The str() list the columns of data, their data types and characteristics. From this information, you will see that there are 22 variables which stores 683277 observations. The original data set contain 22 variables  made up of factors, num, and int. But I created a 23rd one called YT.Y that combined Year Type plus Year. I also printed out a summary of the dataset that lists such information as the various jobs under Jobs.Family."
   ]
  },
  {
   "cell_type": "code",
   "execution_count": 2,
   "id": "ae3d096b",
   "metadata": {},
   "outputs": [
    {
     "data": {
      "text/html": [
       "<table>\n",
       "<thead><tr><th scope=col>Organization.Group.Code</th><th scope=col>Job.Family.Code</th><th scope=col>Job.Code</th><th scope=col>Year.Type</th><th scope=col>Year</th><th scope=col>YT.Year</th><th scope=col>Organization.Group</th><th scope=col>Department.Code</th><th scope=col>Department</th><th scope=col>Union.Code</th><th scope=col>...</th><th scope=col>Employee.Identifier</th><th scope=col>Salaries</th><th scope=col>Overtime</th><th scope=col>Other.Salaries</th><th scope=col>Total.Salary</th><th scope=col>Retirement</th><th scope=col>Health.and.Dental</th><th scope=col>Other.Benefits</th><th scope=col>Total.Benefits</th><th scope=col>Total.Compensation</th></tr></thead>\n",
       "<tbody>\n",
       "\t<tr><td>1                </td><td>1000             </td><td>1032             </td><td>Fiscal           </td><td>2020             </td><td>Fiscal 2020      </td><td>Public Protection</td><td>ADP              </td><td>Adult Probation  </td><td>21               </td><td>...              </td><td>42447638         </td><td> 95416.01        </td><td>0                </td><td>   0.00          </td><td> 95416.01        </td><td>19907.98         </td><td>15088.45         </td><td> 7168.05         </td><td>42164.48         </td><td>137580.49        </td></tr>\n",
       "\t<tr><td>1                </td><td>1000             </td><td>1041             </td><td>Fiscal           </td><td>2020             </td><td>Fiscal 2020      </td><td>Public Protection</td><td>ADP              </td><td>Adult Probation  </td><td>21               </td><td>...              </td><td>42420105         </td><td>125989.00        </td><td>0                </td><td>   0.00          </td><td>125989.00        </td><td>26284.23         </td><td>15088.45         </td><td> 9913.14         </td><td>51285.82         </td><td>177274.82        </td></tr>\n",
       "\t<tr><td>1                </td><td>1000             </td><td>1053             </td><td>Fiscal           </td><td>2020             </td><td>Fiscal 2020      </td><td>Public Protection</td><td>ADP              </td><td>Adult Probation  </td><td>21               </td><td>...              </td><td>43006090         </td><td>118150.24        </td><td>0                </td><td>   0.00          </td><td>118150.24        </td><td>24648.83         </td><td>14665.97         </td><td> 8946.94         </td><td>48261.74         </td><td>166411.98        </td></tr>\n",
       "\t<tr><td>1                </td><td>1000             </td><td>1054             </td><td>Fiscal           </td><td>2020             </td><td>Fiscal 2020      </td><td>Public Protection</td><td>ADP              </td><td>Adult Probation  </td><td>21               </td><td>...              </td><td>42442006         </td><td>162491.00        </td><td>0                </td><td>   0.00          </td><td>162491.00        </td><td>33118.86         </td><td>15088.45         </td><td>11583.29         </td><td>59790.60         </td><td>222281.60        </td></tr>\n",
       "\t<tr><td>1                </td><td>1000             </td><td>1062             </td><td>Fiscal           </td><td>2020             </td><td>Fiscal 2020      </td><td>Public Protection</td><td>ADP              </td><td>Adult Probation  </td><td>21               </td><td>...              </td><td>41266118         </td><td> 18521.00        </td><td>0                </td><td>8985.24          </td><td> 23013.62        </td><td> 3810.61         </td><td> 2901.62         </td><td> 1819.18         </td><td> 8531.41         </td><td> 31545.03        </td></tr>\n",
       "\t<tr><td>1                </td><td>1000             </td><td>1070             </td><td>Fiscal           </td><td>2020             </td><td>Fiscal 2020      </td><td>Public Protection</td><td>ADP              </td><td>Adult Probation  </td><td>21               </td><td>...              </td><td>42427358         </td><td>179170.00        </td><td>0                </td><td>   0.00          </td><td>179170.00        </td><td>36518.22         </td><td>15088.45         </td><td>11871.32         </td><td>63477.99         </td><td>242647.99        </td></tr>\n",
       "\t<tr><td>1                </td><td>1000             </td><td>1094             </td><td>Fiscal           </td><td>2020             </td><td>Fiscal 2020      </td><td>Public Protection</td><td>ADP              </td><td>Adult Probation  </td><td>21               </td><td>...              </td><td>42449152         </td><td>126249.00        </td><td>0                </td><td>   0.00          </td><td>126249.00        </td><td>26315.37         </td><td>15088.45         </td><td>10242.26         </td><td>51646.08         </td><td>177895.08        </td></tr>\n",
       "\t<tr><td>1                </td><td>1600             </td><td>1654             </td><td>Fiscal           </td><td>2020             </td><td>Fiscal 2020      </td><td>Public Protection</td><td>ADP              </td><td>Adult Probation  </td><td>21               </td><td>...              </td><td>42444467         </td><td>113995.00        </td><td>0                </td><td>   0.00          </td><td>113995.00        </td><td>23781.92         </td><td>15088.45         </td><td> 9199.82         </td><td>48070.19         </td><td>162065.19        </td></tr>\n",
       "\t<tr><td>1                </td><td>1800             </td><td>1804             </td><td>Fiscal           </td><td>2020             </td><td>Fiscal 2020      </td><td>Public Protection</td><td>ADP              </td><td>Adult Probation  </td><td>21               </td><td>...              </td><td>42438919         </td><td> 93166.91        </td><td>0                </td><td>   0.00          </td><td> 93166.91        </td><td>19438.68         </td><td>14986.89         </td><td> 7513.68         </td><td>41939.25         </td><td>135106.16        </td></tr>\n",
       "\t<tr><td>1                </td><td>1800             </td><td>1823             </td><td>Fiscal           </td><td>2020             </td><td>Fiscal 2020      </td><td>Public Protection</td><td>ADP              </td><td>Adult Probation  </td><td>21               </td><td>...              </td><td>42417811         </td><td>118448.01        </td><td>0                </td><td>   0.00          </td><td>118448.01        </td><td>24710.91         </td><td>15088.45         </td><td> 9653.52         </td><td>49452.88         </td><td>167900.89        </td></tr>\n",
       "</tbody>\n",
       "</table>\n"
      ],
      "text/latex": [
       "\\begin{tabular}{r|lllllllllllllllllllllll}\n",
       " Organization.Group.Code & Job.Family.Code & Job.Code & Year.Type & Year & YT.Year & Organization.Group & Department.Code & Department & Union.Code & ... & Employee.Identifier & Salaries & Overtime & Other.Salaries & Total.Salary & Retirement & Health.and.Dental & Other.Benefits & Total.Benefits & Total.Compensation\\\\\n",
       "\\hline\n",
       "\t 1                 & 1000              & 1032              & Fiscal            & 2020              & Fiscal 2020       & Public Protection & ADP               & Adult Probation   & 21                & ...               & 42447638          &  95416.01         & 0                 &    0.00           &  95416.01         & 19907.98          & 15088.45          &  7168.05          & 42164.48          & 137580.49        \\\\\n",
       "\t 1                 & 1000              & 1041              & Fiscal            & 2020              & Fiscal 2020       & Public Protection & ADP               & Adult Probation   & 21                & ...               & 42420105          & 125989.00         & 0                 &    0.00           & 125989.00         & 26284.23          & 15088.45          &  9913.14          & 51285.82          & 177274.82        \\\\\n",
       "\t 1                 & 1000              & 1053              & Fiscal            & 2020              & Fiscal 2020       & Public Protection & ADP               & Adult Probation   & 21                & ...               & 43006090          & 118150.24         & 0                 &    0.00           & 118150.24         & 24648.83          & 14665.97          &  8946.94          & 48261.74          & 166411.98        \\\\\n",
       "\t 1                 & 1000              & 1054              & Fiscal            & 2020              & Fiscal 2020       & Public Protection & ADP               & Adult Probation   & 21                & ...               & 42442006          & 162491.00         & 0                 &    0.00           & 162491.00         & 33118.86          & 15088.45          & 11583.29          & 59790.60          & 222281.60        \\\\\n",
       "\t 1                 & 1000              & 1062              & Fiscal            & 2020              & Fiscal 2020       & Public Protection & ADP               & Adult Probation   & 21                & ...               & 41266118          &  18521.00         & 0                 & 8985.24           &  23013.62         &  3810.61          &  2901.62          &  1819.18          &  8531.41          &  31545.03        \\\\\n",
       "\t 1                 & 1000              & 1070              & Fiscal            & 2020              & Fiscal 2020       & Public Protection & ADP               & Adult Probation   & 21                & ...               & 42427358          & 179170.00         & 0                 &    0.00           & 179170.00         & 36518.22          & 15088.45          & 11871.32          & 63477.99          & 242647.99        \\\\\n",
       "\t 1                 & 1000              & 1094              & Fiscal            & 2020              & Fiscal 2020       & Public Protection & ADP               & Adult Probation   & 21                & ...               & 42449152          & 126249.00         & 0                 &    0.00           & 126249.00         & 26315.37          & 15088.45          & 10242.26          & 51646.08          & 177895.08        \\\\\n",
       "\t 1                 & 1600              & 1654              & Fiscal            & 2020              & Fiscal 2020       & Public Protection & ADP               & Adult Probation   & 21                & ...               & 42444467          & 113995.00         & 0                 &    0.00           & 113995.00         & 23781.92          & 15088.45          &  9199.82          & 48070.19          & 162065.19        \\\\\n",
       "\t 1                 & 1800              & 1804              & Fiscal            & 2020              & Fiscal 2020       & Public Protection & ADP               & Adult Probation   & 21                & ...               & 42438919          &  93166.91         & 0                 &    0.00           &  93166.91         & 19438.68          & 14986.89          &  7513.68          & 41939.25          & 135106.16        \\\\\n",
       "\t 1                 & 1800              & 1823              & Fiscal            & 2020              & Fiscal 2020       & Public Protection & ADP               & Adult Probation   & 21                & ...               & 42417811          & 118448.01         & 0                 &    0.00           & 118448.01         & 24710.91          & 15088.45          &  9653.52          & 49452.88          & 167900.89        \\\\\n",
       "\\end{tabular}\n"
      ],
      "text/markdown": [
       "\n",
       "| Organization.Group.Code | Job.Family.Code | Job.Code | Year.Type | Year | YT.Year | Organization.Group | Department.Code | Department | Union.Code | ... | Employee.Identifier | Salaries | Overtime | Other.Salaries | Total.Salary | Retirement | Health.and.Dental | Other.Benefits | Total.Benefits | Total.Compensation |\n",
       "|---|---|---|---|---|---|---|---|---|---|---|---|---|---|---|---|---|---|---|---|---|\n",
       "| 1                 | 1000              | 1032              | Fiscal            | 2020              | Fiscal 2020       | Public Protection | ADP               | Adult Probation   | 21                | ...               | 42447638          |  95416.01         | 0                 |    0.00           |  95416.01         | 19907.98          | 15088.45          |  7168.05          | 42164.48          | 137580.49         |\n",
       "| 1                 | 1000              | 1041              | Fiscal            | 2020              | Fiscal 2020       | Public Protection | ADP               | Adult Probation   | 21                | ...               | 42420105          | 125989.00         | 0                 |    0.00           | 125989.00         | 26284.23          | 15088.45          |  9913.14          | 51285.82          | 177274.82         |\n",
       "| 1                 | 1000              | 1053              | Fiscal            | 2020              | Fiscal 2020       | Public Protection | ADP               | Adult Probation   | 21                | ...               | 43006090          | 118150.24         | 0                 |    0.00           | 118150.24         | 24648.83          | 14665.97          |  8946.94          | 48261.74          | 166411.98         |\n",
       "| 1                 | 1000              | 1054              | Fiscal            | 2020              | Fiscal 2020       | Public Protection | ADP               | Adult Probation   | 21                | ...               | 42442006          | 162491.00         | 0                 |    0.00           | 162491.00         | 33118.86          | 15088.45          | 11583.29          | 59790.60          | 222281.60         |\n",
       "| 1                 | 1000              | 1062              | Fiscal            | 2020              | Fiscal 2020       | Public Protection | ADP               | Adult Probation   | 21                | ...               | 41266118          |  18521.00         | 0                 | 8985.24           |  23013.62         |  3810.61          |  2901.62          |  1819.18          |  8531.41          |  31545.03         |\n",
       "| 1                 | 1000              | 1070              | Fiscal            | 2020              | Fiscal 2020       | Public Protection | ADP               | Adult Probation   | 21                | ...               | 42427358          | 179170.00         | 0                 |    0.00           | 179170.00         | 36518.22          | 15088.45          | 11871.32          | 63477.99          | 242647.99         |\n",
       "| 1                 | 1000              | 1094              | Fiscal            | 2020              | Fiscal 2020       | Public Protection | ADP               | Adult Probation   | 21                | ...               | 42449152          | 126249.00         | 0                 |    0.00           | 126249.00         | 26315.37          | 15088.45          | 10242.26          | 51646.08          | 177895.08         |\n",
       "| 1                 | 1600              | 1654              | Fiscal            | 2020              | Fiscal 2020       | Public Protection | ADP               | Adult Probation   | 21                | ...               | 42444467          | 113995.00         | 0                 |    0.00           | 113995.00         | 23781.92          | 15088.45          |  9199.82          | 48070.19          | 162065.19         |\n",
       "| 1                 | 1800              | 1804              | Fiscal            | 2020              | Fiscal 2020       | Public Protection | ADP               | Adult Probation   | 21                | ...               | 42438919          |  93166.91         | 0                 |    0.00           |  93166.91         | 19438.68          | 14986.89          |  7513.68          | 41939.25          | 135106.16         |\n",
       "| 1                 | 1800              | 1823              | Fiscal            | 2020              | Fiscal 2020       | Public Protection | ADP               | Adult Probation   | 21                | ...               | 42417811          | 118448.01         | 0                 |    0.00           | 118448.01         | 24710.91          | 15088.45          |  9653.52          | 49452.88          | 167900.89         |\n",
       "\n"
      ],
      "text/plain": [
       "   Organization.Group.Code Job.Family.Code Job.Code Year.Type Year YT.Year    \n",
       "1  1                       1000            1032     Fiscal    2020 Fiscal 2020\n",
       "2  1                       1000            1041     Fiscal    2020 Fiscal 2020\n",
       "3  1                       1000            1053     Fiscal    2020 Fiscal 2020\n",
       "4  1                       1000            1054     Fiscal    2020 Fiscal 2020\n",
       "5  1                       1000            1062     Fiscal    2020 Fiscal 2020\n",
       "6  1                       1000            1070     Fiscal    2020 Fiscal 2020\n",
       "7  1                       1000            1094     Fiscal    2020 Fiscal 2020\n",
       "8  1                       1600            1654     Fiscal    2020 Fiscal 2020\n",
       "9  1                       1800            1804     Fiscal    2020 Fiscal 2020\n",
       "10 1                       1800            1823     Fiscal    2020 Fiscal 2020\n",
       "   Organization.Group Department.Code Department      Union.Code ...\n",
       "1  Public Protection  ADP             Adult Probation 21         ...\n",
       "2  Public Protection  ADP             Adult Probation 21         ...\n",
       "3  Public Protection  ADP             Adult Probation 21         ...\n",
       "4  Public Protection  ADP             Adult Probation 21         ...\n",
       "5  Public Protection  ADP             Adult Probation 21         ...\n",
       "6  Public Protection  ADP             Adult Probation 21         ...\n",
       "7  Public Protection  ADP             Adult Probation 21         ...\n",
       "8  Public Protection  ADP             Adult Probation 21         ...\n",
       "9  Public Protection  ADP             Adult Probation 21         ...\n",
       "10 Public Protection  ADP             Adult Probation 21         ...\n",
       "   Employee.Identifier Salaries  Overtime Other.Salaries Total.Salary\n",
       "1  42447638             95416.01 0           0.00         95416.01   \n",
       "2  42420105            125989.00 0           0.00        125989.00   \n",
       "3  43006090            118150.24 0           0.00        118150.24   \n",
       "4  42442006            162491.00 0           0.00        162491.00   \n",
       "5  41266118             18521.00 0        8985.24         23013.62   \n",
       "6  42427358            179170.00 0           0.00        179170.00   \n",
       "7  42449152            126249.00 0           0.00        126249.00   \n",
       "8  42444467            113995.00 0           0.00        113995.00   \n",
       "9  42438919             93166.91 0           0.00         93166.91   \n",
       "10 42417811            118448.01 0           0.00        118448.01   \n",
       "   Retirement Health.and.Dental Other.Benefits Total.Benefits\n",
       "1  19907.98   15088.45           7168.05       42164.48      \n",
       "2  26284.23   15088.45           9913.14       51285.82      \n",
       "3  24648.83   14665.97           8946.94       48261.74      \n",
       "4  33118.86   15088.45          11583.29       59790.60      \n",
       "5   3810.61    2901.62           1819.18        8531.41      \n",
       "6  36518.22   15088.45          11871.32       63477.99      \n",
       "7  26315.37   15088.45          10242.26       51646.08      \n",
       "8  23781.92   15088.45           9199.82       48070.19      \n",
       "9  19438.68   14986.89           7513.68       41939.25      \n",
       "10 24710.91   15088.45           9653.52       49452.88      \n",
       "   Total.Compensation\n",
       "1  137580.49         \n",
       "2  177274.82         \n",
       "3  166411.98         \n",
       "4  222281.60         \n",
       "5   31545.03         \n",
       "6  242647.99         \n",
       "7  177895.08         \n",
       "8  162065.19         \n",
       "9  135106.16         \n",
       "10 167900.89         "
      ]
     },
     "metadata": {},
     "output_type": "display_data"
    }
   ],
   "source": [
    "head(employee.compensation, 10)"
   ]
  },
  {
   "cell_type": "code",
   "execution_count": 3,
   "id": "1a0f29c8",
   "metadata": {
    "scrolled": true
   },
   "outputs": [
    {
     "name": "stdout",
     "output_type": "stream",
     "text": [
      "'data.frame':\t683277 obs. of  23 variables:\n",
      " $ Organization.Group.Code: int  1 1 1 1 1 1 1 1 1 1 ...\n",
      " $ Job.Family.Code        : Factor w/ 59 levels \"__UNASSIGNED__\",..: 3 3 3 3 3 3 3 9 11 11 ...\n",
      " $ Job.Code               : Factor w/ 1210 levels \"1002\",\"1003\",..: 13 15 21 22 24 27 33 165 201 209 ...\n",
      " $ Year.Type              : Factor w/ 2 levels \"Calendar\",\"Fiscal\": 2 2 2 2 2 2 2 2 2 2 ...\n",
      " $ Year                   : int  2020 2020 2020 2020 2020 2020 2020 2020 2020 2020 ...\n",
      " $ YT.Year                : Factor w/ 15 levels \"Calendar 2013\",..: 15 15 15 15 15 15 15 15 15 15 ...\n",
      " $ Organization.Group     : Factor w/ 7 levels \"Community Health\",..: 6 6 6 6 6 6 6 6 6 6 ...\n",
      " $ Department.Code        : Factor w/ 61 levels \"\",\"AAM\",\"ADM\",..: 4 4 4 4 4 4 4 4 4 4 ...\n",
      " $ Department             : Factor w/ 110 levels \"\",\"AAM Asian Art Museum\",..: 7 7 7 7 7 7 7 7 7 7 ...\n",
      " $ Union.Code             : int  21 21 21 21 21 21 21 21 21 21 ...\n",
      " $ Union                  : Factor w/ 130 levels \"\",\"Auto Machinist, Local 1414\",..: 85 85 85 85 85 85 85 85 85 85 ...\n",
      " $ Job.Family             : Factor w/ 59 levels \"Administrative-DPW/PUC\",..: 24 24 24 24 24 24 24 36 8 8 ...\n",
      " $ Job                    : Factor w/ 1350 levels \"\",\"Account Clerk\",..: 649 632 631 630 642 644 653 6 1196 1020 ...\n",
      " $ Employee.Identifier    : int  42447638 42420105 43006090 42442006 41266118 42427358 42449152 42444467 42438919 42417811 ...\n",
      " $ Salaries               : num  95416 125989 118150 162491 18521 ...\n",
      " $ Overtime               : num  0 0 0 0 0 0 0 0 0 0 ...\n",
      " $ Other.Salaries         : num  0 0 0 0 8985 ...\n",
      " $ Total.Salary           : num  95416 125989 118150 162491 23014 ...\n",
      " $ Retirement             : num  19908 26284 24649 33119 3811 ...\n",
      " $ Health.and.Dental      : num  15088 15088 14666 15088 2902 ...\n",
      " $ Other.Benefits         : num  7168 9913 8947 11583 1819 ...\n",
      " $ Total.Benefits         : num  42164 51286 48262 59791 8531 ...\n",
      " $ Total.Compensation     : num  137580 177275 166412 222282 31545 ...\n"
     ]
    }
   ],
   "source": [
    "str(employee.compensation)"
   ]
  },
  {
   "cell_type": "code",
   "execution_count": 4,
   "id": "4fcfa5c4",
   "metadata": {},
   "outputs": [
    {
     "data": {
      "text/plain": [
       " Organization.Group.Code Job.Family.Code     Job.Code         Year.Type     \n",
       " Min.   :1.000           2300   : 71080   9163   : 43373   Calendar:298164  \n",
       " 1st Qu.:2.000           9100   : 57142   P103   : 25285   Fiscal  :385113  \n",
       " Median :2.000           Q000   : 42326   2320   : 21954                    \n",
       " Mean   :2.978           7300   : 39921   H002   : 14038                    \n",
       " 3rd Qu.:4.000           2900   : 35101   9910   : 13690                    \n",
       " Max.   :7.000           9900   : 31968   2708   : 13525                    \n",
       "                         (Other):405739   (Other):551412                    \n",
       "      Year               YT.Year      \n",
       " Min.   :2013   Fiscal 2017  : 87881  \n",
       " 1st Qu.:2015   Fiscal 2019  : 44528  \n",
       " Median :2017   Calendar 2019: 44525  \n",
       " Mean   :2016   Calendar 2016: 44391  \n",
       " 3rd Qu.:2018   Fiscal 2016  : 44087  \n",
       " Max.   :2020   Fiscal 2015  : 43078  \n",
       "                (Other)      :374787  \n",
       "                                Organization.Group Department.Code \n",
       " Community Health                        :150122   DPH    :150122  \n",
       " Culture & Recreation                    : 62118   MTA    :101886  \n",
       " General Administration & Finance        : 62123   POL    : 53140  \n",
       " General City Responsibilities           :   484   REC    : 38745  \n",
       " Human Welfare & Neighborhood Development: 61678   DSS    : 34606  \n",
       " Public Protection                       :130982   AIR    : 31808  \n",
       " Public Works, Transportation & Commerce :215770   (Other):272970  \n",
       "                         Department       Union.Code   \n",
       " DPH Public Health            : 82869   Min.   :  1.0  \n",
       " Public Health                : 67253   1st Qu.:250.0  \n",
       " MTA Municipal Transprtn Agncy: 55856   Median :535.0  \n",
       " Municipal Transportation Agcy: 46030   Mean   :492.5  \n",
       " HSA Human Services Agency    : 31290   3rd Qu.:790.0  \n",
       " POL Police                   : 30241   Max.   :990.0  \n",
       " (Other)                      :369738   NA's   :351    \n",
       "                                             Union       \n",
       " SEIU, Local 1021, Misc                         :115502  \n",
       " SEIU - Miscellaneous, Local 1021               :108284  \n",
       " Prof & Tech Engineers - Miscellaneous, Local 21: 48814  \n",
       " Prof & Tech Eng, Local 21                      : 43424  \n",
       " SEIU - Staff and Per Diem Nurses, Local 1021   : 28721  \n",
       " Police Officers' Association                   : 24832  \n",
       " (Other)                                        :313700  \n",
       "               Job.Family                         Job        \n",
       " Nursing            : 71080   Transit Operator      : 43373  \n",
       " Street Transit     : 57142   Special Nurse         : 25285  \n",
       " Police Services    : 42326   Registered Nurse      : 21954  \n",
       " Journeyman Trade   : 39921   Firefighter           : 14038  \n",
       " Human Services     : 35101   Public Service Trainee: 13690  \n",
       " Public Service Aide: 31968   Custodian             : 13525  \n",
       " (Other)            :405739   (Other)               :551412  \n",
       " Employee.Identifier    Salaries         Overtime      Other.Salaries    \n",
       " Min.   :       0    Min.   :-68772   Min.   :-12309   Min.   :-19131.1  \n",
       " 1st Qu.:   25450    1st Qu.: 29010   1st Qu.:     0   1st Qu.:     0.0  \n",
       " Median :   50975    Median : 67899   Median :     0   Median :   706.2  \n",
       " Mean   :17087113    Mean   : 69466   Mean   :  5475   Mean   :  3820.5  \n",
       " 3rd Qu.:37377031    3rd Qu.:100417   3rd Qu.:  4223   3rd Qu.:  4362.9  \n",
       " Max.   :44346433    Max.   :651937   Max.   :321523   Max.   :568163.1  \n",
       "                                                                         \n",
       "  Total.Salary      Retirement     Health.and.Dental Other.Benefits  \n",
       " Min.   :-68772   Min.   :-30621   Min.   :-3831     Min.   :-10636  \n",
       " 1st Qu.: 31676   1st Qu.:  4663   1st Qu.: 4781     1st Qu.:  1870  \n",
       " Median : 74870   Median : 13858   Median :12501     Median :  4877  \n",
       " Mean   : 78571   Mean   : 13659   Mean   : 9947     Mean   :  5039  \n",
       " 3rd Qu.:112666   3rd Qu.: 20152   3rd Qu.:14037     3rd Qu.:  7526  \n",
       " Max.   :658868   Max.   :121953   Max.   :59405     Max.   : 36815  \n",
       "                                                                     \n",
       " Total.Benefits   Total.Compensation\n",
       " Min.   :-21295   Min.   :-74083    \n",
       " 1st Qu.: 11716   1st Qu.: 44439    \n",
       " Median : 32521   Median :107529    \n",
       " Mean   : 28645   Mean   :107216    \n",
       " 3rd Qu.: 40916   3rd Qu.:154171    \n",
       " Max.   :151645   Max.   :807625    \n",
       "                                    "
      ]
     },
     "metadata": {},
     "output_type": "display_data"
    }
   ],
   "source": [
    "summary(employee.compensation)"
   ]
  },
  {
   "cell_type": "code",
   "execution_count": 5,
   "id": "b97d7b15",
   "metadata": {},
   "outputs": [
    {
     "data": {
      "text/plain": [
       "   Min. 1st Qu.  Median    Mean 3rd Qu.    Max. \n",
       " -68772   31676   74870   78571  112666  658868 "
      ]
     },
     "metadata": {},
     "output_type": "display_data"
    }
   ],
   "source": [
    "summary(employee.compensation$Total.Salary)"
   ]
  },
  {
   "cell_type": "markdown",
   "id": "9cd2d718",
   "metadata": {},
   "source": [
    "# Subsets of Data: Produce 5 different subsets relevant to the newspaper, containing distinct rows and columns. Your results should be relevant help the newspaper show the facts of employment.\n",
    "\n",
    "The subdata sets from fiscal years 2020-2013 tells us the total salary of all employees for the fiscal year of 2020. At first I used code similar to subset2020 <- employee.compensation, [12:643000, ], but found that my first subset dataframe from 2020 was approximately $95,000 short from the sum on the csv file. I also created a subset that only list unique job titles and the number of entries for each title per fiscal year. I made a subset column for the total compensation for the 2020 fiscal year. \n",
    "\n"
   ]
  },
  {
   "cell_type": "code",
   "execution_count": 6,
   "id": "0ababa00",
   "metadata": {
    "scrolled": true
   },
   "outputs": [
    {
     "name": "stdout",
     "output_type": "stream",
     "text": [
      "[1] \"2020 Total Salary\"\n"
     ]
    },
    {
     "data": {
      "text/html": [
       "3983192156.57"
      ],
      "text/latex": [
       "3983192156.57"
      ],
      "text/markdown": [
       "3983192156.57"
      ],
      "text/plain": [
       "[1] 3983192157"
      ]
     },
     "metadata": {},
     "output_type": "display_data"
    },
    {
     "name": "stdout",
     "output_type": "stream",
     "text": [
      "[1] \"2019 Total Salary\"\n"
     ]
    },
    {
     "data": {
      "text/html": [
       "3819404562.77"
      ],
      "text/latex": [
       "3819404562.77"
      ],
      "text/markdown": [
       "3819404562.77"
      ],
      "text/plain": [
       "[1] 3819404563"
      ]
     },
     "metadata": {},
     "output_type": "display_data"
    },
    {
     "name": "stdout",
     "output_type": "stream",
     "text": [
      "[1] \"2018 Total Salary\"\n"
     ]
    },
    {
     "data": {
      "text/html": [
       "3634620318.55"
      ],
      "text/latex": [
       "3634620318.55"
      ],
      "text/markdown": [
       "3634620318.55"
      ],
      "text/plain": [
       "[1] 3634620319"
      ]
     },
     "metadata": {},
     "output_type": "display_data"
    },
    {
     "name": "stdout",
     "output_type": "stream",
     "text": [
      "[1] \"2017 Total Salary\"\n"
     ]
    },
    {
     "data": {
      "text/html": [
       "6895830977.54"
      ],
      "text/latex": [
       "6895830977.54"
      ],
      "text/markdown": [
       "6895830977.54"
      ],
      "text/plain": [
       "[1] 6895830978"
      ]
     },
     "metadata": {},
     "output_type": "display_data"
    },
    {
     "name": "stdout",
     "output_type": "stream",
     "text": [
      "[1] \"2016 Total Salary\"\n"
     ]
    },
    {
     "data": {
      "text/html": [
       "3236336973.81"
      ],
      "text/latex": [
       "3236336973.81"
      ],
      "text/markdown": [
       "3236336973.81"
      ],
      "text/plain": [
       "[1] 3236336974"
      ]
     },
     "metadata": {},
     "output_type": "display_data"
    },
    {
     "name": "stdout",
     "output_type": "stream",
     "text": [
      "[1] \"2015 Total Salary\"\n"
     ]
    },
    {
     "data": {
      "text/html": [
       "3011351730.75"
      ],
      "text/latex": [
       "3011351730.75"
      ],
      "text/markdown": [
       "3011351730.75"
      ],
      "text/plain": [
       "[1] 3011351731"
      ]
     },
     "metadata": {},
     "output_type": "display_data"
    },
    {
     "name": "stdout",
     "output_type": "stream",
     "text": [
      "[1] \"2014 Total Salary\"\n"
     ]
    },
    {
     "data": {
      "text/html": [
       "2862986736.88"
      ],
      "text/latex": [
       "2862986736.88"
      ],
      "text/markdown": [
       "2862986736.88"
      ],
      "text/plain": [
       "[1] 2862986737"
      ]
     },
     "metadata": {},
     "output_type": "display_data"
    },
    {
     "name": "stdout",
     "output_type": "stream",
     "text": [
      "[1] \"2013 Total Salary\"\n"
     ]
    },
    {
     "data": {
      "text/html": [
       "2798882970.85"
      ],
      "text/latex": [
       "2798882970.85"
      ],
      "text/markdown": [
       "2798882970.85"
      ],
      "text/plain": [
       "[1] 2798882971"
      ]
     },
     "metadata": {},
     "output_type": "display_data"
    }
   ],
   "source": [
    "data2020 <- subset(employee.compensation, Year == 2020)\n",
    "fiscal.2020 <- subset(data2020, YT.Year== \"Fiscal 2020\")\n",
    "print(\"2020 Total Salary\")\n",
    "sum(fiscal.2020$Total.Salary)\n",
    "\n",
    "data2019 <- subset(employee.compensation, Year == 2019)\n",
    "fiscal.2019 <- subset(data2019, YT.Year== \"Fiscal 2019\")\n",
    "print(\"2019 Total Salary\")\n",
    "sum(fiscal.2019$Total.Salary)\n",
    "\n",
    "data2018 <- subset(employee.compensation, Year == 2018)\n",
    "fiscal.2018 <- subset(data2018, YT.Year== \"Fiscal 2018\")\n",
    "print(\"2018 Total Salary\")\n",
    "sum(fiscal.2018$Total.Salary)\n",
    "\n",
    "data2017 <- subset(employee.compensation, Year == 2017)\n",
    "fiscal.2017 <- subset(data2017, YT.Year== \"Fiscal 2017\")\n",
    "print(\"2017 Total Salary\")\n",
    "sum(fiscal.2017$Total.Salary)\n",
    "\n",
    "data2016 <- subset(employee.compensation, Year == 2016)\n",
    "fiscal.2016 <- subset(data2016, YT.Year== \"Fiscal 2016\")\n",
    "print(\"2016 Total Salary\")\n",
    "sum(fiscal.2016$Total.Salary)\n",
    "\n",
    "data2015 <- subset(employee.compensation, Year == 2015)\n",
    "fiscal.2015 <- subset(data2015, YT.Year== \"Fiscal 2015\")\n",
    "print(\"2015 Total Salary\")\n",
    "sum(fiscal.2015$Total.Salary)\n",
    "\n",
    "data2014 <- subset(employee.compensation, Year == 2014)\n",
    "fiscal.2014 <- subset(data2014, YT.Year== \"Fiscal 2014\")\n",
    "print(\"2014 Total Salary\")\n",
    "sum(fiscal.2014$Total.Salary)\n",
    "\n",
    "data2013 <- subset(employee.compensation, Year == 2013)\n",
    "fiscal.2013 <- subset(data2013, YT.Year== \"Fiscal 2013\")\n",
    "print(\"2013 Total Salary\")\n",
    "sum(fiscal.2013$Total.Salary)"
   ]
  },
  {
   "cell_type": "markdown",
   "id": "bf6885f3",
   "metadata": {},
   "source": [
    "# Subset to segregate Job Families in Fiscal Year 2020\n",
    "This is a list of all of the unique job families listed for Fiscal Year 2020. This can be compared against lists from prior fiscal years to determine the job families that were added or deleted from the city employee list."
   ]
  },
  {
   "cell_type": "code",
   "execution_count": 7,
   "id": "3897acd2",
   "metadata": {},
   "outputs": [
    {
     "name": "stdout",
     "output_type": "stream",
     "text": [
      "[1] \"2020 Jobs\"\n"
     ]
    },
    {
     "data": {
      "text/html": [
       "<dl class=dl-horizontal>\n",
       "\t<dt>Administrative-DPW/PUC</dt>\n",
       "\t\t<dd>43</dd>\n",
       "\t<dt>Administrative-Labor &amp; Trades</dt>\n",
       "\t\t<dd>27</dd>\n",
       "\t<dt>Administrative &amp; Mgmt (Unrep)</dt>\n",
       "\t\t<dd>15</dd>\n",
       "\t<dt>Administrative Secretarial</dt>\n",
       "\t\t<dd>5</dd>\n",
       "\t<dt>Agriculture &amp; Horticulture</dt>\n",
       "\t\t<dd>467</dd>\n",
       "\t<dt>Airport Operation</dt>\n",
       "\t\t<dd>462</dd>\n",
       "\t<dt>Appraisal &amp; Taxation</dt>\n",
       "\t\t<dd>188</dd>\n",
       "\t<dt>Budget, Admn &amp; Stats Analysis</dt>\n",
       "\t\t<dd>1443</dd>\n",
       "\t<dt>Clerical, Secretarial &amp; Steno</dt>\n",
       "\t\t<dd>1882</dd>\n",
       "\t<dt>Community Development</dt>\n",
       "\t\t<dd>371</dd>\n",
       "\t<dt>Computer Operatns &amp; Repro Svcs</dt>\n",
       "\t\t<dd>161</dd>\n",
       "\t<dt>Construction Inspection</dt>\n",
       "\t\t<dd>255</dd>\n",
       "\t<dt>Construction Project Mgmt</dt>\n",
       "\t\t<dd>108</dd>\n",
       "\t<dt>Correction &amp; Detention</dt>\n",
       "\t\t<dd>1069</dd>\n",
       "\t<dt>Dietary &amp; Food</dt>\n",
       "\t\t<dd>315</dd>\n",
       "\t<dt>Emergency Coordination</dt>\n",
       "\t\t<dd>26</dd>\n",
       "\t<dt>Emergency Services</dt>\n",
       "\t\t<dd>0</dd>\n",
       "\t<dt>Energy &amp; Environment</dt>\n",
       "\t\t<dd>188</dd>\n",
       "\t<dt>Fire Services</dt>\n",
       "\t\t<dd>1822</dd>\n",
       "\t<dt>Health &amp; Sanitation Inspection</dt>\n",
       "\t\t<dd>146</dd>\n",
       "\t<dt>Hospital Administration</dt>\n",
       "\t\t<dd>167</dd>\n",
       "\t<dt>Housekeeping &amp; Laundry</dt>\n",
       "\t\t<dd>1461</dd>\n",
       "\t<dt>Human Services</dt>\n",
       "\t\t<dd>2261</dd>\n",
       "\t<dt>Information Systems</dt>\n",
       "\t\t<dd>1163</dd>\n",
       "\t<dt>Journeyman Trade</dt>\n",
       "\t\t<dd>2474</dd>\n",
       "\t<dt>Lab, Pharmacy &amp; Med Techs</dt>\n",
       "\t\t<dd>755</dd>\n",
       "\t<dt>Legal &amp; Court</dt>\n",
       "\t\t<dd>988</dd>\n",
       "\t<dt>Library</dt>\n",
       "\t\t<dd>773</dd>\n",
       "\t<dt>Management</dt>\n",
       "\t\t<dd>1244</dd>\n",
       "\t<dt>Med Therapy &amp; Auxiliary</dt>\n",
       "\t\t<dd>855</dd>\n",
       "\t<dt>Medical &amp; Dental</dt>\n",
       "\t\t<dd>306</dd>\n",
       "\t<dt>MTA Operations</dt>\n",
       "\t\t<dd>47</dd>\n",
       "\t<dt>Museum &amp; Cultural Affairs</dt>\n",
       "\t\t<dd>61</dd>\n",
       "\t<dt>Nursing</dt>\n",
       "\t\t<dd>4552</dd>\n",
       "\t<dt>Park &amp; Zoo</dt>\n",
       "\t\t<dd>114</dd>\n",
       "\t<dt>Payroll, Billing &amp; Accounting</dt>\n",
       "\t\t<dd>777</dd>\n",
       "\t<dt>Personnel</dt>\n",
       "\t\t<dd>641</dd>\n",
       "\t<dt>Police Services</dt>\n",
       "\t\t<dd>2415</dd>\n",
       "\t<dt>Port Operation</dt>\n",
       "\t\t<dd>16</dd>\n",
       "\t<dt>Probation &amp; Parole</dt>\n",
       "\t\t<dd>207</dd>\n",
       "\t<dt>Professional Engineering</dt>\n",
       "\t\t<dd>1213</dd>\n",
       "\t<dt>Property Administration</dt>\n",
       "\t\t<dd>14</dd>\n",
       "\t<dt>Protection &amp; Apprehension</dt>\n",
       "\t\t<dd>1284</dd>\n",
       "\t<dt>Pub Relations &amp; Spec Assts</dt>\n",
       "\t\t<dd>208</dd>\n",
       "\t<dt>Public Health</dt>\n",
       "\t\t<dd>170</dd>\n",
       "\t<dt>Public Safety Inspection</dt>\n",
       "\t\t<dd>136</dd>\n",
       "\t<dt>Public Service Aide</dt>\n",
       "\t\t<dd>1397</dd>\n",
       "\t<dt>Purchasing &amp; Storekeeping</dt>\n",
       "\t\t<dd>246</dd>\n",
       "\t<dt>Recreation</dt>\n",
       "\t\t<dd>1209</dd>\n",
       "\t<dt>Revenue</dt>\n",
       "\t\t<dd>85</dd>\n",
       "\t<dt>Semi-Skilled &amp; General Labor</dt>\n",
       "\t\t<dd>522</dd>\n",
       "\t<dt>SF Redevelopment Agency</dt>\n",
       "\t\t<dd>0</dd>\n",
       "\t<dt>SF Superior Court</dt>\n",
       "\t\t<dd>0</dd>\n",
       "\t<dt>Skilled Labor</dt>\n",
       "\t\t<dd>352</dd>\n",
       "\t<dt>Street Transit</dt>\n",
       "\t\t<dd>3581</dd>\n",
       "\t<dt>Sub-Professional Engineering</dt>\n",
       "\t\t<dd>458</dd>\n",
       "\t<dt>Supervisory-Labor &amp; Trade</dt>\n",
       "\t\t<dd>398</dd>\n",
       "\t<dt>Unassigned</dt>\n",
       "\t\t<dd>13</dd>\n",
       "\t<dt>Untitled</dt>\n",
       "\t\t<dd>820</dd>\n",
       "</dl>\n"
      ],
      "text/latex": [
       "\\begin{description*}\n",
       "\\item[Administrative-DPW/PUC] 43\n",
       "\\item[Administrative-Labor \\textbackslash{}\\& Trades] 27\n",
       "\\item[Administrative \\textbackslash{}\\& Mgmt (Unrep)] 15\n",
       "\\item[Administrative Secretarial] 5\n",
       "\\item[Agriculture \\textbackslash{}\\& Horticulture] 467\n",
       "\\item[Airport Operation] 462\n",
       "\\item[Appraisal \\textbackslash{}\\& Taxation] 188\n",
       "\\item[Budget, Admn \\textbackslash{}\\& Stats Analysis] 1443\n",
       "\\item[Clerical, Secretarial \\textbackslash{}\\& Steno] 1882\n",
       "\\item[Community Development] 371\n",
       "\\item[Computer Operatns \\textbackslash{}\\& Repro Svcs] 161\n",
       "\\item[Construction Inspection] 255\n",
       "\\item[Construction Project Mgmt] 108\n",
       "\\item[Correction \\textbackslash{}\\& Detention] 1069\n",
       "\\item[Dietary \\textbackslash{}\\& Food] 315\n",
       "\\item[Emergency Coordination] 26\n",
       "\\item[Emergency Services] 0\n",
       "\\item[Energy \\textbackslash{}\\& Environment] 188\n",
       "\\item[Fire Services] 1822\n",
       "\\item[Health \\textbackslash{}\\& Sanitation Inspection] 146\n",
       "\\item[Hospital Administration] 167\n",
       "\\item[Housekeeping \\textbackslash{}\\& Laundry] 1461\n",
       "\\item[Human Services] 2261\n",
       "\\item[Information Systems] 1163\n",
       "\\item[Journeyman Trade] 2474\n",
       "\\item[Lab, Pharmacy \\textbackslash{}\\& Med Techs] 755\n",
       "\\item[Legal \\textbackslash{}\\& Court] 988\n",
       "\\item[Library] 773\n",
       "\\item[Management] 1244\n",
       "\\item[Med Therapy \\textbackslash{}\\& Auxiliary] 855\n",
       "\\item[Medical \\textbackslash{}\\& Dental] 306\n",
       "\\item[MTA Operations] 47\n",
       "\\item[Museum \\textbackslash{}\\& Cultural Affairs] 61\n",
       "\\item[Nursing] 4552\n",
       "\\item[Park \\textbackslash{}\\& Zoo] 114\n",
       "\\item[Payroll, Billing \\textbackslash{}\\& Accounting] 777\n",
       "\\item[Personnel] 641\n",
       "\\item[Police Services] 2415\n",
       "\\item[Port Operation] 16\n",
       "\\item[Probation \\textbackslash{}\\& Parole] 207\n",
       "\\item[Professional Engineering] 1213\n",
       "\\item[Property Administration] 14\n",
       "\\item[Protection \\textbackslash{}\\& Apprehension] 1284\n",
       "\\item[Pub Relations \\textbackslash{}\\& Spec Assts] 208\n",
       "\\item[Public Health] 170\n",
       "\\item[Public Safety Inspection] 136\n",
       "\\item[Public Service Aide] 1397\n",
       "\\item[Purchasing \\textbackslash{}\\& Storekeeping] 246\n",
       "\\item[Recreation] 1209\n",
       "\\item[Revenue] 85\n",
       "\\item[Semi-Skilled \\textbackslash{}\\& General Labor] 522\n",
       "\\item[SF Redevelopment Agency] 0\n",
       "\\item[SF Superior Court] 0\n",
       "\\item[Skilled Labor] 352\n",
       "\\item[Street Transit] 3581\n",
       "\\item[Sub-Professional Engineering] 458\n",
       "\\item[Supervisory-Labor \\textbackslash{}\\& Trade] 398\n",
       "\\item[Unassigned] 13\n",
       "\\item[Untitled] 820\n",
       "\\end{description*}\n"
      ],
      "text/markdown": [
       "Administrative-DPW/PUC\n",
       ":   43Administrative-Labor &amp;amp; Trades\n",
       ":   27Administrative &amp;amp; Mgmt (Unrep)\n",
       ":   15Administrative Secretarial\n",
       ":   5Agriculture &amp;amp; Horticulture\n",
       ":   467Airport Operation\n",
       ":   462Appraisal &amp;amp; Taxation\n",
       ":   188Budget, Admn &amp;amp; Stats Analysis\n",
       ":   1443Clerical, Secretarial &amp;amp; Steno\n",
       ":   1882Community Development\n",
       ":   371Computer Operatns &amp;amp; Repro Svcs\n",
       ":   161Construction Inspection\n",
       ":   255Construction Project Mgmt\n",
       ":   108Correction &amp;amp; Detention\n",
       ":   1069Dietary &amp;amp; Food\n",
       ":   315Emergency Coordination\n",
       ":   26Emergency Services\n",
       ":   0Energy &amp;amp; Environment\n",
       ":   188Fire Services\n",
       ":   1822Health &amp;amp; Sanitation Inspection\n",
       ":   146Hospital Administration\n",
       ":   167Housekeeping &amp;amp; Laundry\n",
       ":   1461Human Services\n",
       ":   2261Information Systems\n",
       ":   1163Journeyman Trade\n",
       ":   2474Lab, Pharmacy &amp;amp; Med Techs\n",
       ":   755Legal &amp;amp; Court\n",
       ":   988Library\n",
       ":   773Management\n",
       ":   1244Med Therapy &amp;amp; Auxiliary\n",
       ":   855Medical &amp;amp; Dental\n",
       ":   306MTA Operations\n",
       ":   47Museum &amp;amp; Cultural Affairs\n",
       ":   61Nursing\n",
       ":   4552Park &amp;amp; Zoo\n",
       ":   114Payroll, Billing &amp;amp; Accounting\n",
       ":   777Personnel\n",
       ":   641Police Services\n",
       ":   2415Port Operation\n",
       ":   16Probation &amp;amp; Parole\n",
       ":   207Professional Engineering\n",
       ":   1213Property Administration\n",
       ":   14Protection &amp;amp; Apprehension\n",
       ":   1284Pub Relations &amp;amp; Spec Assts\n",
       ":   208Public Health\n",
       ":   170Public Safety Inspection\n",
       ":   136Public Service Aide\n",
       ":   1397Purchasing &amp;amp; Storekeeping\n",
       ":   246Recreation\n",
       ":   1209Revenue\n",
       ":   85Semi-Skilled &amp;amp; General Labor\n",
       ":   522SF Redevelopment Agency\n",
       ":   0SF Superior Court\n",
       ":   0Skilled Labor\n",
       ":   352Street Transit\n",
       ":   3581Sub-Professional Engineering\n",
       ":   458Supervisory-Labor &amp;amp; Trade\n",
       ":   398Unassigned\n",
       ":   13Untitled\n",
       ":   820\n",
       "\n"
      ],
      "text/plain": [
       "        Administrative-DPW/PUC  Administrative-Labor & Trades \n",
       "                            43                             27 \n",
       " Administrative & Mgmt (Unrep)     Administrative Secretarial \n",
       "                            15                              5 \n",
       "    Agriculture & Horticulture              Airport Operation \n",
       "                           467                            462 \n",
       "          Appraisal & Taxation  Budget, Admn & Stats Analysis \n",
       "                           188                           1443 \n",
       " Clerical, Secretarial & Steno          Community Development \n",
       "                          1882                            371 \n",
       "Computer Operatns & Repro Svcs        Construction Inspection \n",
       "                           161                            255 \n",
       "     Construction Project Mgmt         Correction & Detention \n",
       "                           108                           1069 \n",
       "                Dietary & Food         Emergency Coordination \n",
       "                           315                             26 \n",
       "            Emergency Services           Energy & Environment \n",
       "                             0                            188 \n",
       "                 Fire Services Health & Sanitation Inspection \n",
       "                          1822                            146 \n",
       "       Hospital Administration         Housekeeping & Laundry \n",
       "                           167                           1461 \n",
       "                Human Services            Information Systems \n",
       "                          2261                           1163 \n",
       "              Journeyman Trade      Lab, Pharmacy & Med Techs \n",
       "                          2474                            755 \n",
       "                 Legal & Court                        Library \n",
       "                           988                            773 \n",
       "                    Management        Med Therapy & Auxiliary \n",
       "                          1244                            855 \n",
       "              Medical & Dental                 MTA Operations \n",
       "                           306                             47 \n",
       "     Museum & Cultural Affairs                        Nursing \n",
       "                            61                           4552 \n",
       "                    Park & Zoo  Payroll, Billing & Accounting \n",
       "                           114                            777 \n",
       "                     Personnel                Police Services \n",
       "                           641                           2415 \n",
       "                Port Operation             Probation & Parole \n",
       "                            16                            207 \n",
       "      Professional Engineering        Property Administration \n",
       "                          1213                             14 \n",
       "     Protection & Apprehension     Pub Relations & Spec Assts \n",
       "                          1284                            208 \n",
       "                 Public Health       Public Safety Inspection \n",
       "                           170                            136 \n",
       "           Public Service Aide      Purchasing & Storekeeping \n",
       "                          1397                            246 \n",
       "                    Recreation                        Revenue \n",
       "                          1209                             85 \n",
       "  Semi-Skilled & General Labor        SF Redevelopment Agency \n",
       "                           522                              0 \n",
       "             SF Superior Court                  Skilled Labor \n",
       "                             0                            352 \n",
       "                Street Transit   Sub-Professional Engineering \n",
       "                          3581                            458 \n",
       "     Supervisory-Labor & Trade                     Unassigned \n",
       "                           398                             13 \n",
       "                      Untitled \n",
       "                           820 "
      ]
     },
     "metadata": {},
     "output_type": "display_data"
    }
   ],
   "source": [
    "job2020 <- subset(employee.compensation, Year == 2020)\n",
    "job.2020 <- subset(job2020, YT.Year== \"Fiscal 2020\")\n",
    "job.2020.unique <- job.2020[!duplicated(job.2020), ]\n",
    "print(\"2020 Jobs\")\n",
    "summary(job.2020$Job.Family)"
   ]
  },
  {
   "cell_type": "markdown",
   "id": "e707c94c",
   "metadata": {},
   "source": [
    "# Subset to segregate Unique job titles from employee.compensation dataset\n",
    "This is a list of all of the unique jobs listed for Fiscal year 2020. This is a separate from Job Families. This can be compared against lists from prior fiscal years to determine the unique job titles that were added or deleted from the city employee list. I also calculated the fiscal year 2013 to compare."
   ]
  },
  {
   "cell_type": "code",
   "execution_count": 8,
   "id": "e24692e7",
   "metadata": {},
   "outputs": [
    {
     "name": "stdout",
     "output_type": "stream",
     "text": [
      "[1] \"2020 Jobs\"\n"
     ]
    },
    {
     "data": {
      "text/html": [
       "<dl class=dl-horizontal>\n",
       "\t<dt>Transit Operator</dt>\n",
       "\t\t<dd>2741</dd>\n",
       "\t<dt>Special Nurse</dt>\n",
       "\t\t<dd>1589</dd>\n",
       "\t<dt>Registered Nurse</dt>\n",
       "\t\t<dd>1541</dd>\n",
       "\t<dt>Custodian</dt>\n",
       "\t\t<dd>888</dd>\n",
       "\t<dt>Firefighter</dt>\n",
       "\t\t<dd>881</dd>\n",
       "\t<dt>Police Officer 3</dt>\n",
       "\t\t<dd>823</dd>\n",
       "\t<dt>Public Service Trainee</dt>\n",
       "\t\t<dd>737</dd>\n",
       "\t<dt>Recreation Leader</dt>\n",
       "\t\t<dd>682</dd>\n",
       "\t<dt>Patient Care Assistant</dt>\n",
       "\t\t<dd>563</dd>\n",
       "\t<dt>HSA Sr Eligibility Worker</dt>\n",
       "\t\t<dd>531</dd>\n",
       "\t<dt>Sergeant 3</dt>\n",
       "\t\t<dd>498</dd>\n",
       "\t<dt>Police Officer</dt>\n",
       "\t\t<dd>483</dd>\n",
       "\t<dt>Clerk</dt>\n",
       "\t\t<dd>473</dd>\n",
       "\t<dt>Police Officer 2</dt>\n",
       "\t\t<dd>440</dd>\n",
       "\t<dt>Attorney (Civil/Criminal)</dt>\n",
       "\t\t<dd>428</dd>\n",
       "\t<dt>Deputy Sheriff</dt>\n",
       "\t\t<dd>426</dd>\n",
       "\t<dt>EMT/Paramedic/Firefighter</dt>\n",
       "\t\t<dd>415</dd>\n",
       "\t<dt>Porter</dt>\n",
       "\t\t<dd>410</dd>\n",
       "\t<dt>General Laborer</dt>\n",
       "\t\t<dd>380</dd>\n",
       "\t<dt>Public Svc Aide-Public Works</dt>\n",
       "\t\t<dd>352</dd>\n",
       "\t<dt>Senior Administrative Analyst</dt>\n",
       "\t\t<dd>335</dd>\n",
       "\t<dt>Senior Clerk</dt>\n",
       "\t\t<dd>335</dd>\n",
       "\t<dt>Junior Clerk</dt>\n",
       "\t\t<dd>332</dd>\n",
       "\t<dt>Parking Control Officer</dt>\n",
       "\t\t<dd>330</dd>\n",
       "\t<dt>Gardener</dt>\n",
       "\t\t<dd>300</dd>\n",
       "\t<dt>Deputy Sheriff (SFERS)</dt>\n",
       "\t\t<dd>271</dd>\n",
       "\t<dt>Community Police Services Aide</dt>\n",
       "\t\t<dd>265</dd>\n",
       "\t<dt>Library Page</dt>\n",
       "\t\t<dd>262</dd>\n",
       "\t<dt>Medical Evaluations Assistant</dt>\n",
       "\t\t<dd>255</dd>\n",
       "\t<dt>Hospital Eligibility Worker</dt>\n",
       "\t\t<dd>245</dd>\n",
       "\t<dt>Stationary Engineer</dt>\n",
       "\t\t<dd>241</dd>\n",
       "\t<dt>Electrical Transit System Mech</dt>\n",
       "\t\t<dd>235</dd>\n",
       "\t<dt>Administrative Analyst</dt>\n",
       "\t\t<dd>233</dd>\n",
       "\t<dt>Pr Administrative Analyst</dt>\n",
       "\t\t<dd>233</dd>\n",
       "\t<dt>School Crossing Guard</dt>\n",
       "\t\t<dd>226</dd>\n",
       "\t<dt>Licensed Vocational Nurse</dt>\n",
       "\t\t<dd>223</dd>\n",
       "\t<dt>Protective Services Worker</dt>\n",
       "\t\t<dd>221</dd>\n",
       "\t<dt>Nurse Practitioner</dt>\n",
       "\t\t<dd>218</dd>\n",
       "\t<dt>Librarian 1</dt>\n",
       "\t\t<dd>210</dd>\n",
       "\t<dt>Manager II</dt>\n",
       "\t\t<dd>210</dd>\n",
       "\t<dt>Assoc Engineer</dt>\n",
       "\t\t<dd>204</dd>\n",
       "\t<dt>Lieutenant, Fire Suppression</dt>\n",
       "\t\t<dd>204</dd>\n",
       "\t<dt>Transit Supervisor</dt>\n",
       "\t\t<dd>196</dd>\n",
       "\t<dt>Public SafetyComm Disp</dt>\n",
       "\t\t<dd>194</dd>\n",
       "\t<dt>Engineer</dt>\n",
       "\t\t<dd>193</dd>\n",
       "\t<dt>Food Service Worker</dt>\n",
       "\t\t<dd>193</dd>\n",
       "\t<dt>Automotive Mechanic</dt>\n",
       "\t\t<dd>191</dd>\n",
       "\t<dt>Manager III</dt>\n",
       "\t\t<dd>191</dd>\n",
       "\t<dt>Manager I</dt>\n",
       "\t\t<dd>189</dd>\n",
       "\t<dt>Assistant Engineer</dt>\n",
       "\t\t<dd>187</dd>\n",
       "\t<dt>Truck Driver</dt>\n",
       "\t\t<dd>185</dd>\n",
       "\t<dt>Electronic Maintenance Tech</dt>\n",
       "\t\t<dd>184</dd>\n",
       "\t<dt>Behavioral Health Clinician</dt>\n",
       "\t\t<dd>175</dd>\n",
       "\t<dt>HSA Social Worker</dt>\n",
       "\t\t<dd>155</dd>\n",
       "\t<dt>Health Worker 2</dt>\n",
       "\t\t<dd>153</dd>\n",
       "\t<dt>Health Worker 3</dt>\n",
       "\t\t<dd>152</dd>\n",
       "\t<dt>Senior Account Clerk</dt>\n",
       "\t\t<dd>152</dd>\n",
       "\t<dt>StdntDsgnTrain1, Arch/Eng/Plng</dt>\n",
       "\t\t<dd>150</dd>\n",
       "\t<dt>Management Assistant</dt>\n",
       "\t\t<dd>149</dd>\n",
       "\t<dt>Senior Human Resources Analyst</dt>\n",
       "\t\t<dd>149</dd>\n",
       "\t<dt>IS Business Analyst-Principal</dt>\n",
       "\t\t<dd>146</dd>\n",
       "\t<dt>IS Business Analyst-Senior</dt>\n",
       "\t\t<dd>138</dd>\n",
       "\t<dt>Automotive Service Worker</dt>\n",
       "\t\t<dd>136</dd>\n",
       "\t<dt>Publ Svc Aide-Asst to Prof</dt>\n",
       "\t\t<dd>133</dd>\n",
       "\t<dt>Accountant III</dt>\n",
       "\t\t<dd>131</dd>\n",
       "\t<dt>Junior Administrative Analyst</dt>\n",
       "\t\t<dd>128</dd>\n",
       "\t<dt>Transit Car Cleaner</dt>\n",
       "\t\t<dd>128</dd>\n",
       "\t<dt>Stationary Eng, Sewage Plant</dt>\n",
       "\t\t<dd>125</dd>\n",
       "\t<dt>Museum Guard</dt>\n",
       "\t\t<dd>124</dd>\n",
       "\t<dt>Pool Lifeguard</dt>\n",
       "\t\t<dd>123</dd>\n",
       "\t<dt>Manager IV</dt>\n",
       "\t\t<dd>122</dd>\n",
       "\t<dt>Painter</dt>\n",
       "\t\t<dd>122</dd>\n",
       "\t<dt>IS Engineer-Senior</dt>\n",
       "\t\t<dd>121</dd>\n",
       "\t<dt>Senior Clerk Typist</dt>\n",
       "\t\t<dd>121</dd>\n",
       "\t<dt>Nursing Assistant</dt>\n",
       "\t\t<dd>120</dd>\n",
       "\t<dt>Deputy Court Clerk II</dt>\n",
       "\t\t<dd>119</dd>\n",
       "\t<dt>PS Aide to Prof</dt>\n",
       "\t\t<dd>118</dd>\n",
       "\t<dt>Human Resources Analyst</dt>\n",
       "\t\t<dd>114</dd>\n",
       "\t<dt>Health Program Coordinator 3</dt>\n",
       "\t\t<dd>113</dd>\n",
       "\t<dt>Lieutenant 3</dt>\n",
       "\t\t<dd>110</dd>\n",
       "\t<dt>Medical Social Worker</dt>\n",
       "\t\t<dd>109</dd>\n",
       "\t<dt>Program Specialist</dt>\n",
       "\t\t<dd>108</dd>\n",
       "\t<dt>Eng/Arch/Landscape Arch Sr</dt>\n",
       "\t\t<dd>107</dd>\n",
       "\t<dt>Deputy Court Clerk III</dt>\n",
       "\t\t<dd>105</dd>\n",
       "\t<dt>Camp Assistant</dt>\n",
       "\t\t<dd>104</dd>\n",
       "\t<dt>IS Engineer-Principal</dt>\n",
       "\t\t<dd>103</dd>\n",
       "\t<dt>Manager V</dt>\n",
       "\t\t<dd>103</dd>\n",
       "\t<dt>Physician Specialist</dt>\n",
       "\t\t<dd>100</dd>\n",
       "\t<dt>Nurse Manager</dt>\n",
       "\t\t<dd>98</dd>\n",
       "\t<dt>Library Assistant</dt>\n",
       "\t\t<dd>97</dd>\n",
       "\t<dt>Junior Management Assistant</dt>\n",
       "\t\t<dd>94</dd>\n",
       "\t<dt>Electrician</dt>\n",
       "\t\t<dd>93</dd>\n",
       "\t<dt>IT Operations Support Admn III</dt>\n",
       "\t\t<dd>92</dd>\n",
       "\t<dt>Senior Management Assistant</dt>\n",
       "\t\t<dd>89</dd>\n",
       "\t<dt>Sheriff's Cadet</dt>\n",
       "\t\t<dd>87</dd>\n",
       "\t<dt>Customer Service Agent</dt>\n",
       "\t\t<dd>85</dd>\n",
       "\t<dt>Recreation Facility Assistant</dt>\n",
       "\t\t<dd>85</dd>\n",
       "\t<dt>StdntDsgn Train2/Arch/Eng/Plng</dt>\n",
       "\t\t<dd>85</dd>\n",
       "\t<dt>IS Engineer-Journey</dt>\n",
       "\t\t<dd>84</dd>\n",
       "\t<dt>(Other)</dt>\n",
       "\t\t<dd>14049</dd>\n",
       "</dl>\n"
      ],
      "text/latex": [
       "\\begin{description*}\n",
       "\\item[Transit Operator] 2741\n",
       "\\item[Special Nurse] 1589\n",
       "\\item[Registered Nurse] 1541\n",
       "\\item[Custodian] 888\n",
       "\\item[Firefighter] 881\n",
       "\\item[Police Officer 3] 823\n",
       "\\item[Public Service Trainee] 737\n",
       "\\item[Recreation Leader] 682\n",
       "\\item[Patient Care Assistant] 563\n",
       "\\item[HSA Sr Eligibility Worker] 531\n",
       "\\item[Sergeant 3] 498\n",
       "\\item[Police Officer] 483\n",
       "\\item[Clerk] 473\n",
       "\\item[Police Officer 2] 440\n",
       "\\item[Attorney (Civil/Criminal)] 428\n",
       "\\item[Deputy Sheriff] 426\n",
       "\\item[EMT/Paramedic/Firefighter] 415\n",
       "\\item[Porter] 410\n",
       "\\item[General Laborer] 380\n",
       "\\item[Public Svc Aide-Public Works] 352\n",
       "\\item[Senior Administrative Analyst] 335\n",
       "\\item[Senior Clerk] 335\n",
       "\\item[Junior Clerk] 332\n",
       "\\item[Parking Control Officer] 330\n",
       "\\item[Gardener] 300\n",
       "\\item[Deputy Sheriff (SFERS)] 271\n",
       "\\item[Community Police Services Aide] 265\n",
       "\\item[Library Page] 262\n",
       "\\item[Medical Evaluations Assistant] 255\n",
       "\\item[Hospital Eligibility Worker] 245\n",
       "\\item[Stationary Engineer] 241\n",
       "\\item[Electrical Transit System Mech] 235\n",
       "\\item[Administrative Analyst] 233\n",
       "\\item[Pr Administrative Analyst] 233\n",
       "\\item[School Crossing Guard] 226\n",
       "\\item[Licensed Vocational Nurse] 223\n",
       "\\item[Protective Services Worker] 221\n",
       "\\item[Nurse Practitioner] 218\n",
       "\\item[Librarian 1] 210\n",
       "\\item[Manager II] 210\n",
       "\\item[Assoc Engineer] 204\n",
       "\\item[Lieutenant, Fire Suppression] 204\n",
       "\\item[Transit Supervisor] 196\n",
       "\\item[Public SafetyComm Disp] 194\n",
       "\\item[Engineer] 193\n",
       "\\item[Food Service Worker] 193\n",
       "\\item[Automotive Mechanic] 191\n",
       "\\item[Manager III] 191\n",
       "\\item[Manager I] 189\n",
       "\\item[Assistant Engineer] 187\n",
       "\\item[Truck Driver] 185\n",
       "\\item[Electronic Maintenance Tech] 184\n",
       "\\item[Behavioral Health Clinician] 175\n",
       "\\item[HSA Social Worker] 155\n",
       "\\item[Health Worker 2] 153\n",
       "\\item[Health Worker 3] 152\n",
       "\\item[Senior Account Clerk] 152\n",
       "\\item[StdntDsgnTrain1, Arch/Eng/Plng] 150\n",
       "\\item[Management Assistant] 149\n",
       "\\item[Senior Human Resources Analyst] 149\n",
       "\\item[IS Business Analyst-Principal] 146\n",
       "\\item[IS Business Analyst-Senior] 138\n",
       "\\item[Automotive Service Worker] 136\n",
       "\\item[Publ Svc Aide-Asst to Prof] 133\n",
       "\\item[Accountant III] 131\n",
       "\\item[Junior Administrative Analyst] 128\n",
       "\\item[Transit Car Cleaner] 128\n",
       "\\item[Stationary Eng, Sewage Plant] 125\n",
       "\\item[Museum Guard] 124\n",
       "\\item[Pool Lifeguard] 123\n",
       "\\item[Manager IV] 122\n",
       "\\item[Painter] 122\n",
       "\\item[IS Engineer-Senior] 121\n",
       "\\item[Senior Clerk Typist] 121\n",
       "\\item[Nursing Assistant] 120\n",
       "\\item[Deputy Court Clerk II] 119\n",
       "\\item[PS Aide to Prof] 118\n",
       "\\item[Human Resources Analyst] 114\n",
       "\\item[Health Program Coordinator 3] 113\n",
       "\\item[Lieutenant 3] 110\n",
       "\\item[Medical Social Worker] 109\n",
       "\\item[Program Specialist] 108\n",
       "\\item[Eng/Arch/Landscape Arch Sr] 107\n",
       "\\item[Deputy Court Clerk III] 105\n",
       "\\item[Camp Assistant] 104\n",
       "\\item[IS Engineer-Principal] 103\n",
       "\\item[Manager V] 103\n",
       "\\item[Physician Specialist] 100\n",
       "\\item[Nurse Manager] 98\n",
       "\\item[Library Assistant] 97\n",
       "\\item[Junior Management Assistant] 94\n",
       "\\item[Electrician] 93\n",
       "\\item[IT Operations Support Admn III] 92\n",
       "\\item[Senior Management Assistant] 89\n",
       "\\item[Sheriff's Cadet] 87\n",
       "\\item[Customer Service Agent] 85\n",
       "\\item[Recreation Facility Assistant] 85\n",
       "\\item[StdntDsgn Train2/Arch/Eng/Plng] 85\n",
       "\\item[IS Engineer-Journey] 84\n",
       "\\item[(Other)] 14049\n",
       "\\end{description*}\n"
      ],
      "text/markdown": [
       "Transit Operator\n",
       ":   2741Special Nurse\n",
       ":   1589Registered Nurse\n",
       ":   1541Custodian\n",
       ":   888Firefighter\n",
       ":   881Police Officer 3\n",
       ":   823Public Service Trainee\n",
       ":   737Recreation Leader\n",
       ":   682Patient Care Assistant\n",
       ":   563HSA Sr Eligibility Worker\n",
       ":   531Sergeant 3\n",
       ":   498Police Officer\n",
       ":   483Clerk\n",
       ":   473Police Officer 2\n",
       ":   440Attorney (Civil/Criminal)\n",
       ":   428Deputy Sheriff\n",
       ":   426EMT/Paramedic/Firefighter\n",
       ":   415Porter\n",
       ":   410General Laborer\n",
       ":   380Public Svc Aide-Public Works\n",
       ":   352Senior Administrative Analyst\n",
       ":   335Senior Clerk\n",
       ":   335Junior Clerk\n",
       ":   332Parking Control Officer\n",
       ":   330Gardener\n",
       ":   300Deputy Sheriff (SFERS)\n",
       ":   271Community Police Services Aide\n",
       ":   265Library Page\n",
       ":   262Medical Evaluations Assistant\n",
       ":   255Hospital Eligibility Worker\n",
       ":   245Stationary Engineer\n",
       ":   241Electrical Transit System Mech\n",
       ":   235Administrative Analyst\n",
       ":   233Pr Administrative Analyst\n",
       ":   233School Crossing Guard\n",
       ":   226Licensed Vocational Nurse\n",
       ":   223Protective Services Worker\n",
       ":   221Nurse Practitioner\n",
       ":   218Librarian 1\n",
       ":   210Manager II\n",
       ":   210Assoc Engineer\n",
       ":   204Lieutenant, Fire Suppression\n",
       ":   204Transit Supervisor\n",
       ":   196Public SafetyComm Disp\n",
       ":   194Engineer\n",
       ":   193Food Service Worker\n",
       ":   193Automotive Mechanic\n",
       ":   191Manager III\n",
       ":   191Manager I\n",
       ":   189Assistant Engineer\n",
       ":   187Truck Driver\n",
       ":   185Electronic Maintenance Tech\n",
       ":   184Behavioral Health Clinician\n",
       ":   175HSA Social Worker\n",
       ":   155Health Worker 2\n",
       ":   153Health Worker 3\n",
       ":   152Senior Account Clerk\n",
       ":   152StdntDsgnTrain1, Arch/Eng/Plng\n",
       ":   150Management Assistant\n",
       ":   149Senior Human Resources Analyst\n",
       ":   149IS Business Analyst-Principal\n",
       ":   146IS Business Analyst-Senior\n",
       ":   138Automotive Service Worker\n",
       ":   136Publ Svc Aide-Asst to Prof\n",
       ":   133Accountant III\n",
       ":   131Junior Administrative Analyst\n",
       ":   128Transit Car Cleaner\n",
       ":   128Stationary Eng, Sewage Plant\n",
       ":   125Museum Guard\n",
       ":   124Pool Lifeguard\n",
       ":   123Manager IV\n",
       ":   122Painter\n",
       ":   122IS Engineer-Senior\n",
       ":   121Senior Clerk Typist\n",
       ":   121Nursing Assistant\n",
       ":   120Deputy Court Clerk II\n",
       ":   119PS Aide to Prof\n",
       ":   118Human Resources Analyst\n",
       ":   114Health Program Coordinator 3\n",
       ":   113Lieutenant 3\n",
       ":   110Medical Social Worker\n",
       ":   109Program Specialist\n",
       ":   108Eng/Arch/Landscape Arch Sr\n",
       ":   107Deputy Court Clerk III\n",
       ":   105Camp Assistant\n",
       ":   104IS Engineer-Principal\n",
       ":   103Manager V\n",
       ":   103Physician Specialist\n",
       ":   100Nurse Manager\n",
       ":   98Library Assistant\n",
       ":   97Junior Management Assistant\n",
       ":   94Electrician\n",
       ":   93IT Operations Support Admn III\n",
       ":   92Senior Management Assistant\n",
       ":   89Sheriff's Cadet\n",
       ":   87Customer Service Agent\n",
       ":   85Recreation Facility Assistant\n",
       ":   85StdntDsgn Train2/Arch/Eng/Plng\n",
       ":   85IS Engineer-Journey\n",
       ":   84(Other)\n",
       ":   14049\n",
       "\n"
      ],
      "text/plain": [
       "              Transit Operator                  Special Nurse \n",
       "                          2741                           1589 \n",
       "              Registered Nurse                      Custodian \n",
       "                          1541                            888 \n",
       "                   Firefighter               Police Officer 3 \n",
       "                           881                            823 \n",
       "        Public Service Trainee              Recreation Leader \n",
       "                           737                            682 \n",
       "        Patient Care Assistant      HSA Sr Eligibility Worker \n",
       "                           563                            531 \n",
       "                    Sergeant 3                 Police Officer \n",
       "                           498                            483 \n",
       "                         Clerk               Police Officer 2 \n",
       "                           473                            440 \n",
       "     Attorney (Civil/Criminal)                 Deputy Sheriff \n",
       "                           428                            426 \n",
       "     EMT/Paramedic/Firefighter                         Porter \n",
       "                           415                            410 \n",
       "               General Laborer   Public Svc Aide-Public Works \n",
       "                           380                            352 \n",
       " Senior Administrative Analyst                   Senior Clerk \n",
       "                           335                            335 \n",
       "                  Junior Clerk        Parking Control Officer \n",
       "                           332                            330 \n",
       "                      Gardener         Deputy Sheriff (SFERS) \n",
       "                           300                            271 \n",
       "Community Police Services Aide                   Library Page \n",
       "                           265                            262 \n",
       " Medical Evaluations Assistant    Hospital Eligibility Worker \n",
       "                           255                            245 \n",
       "           Stationary Engineer Electrical Transit System Mech \n",
       "                           241                            235 \n",
       "        Administrative Analyst      Pr Administrative Analyst \n",
       "                           233                            233 \n",
       "         School Crossing Guard      Licensed Vocational Nurse \n",
       "                           226                            223 \n",
       "    Protective Services Worker             Nurse Practitioner \n",
       "                           221                            218 \n",
       "                   Librarian 1                     Manager II \n",
       "                           210                            210 \n",
       "                Assoc Engineer   Lieutenant, Fire Suppression \n",
       "                           204                            204 \n",
       "            Transit Supervisor         Public SafetyComm Disp \n",
       "                           196                            194 \n",
       "                      Engineer            Food Service Worker \n",
       "                           193                            193 \n",
       "           Automotive Mechanic                    Manager III \n",
       "                           191                            191 \n",
       "                     Manager I             Assistant Engineer \n",
       "                           189                            187 \n",
       "                  Truck Driver    Electronic Maintenance Tech \n",
       "                           185                            184 \n",
       "   Behavioral Health Clinician              HSA Social Worker \n",
       "                           175                            155 \n",
       "               Health Worker 2                Health Worker 3 \n",
       "                           153                            152 \n",
       "          Senior Account Clerk StdntDsgnTrain1, Arch/Eng/Plng \n",
       "                           152                            150 \n",
       "          Management Assistant Senior Human Resources Analyst \n",
       "                           149                            149 \n",
       " IS Business Analyst-Principal     IS Business Analyst-Senior \n",
       "                           146                            138 \n",
       "     Automotive Service Worker     Publ Svc Aide-Asst to Prof \n",
       "                           136                            133 \n",
       "                Accountant III  Junior Administrative Analyst \n",
       "                           131                            128 \n",
       "           Transit Car Cleaner   Stationary Eng, Sewage Plant \n",
       "                           128                            125 \n",
       "                  Museum Guard                 Pool Lifeguard \n",
       "                           124                            123 \n",
       "                    Manager IV                        Painter \n",
       "                           122                            122 \n",
       "            IS Engineer-Senior            Senior Clerk Typist \n",
       "                           121                            121 \n",
       "             Nursing Assistant          Deputy Court Clerk II \n",
       "                           120                            119 \n",
       "               PS Aide to Prof        Human Resources Analyst \n",
       "                           118                            114 \n",
       "  Health Program Coordinator 3                   Lieutenant 3 \n",
       "                           113                            110 \n",
       "         Medical Social Worker             Program Specialist \n",
       "                           109                            108 \n",
       "    Eng/Arch/Landscape Arch Sr         Deputy Court Clerk III \n",
       "                           107                            105 \n",
       "                Camp Assistant          IS Engineer-Principal \n",
       "                           104                            103 \n",
       "                     Manager V           Physician Specialist \n",
       "                           103                            100 \n",
       "                 Nurse Manager              Library Assistant \n",
       "                            98                             97 \n",
       "   Junior Management Assistant                    Electrician \n",
       "                            94                             93 \n",
       "IT Operations Support Admn III    Senior Management Assistant \n",
       "                            92                             89 \n",
       "               Sheriff's Cadet         Customer Service Agent \n",
       "                            87                             85 \n",
       " Recreation Facility Assistant StdntDsgn Train2/Arch/Eng/Plng \n",
       "                            85                             85 \n",
       "           IS Engineer-Journey                        (Other) \n",
       "                            84                          14049 "
      ]
     },
     "metadata": {},
     "output_type": "display_data"
    }
   ],
   "source": [
    "job2020 <- subset(employee.compensation, Year == 2020)\n",
    "job.2020 <- subset(job2020, YT.Year== \"Fiscal 2020\")\n",
    "job.2020.unique <- job.2020[!duplicated(job.2020), ]\n",
    "print(\"2020 Jobs\")\n",
    "summary(job.2020$Job)"
   ]
  },
  {
   "cell_type": "code",
   "execution_count": 9,
   "id": "b6cb26d1",
   "metadata": {},
   "outputs": [
    {
     "name": "stdout",
     "output_type": "stream",
     "text": [
      "[1] \"2013 Jobs\"\n"
     ]
    },
    {
     "data": {
      "text/html": [
       "<dl class=dl-horizontal>\n",
       "\t<dt>Transit Operator</dt>\n",
       "\t\t<dd>2379</dd>\n",
       "\t<dt>Special Nurse</dt>\n",
       "\t\t<dd>1500</dd>\n",
       "\t<dt>Registered Nurse</dt>\n",
       "\t\t<dd>1274</dd>\n",
       "\t<dt>Public Svc Aide-Public Works</dt>\n",
       "\t\t<dd>888</dd>\n",
       "\t<dt>Police Officer 3</dt>\n",
       "\t\t<dd>831</dd>\n",
       "\t<dt>Custodian</dt>\n",
       "\t\t<dd>812</dd>\n",
       "\t<dt>Firefighter</dt>\n",
       "\t\t<dd>764</dd>\n",
       "\t<dt>Recreation Leader</dt>\n",
       "\t\t<dd>684</dd>\n",
       "\t<dt>Deputy Sheriff</dt>\n",
       "\t\t<dd>666</dd>\n",
       "\t<dt>Police Officer</dt>\n",
       "\t\t<dd>643</dd>\n",
       "\t<dt>Patient Care Assistant</dt>\n",
       "\t\t<dd>641</dd>\n",
       "\t<dt>Public Service Trainee</dt>\n",
       "\t\t<dd>519</dd>\n",
       "\t<dt>Police Officer 2</dt>\n",
       "\t\t<dd>486</dd>\n",
       "\t<dt>Porter</dt>\n",
       "\t\t<dd>386</dd>\n",
       "\t<dt>Attorney (Civil/Criminal)</dt>\n",
       "\t\t<dd>370</dd>\n",
       "\t<dt>General Laborer</dt>\n",
       "\t\t<dd>351</dd>\n",
       "\t<dt>Sergeant 3</dt>\n",
       "\t\t<dd>348</dd>\n",
       "\t<dt>EMT/Paramedic/Firefighter</dt>\n",
       "\t\t<dd>314</dd>\n",
       "\t<dt>Library Page</dt>\n",
       "\t\t<dd>313</dd>\n",
       "\t<dt>Parking Control Officer</dt>\n",
       "\t\t<dd>304</dd>\n",
       "\t<dt>Gardener</dt>\n",
       "\t\t<dd>300</dd>\n",
       "\t<dt>Eligibility Worker</dt>\n",
       "\t\t<dd>290</dd>\n",
       "\t<dt>Clerk</dt>\n",
       "\t\t<dd>283</dd>\n",
       "\t<dt>Senior Clerk Typist</dt>\n",
       "\t\t<dd>278</dd>\n",
       "\t<dt>Senior Eligibility Worker</dt>\n",
       "\t\t<dd>271</dd>\n",
       "\t<dt>Senior Clerk</dt>\n",
       "\t\t<dd>267</dd>\n",
       "\t<dt>PS Aide To Prof</dt>\n",
       "\t\t<dd>253</dd>\n",
       "\t<dt>Licensed Vocational Nurse</dt>\n",
       "\t\t<dd>251</dd>\n",
       "\t<dt>Electrical Transit System Mech</dt>\n",
       "\t\t<dd>230</dd>\n",
       "\t<dt>Nurse Practitioner</dt>\n",
       "\t\t<dd>225</dd>\n",
       "\t<dt>Stationary Engineer</dt>\n",
       "\t\t<dd>223</dd>\n",
       "\t<dt>Senior Administrative Analyst</dt>\n",
       "\t\t<dd>216</dd>\n",
       "\t<dt>Publ Svc Aide-Asst To Prof</dt>\n",
       "\t\t<dd>215</dd>\n",
       "\t<dt>Protective Services Worker</dt>\n",
       "\t\t<dd>207</dd>\n",
       "\t<dt>Museum Guard</dt>\n",
       "\t\t<dd>201</dd>\n",
       "\t<dt>Junior Clerk</dt>\n",
       "\t\t<dd>198</dd>\n",
       "\t<dt>Lieutenant, Fire Suppression</dt>\n",
       "\t\t<dd>193</dd>\n",
       "\t<dt>Medical Evaluations Assistant</dt>\n",
       "\t\t<dd>193</dd>\n",
       "\t<dt>Deputy Court Clerk II</dt>\n",
       "\t\t<dd>190</dd>\n",
       "\t<dt>Transit Supervisor</dt>\n",
       "\t\t<dd>190</dd>\n",
       "\t<dt>Food Service Worker</dt>\n",
       "\t\t<dd>186</dd>\n",
       "\t<dt>Pr Administrative Analyst</dt>\n",
       "\t\t<dd>183</dd>\n",
       "\t<dt>Librarian 1</dt>\n",
       "\t\t<dd>182</dd>\n",
       "\t<dt>Community Police Services Aide</dt>\n",
       "\t\t<dd>181</dd>\n",
       "\t<dt>Stdntdsgntrain1, Arch/Eng/Plng</dt>\n",
       "\t\t<dd>180</dd>\n",
       "\t<dt>Assoc Engineer</dt>\n",
       "\t\t<dd>179</dd>\n",
       "\t<dt>Truck Driver</dt>\n",
       "\t\t<dd>174</dd>\n",
       "\t<dt>Engineer</dt>\n",
       "\t\t<dd>169</dd>\n",
       "\t<dt>School Crossing Guard</dt>\n",
       "\t\t<dd>163</dd>\n",
       "\t<dt>Asst Engr</dt>\n",
       "\t\t<dd>161</dd>\n",
       "\t<dt>Automotive Mechanic</dt>\n",
       "\t\t<dd>160</dd>\n",
       "\t<dt>Public Safetycomm Disp</dt>\n",
       "\t\t<dd>158</dd>\n",
       "\t<dt>Senior Account Clerk</dt>\n",
       "\t\t<dd>152</dd>\n",
       "\t<dt>Health Worker 3</dt>\n",
       "\t\t<dd>151</dd>\n",
       "\t<dt>Manager III</dt>\n",
       "\t\t<dd>151</dd>\n",
       "\t<dt>Stationary Eng, Sewage Plant</dt>\n",
       "\t\t<dd>151</dd>\n",
       "\t<dt>Manager II</dt>\n",
       "\t\t<dd>142</dd>\n",
       "\t<dt>Manager I</dt>\n",
       "\t\t<dd>141</dd>\n",
       "\t<dt>Electronic Maintenance Tech</dt>\n",
       "\t\t<dd>140</dd>\n",
       "\t<dt>Nursing Assistant</dt>\n",
       "\t\t<dd>137</dd>\n",
       "\t<dt>Administrative Analyst</dt>\n",
       "\t\t<dd>131</dd>\n",
       "\t<dt>Deputy Probation Officer</dt>\n",
       "\t\t<dd>131</dd>\n",
       "\t<dt>Senior Physician Specialist</dt>\n",
       "\t\t<dd>131</dd>\n",
       "\t<dt>Deputy Court Clerk III</dt>\n",
       "\t\t<dd>129</dd>\n",
       "\t<dt>PS Aide Health Services</dt>\n",
       "\t\t<dd>129</dd>\n",
       "\t<dt>Psychiatric Social Worker</dt>\n",
       "\t\t<dd>129</dd>\n",
       "\t<dt>Inspector 3</dt>\n",
       "\t\t<dd>128</dd>\n",
       "\t<dt>Health Worker 2</dt>\n",
       "\t\t<dd>127</dd>\n",
       "\t<dt>Physician Specialist</dt>\n",
       "\t\t<dd>127</dd>\n",
       "\t<dt>Counselor, Juvenile Hall</dt>\n",
       "\t\t<dd>126</dd>\n",
       "\t<dt>Principal Clerk</dt>\n",
       "\t\t<dd>126</dd>\n",
       "\t<dt>Clerk Typist</dt>\n",
       "\t\t<dd>124</dd>\n",
       "\t<dt>Painter</dt>\n",
       "\t\t<dd>122</dd>\n",
       "\t<dt>Pool Lifeguard</dt>\n",
       "\t\t<dd>120</dd>\n",
       "\t<dt>Senior Social Worker</dt>\n",
       "\t\t<dd>120</dd>\n",
       "\t<dt>Lieutenant 3</dt>\n",
       "\t\t<dd>118</dd>\n",
       "\t<dt>Senior Personnel Analyst</dt>\n",
       "\t\t<dd>115</dd>\n",
       "\t<dt>Automotive Service Worker</dt>\n",
       "\t\t<dd>112</dd>\n",
       "\t<dt>Manager IV</dt>\n",
       "\t\t<dd>112</dd>\n",
       "\t<dt>Electrician</dt>\n",
       "\t\t<dd>108</dd>\n",
       "\t<dt>Accountant III</dt>\n",
       "\t\t<dd>107</dd>\n",
       "\t<dt>Secretary 2</dt>\n",
       "\t\t<dd>107</dd>\n",
       "\t<dt>Eng/Arch/Landscape Arch Sr</dt>\n",
       "\t\t<dd>104</dd>\n",
       "\t<dt>Library Assistant</dt>\n",
       "\t\t<dd>101</dd>\n",
       "\t<dt>IS Business Analyst-Principal</dt>\n",
       "\t\t<dd>98</dd>\n",
       "\t<dt>Account Clerk</dt>\n",
       "\t\t<dd>97</dd>\n",
       "\t<dt>Accountant II</dt>\n",
       "\t\t<dd>95</dd>\n",
       "\t<dt>IS Engineer-Senior</dt>\n",
       "\t\t<dd>95</dd>\n",
       "\t<dt>IS Business Analyst-Senior</dt>\n",
       "\t\t<dd>92</dd>\n",
       "\t<dt>Medical Social Worker</dt>\n",
       "\t\t<dd>91</dd>\n",
       "\t<dt>Manager V</dt>\n",
       "\t\t<dd>89</dd>\n",
       "\t<dt>Nurse Manager</dt>\n",
       "\t\t<dd>89</dd>\n",
       "\t<dt>Personnel Analyst</dt>\n",
       "\t\t<dd>89</dd>\n",
       "\t<dt>Stdntdsgntrain3, Arch/Eng/Plng</dt>\n",
       "\t\t<dd>89</dd>\n",
       "\t<dt>Senior Deputy Sheriff</dt>\n",
       "\t\t<dd>88</dd>\n",
       "\t<dt>Hospital Eligiblity Worker</dt>\n",
       "\t\t<dd>86</dd>\n",
       "\t<dt>Management Assistant</dt>\n",
       "\t\t<dd>86</dd>\n",
       "\t<dt>Junior Engineer</dt>\n",
       "\t\t<dd>85</dd>\n",
       "\t<dt>Library Technical Assistant 1</dt>\n",
       "\t\t<dd>84</dd>\n",
       "\t<dt>(Other)</dt>\n",
       "\t\t<dd>12851</dd>\n",
       "</dl>\n"
      ],
      "text/latex": [
       "\\begin{description*}\n",
       "\\item[Transit Operator] 2379\n",
       "\\item[Special Nurse] 1500\n",
       "\\item[Registered Nurse] 1274\n",
       "\\item[Public Svc Aide-Public Works] 888\n",
       "\\item[Police Officer 3] 831\n",
       "\\item[Custodian] 812\n",
       "\\item[Firefighter] 764\n",
       "\\item[Recreation Leader] 684\n",
       "\\item[Deputy Sheriff] 666\n",
       "\\item[Police Officer] 643\n",
       "\\item[Patient Care Assistant] 641\n",
       "\\item[Public Service Trainee] 519\n",
       "\\item[Police Officer 2] 486\n",
       "\\item[Porter] 386\n",
       "\\item[Attorney (Civil/Criminal)] 370\n",
       "\\item[General Laborer] 351\n",
       "\\item[Sergeant 3] 348\n",
       "\\item[EMT/Paramedic/Firefighter] 314\n",
       "\\item[Library Page] 313\n",
       "\\item[Parking Control Officer] 304\n",
       "\\item[Gardener] 300\n",
       "\\item[Eligibility Worker] 290\n",
       "\\item[Clerk] 283\n",
       "\\item[Senior Clerk Typist] 278\n",
       "\\item[Senior Eligibility Worker] 271\n",
       "\\item[Senior Clerk] 267\n",
       "\\item[PS Aide To Prof] 253\n",
       "\\item[Licensed Vocational Nurse] 251\n",
       "\\item[Electrical Transit System Mech] 230\n",
       "\\item[Nurse Practitioner] 225\n",
       "\\item[Stationary Engineer] 223\n",
       "\\item[Senior Administrative Analyst] 216\n",
       "\\item[Publ Svc Aide-Asst To Prof] 215\n",
       "\\item[Protective Services Worker] 207\n",
       "\\item[Museum Guard] 201\n",
       "\\item[Junior Clerk] 198\n",
       "\\item[Lieutenant, Fire Suppression] 193\n",
       "\\item[Medical Evaluations Assistant] 193\n",
       "\\item[Deputy Court Clerk II] 190\n",
       "\\item[Transit Supervisor] 190\n",
       "\\item[Food Service Worker] 186\n",
       "\\item[Pr Administrative Analyst] 183\n",
       "\\item[Librarian 1] 182\n",
       "\\item[Community Police Services Aide] 181\n",
       "\\item[Stdntdsgntrain1, Arch/Eng/Plng] 180\n",
       "\\item[Assoc Engineer] 179\n",
       "\\item[Truck Driver] 174\n",
       "\\item[Engineer] 169\n",
       "\\item[School Crossing Guard] 163\n",
       "\\item[Asst Engr] 161\n",
       "\\item[Automotive Mechanic] 160\n",
       "\\item[Public Safetycomm Disp] 158\n",
       "\\item[Senior Account Clerk] 152\n",
       "\\item[Health Worker 3] 151\n",
       "\\item[Manager III] 151\n",
       "\\item[Stationary Eng, Sewage Plant] 151\n",
       "\\item[Manager II] 142\n",
       "\\item[Manager I] 141\n",
       "\\item[Electronic Maintenance Tech] 140\n",
       "\\item[Nursing Assistant] 137\n",
       "\\item[Administrative Analyst] 131\n",
       "\\item[Deputy Probation Officer] 131\n",
       "\\item[Senior Physician Specialist] 131\n",
       "\\item[Deputy Court Clerk III] 129\n",
       "\\item[PS Aide Health Services] 129\n",
       "\\item[Psychiatric Social Worker] 129\n",
       "\\item[Inspector 3] 128\n",
       "\\item[Health Worker 2] 127\n",
       "\\item[Physician Specialist] 127\n",
       "\\item[Counselor, Juvenile Hall] 126\n",
       "\\item[Principal Clerk] 126\n",
       "\\item[Clerk Typist] 124\n",
       "\\item[Painter] 122\n",
       "\\item[Pool Lifeguard] 120\n",
       "\\item[Senior Social Worker] 120\n",
       "\\item[Lieutenant 3] 118\n",
       "\\item[Senior Personnel Analyst] 115\n",
       "\\item[Automotive Service Worker] 112\n",
       "\\item[Manager IV] 112\n",
       "\\item[Electrician] 108\n",
       "\\item[Accountant III] 107\n",
       "\\item[Secretary 2] 107\n",
       "\\item[Eng/Arch/Landscape Arch Sr] 104\n",
       "\\item[Library Assistant] 101\n",
       "\\item[IS Business Analyst-Principal] 98\n",
       "\\item[Account Clerk] 97\n",
       "\\item[Accountant II] 95\n",
       "\\item[IS Engineer-Senior] 95\n",
       "\\item[IS Business Analyst-Senior] 92\n",
       "\\item[Medical Social Worker] 91\n",
       "\\item[Manager V] 89\n",
       "\\item[Nurse Manager] 89\n",
       "\\item[Personnel Analyst] 89\n",
       "\\item[Stdntdsgntrain3, Arch/Eng/Plng] 89\n",
       "\\item[Senior Deputy Sheriff] 88\n",
       "\\item[Hospital Eligiblity Worker] 86\n",
       "\\item[Management Assistant] 86\n",
       "\\item[Junior Engineer] 85\n",
       "\\item[Library Technical Assistant 1] 84\n",
       "\\item[(Other)] 12851\n",
       "\\end{description*}\n"
      ],
      "text/markdown": [
       "Transit Operator\n",
       ":   2379Special Nurse\n",
       ":   1500Registered Nurse\n",
       ":   1274Public Svc Aide-Public Works\n",
       ":   888Police Officer 3\n",
       ":   831Custodian\n",
       ":   812Firefighter\n",
       ":   764Recreation Leader\n",
       ":   684Deputy Sheriff\n",
       ":   666Police Officer\n",
       ":   643Patient Care Assistant\n",
       ":   641Public Service Trainee\n",
       ":   519Police Officer 2\n",
       ":   486Porter\n",
       ":   386Attorney (Civil/Criminal)\n",
       ":   370General Laborer\n",
       ":   351Sergeant 3\n",
       ":   348EMT/Paramedic/Firefighter\n",
       ":   314Library Page\n",
       ":   313Parking Control Officer\n",
       ":   304Gardener\n",
       ":   300Eligibility Worker\n",
       ":   290Clerk\n",
       ":   283Senior Clerk Typist\n",
       ":   278Senior Eligibility Worker\n",
       ":   271Senior Clerk\n",
       ":   267PS Aide To Prof\n",
       ":   253Licensed Vocational Nurse\n",
       ":   251Electrical Transit System Mech\n",
       ":   230Nurse Practitioner\n",
       ":   225Stationary Engineer\n",
       ":   223Senior Administrative Analyst\n",
       ":   216Publ Svc Aide-Asst To Prof\n",
       ":   215Protective Services Worker\n",
       ":   207Museum Guard\n",
       ":   201Junior Clerk\n",
       ":   198Lieutenant, Fire Suppression\n",
       ":   193Medical Evaluations Assistant\n",
       ":   193Deputy Court Clerk II\n",
       ":   190Transit Supervisor\n",
       ":   190Food Service Worker\n",
       ":   186Pr Administrative Analyst\n",
       ":   183Librarian 1\n",
       ":   182Community Police Services Aide\n",
       ":   181Stdntdsgntrain1, Arch/Eng/Plng\n",
       ":   180Assoc Engineer\n",
       ":   179Truck Driver\n",
       ":   174Engineer\n",
       ":   169School Crossing Guard\n",
       ":   163Asst Engr\n",
       ":   161Automotive Mechanic\n",
       ":   160Public Safetycomm Disp\n",
       ":   158Senior Account Clerk\n",
       ":   152Health Worker 3\n",
       ":   151Manager III\n",
       ":   151Stationary Eng, Sewage Plant\n",
       ":   151Manager II\n",
       ":   142Manager I\n",
       ":   141Electronic Maintenance Tech\n",
       ":   140Nursing Assistant\n",
       ":   137Administrative Analyst\n",
       ":   131Deputy Probation Officer\n",
       ":   131Senior Physician Specialist\n",
       ":   131Deputy Court Clerk III\n",
       ":   129PS Aide Health Services\n",
       ":   129Psychiatric Social Worker\n",
       ":   129Inspector 3\n",
       ":   128Health Worker 2\n",
       ":   127Physician Specialist\n",
       ":   127Counselor, Juvenile Hall\n",
       ":   126Principal Clerk\n",
       ":   126Clerk Typist\n",
       ":   124Painter\n",
       ":   122Pool Lifeguard\n",
       ":   120Senior Social Worker\n",
       ":   120Lieutenant 3\n",
       ":   118Senior Personnel Analyst\n",
       ":   115Automotive Service Worker\n",
       ":   112Manager IV\n",
       ":   112Electrician\n",
       ":   108Accountant III\n",
       ":   107Secretary 2\n",
       ":   107Eng/Arch/Landscape Arch Sr\n",
       ":   104Library Assistant\n",
       ":   101IS Business Analyst-Principal\n",
       ":   98Account Clerk\n",
       ":   97Accountant II\n",
       ":   95IS Engineer-Senior\n",
       ":   95IS Business Analyst-Senior\n",
       ":   92Medical Social Worker\n",
       ":   91Manager V\n",
       ":   89Nurse Manager\n",
       ":   89Personnel Analyst\n",
       ":   89Stdntdsgntrain3, Arch/Eng/Plng\n",
       ":   89Senior Deputy Sheriff\n",
       ":   88Hospital Eligiblity Worker\n",
       ":   86Management Assistant\n",
       ":   86Junior Engineer\n",
       ":   85Library Technical Assistant 1\n",
       ":   84(Other)\n",
       ":   12851\n",
       "\n"
      ],
      "text/plain": [
       "              Transit Operator                  Special Nurse \n",
       "                          2379                           1500 \n",
       "              Registered Nurse   Public Svc Aide-Public Works \n",
       "                          1274                            888 \n",
       "              Police Officer 3                      Custodian \n",
       "                           831                            812 \n",
       "                   Firefighter              Recreation Leader \n",
       "                           764                            684 \n",
       "                Deputy Sheriff                 Police Officer \n",
       "                           666                            643 \n",
       "        Patient Care Assistant         Public Service Trainee \n",
       "                           641                            519 \n",
       "              Police Officer 2                         Porter \n",
       "                           486                            386 \n",
       "     Attorney (Civil/Criminal)                General Laborer \n",
       "                           370                            351 \n",
       "                    Sergeant 3      EMT/Paramedic/Firefighter \n",
       "                           348                            314 \n",
       "                  Library Page        Parking Control Officer \n",
       "                           313                            304 \n",
       "                      Gardener             Eligibility Worker \n",
       "                           300                            290 \n",
       "                         Clerk            Senior Clerk Typist \n",
       "                           283                            278 \n",
       "     Senior Eligibility Worker                   Senior Clerk \n",
       "                           271                            267 \n",
       "               PS Aide To Prof      Licensed Vocational Nurse \n",
       "                           253                            251 \n",
       "Electrical Transit System Mech             Nurse Practitioner \n",
       "                           230                            225 \n",
       "           Stationary Engineer  Senior Administrative Analyst \n",
       "                           223                            216 \n",
       "    Publ Svc Aide-Asst To Prof     Protective Services Worker \n",
       "                           215                            207 \n",
       "                  Museum Guard                   Junior Clerk \n",
       "                           201                            198 \n",
       "  Lieutenant, Fire Suppression  Medical Evaluations Assistant \n",
       "                           193                            193 \n",
       "         Deputy Court Clerk II             Transit Supervisor \n",
       "                           190                            190 \n",
       "           Food Service Worker      Pr Administrative Analyst \n",
       "                           186                            183 \n",
       "                   Librarian 1 Community Police Services Aide \n",
       "                           182                            181 \n",
       "Stdntdsgntrain1, Arch/Eng/Plng                 Assoc Engineer \n",
       "                           180                            179 \n",
       "                  Truck Driver                       Engineer \n",
       "                           174                            169 \n",
       "         School Crossing Guard                      Asst Engr \n",
       "                           163                            161 \n",
       "           Automotive Mechanic         Public Safetycomm Disp \n",
       "                           160                            158 \n",
       "          Senior Account Clerk                Health Worker 3 \n",
       "                           152                            151 \n",
       "                   Manager III   Stationary Eng, Sewage Plant \n",
       "                           151                            151 \n",
       "                    Manager II                      Manager I \n",
       "                           142                            141 \n",
       "   Electronic Maintenance Tech              Nursing Assistant \n",
       "                           140                            137 \n",
       "        Administrative Analyst       Deputy Probation Officer \n",
       "                           131                            131 \n",
       "   Senior Physician Specialist         Deputy Court Clerk III \n",
       "                           131                            129 \n",
       "       PS Aide Health Services      Psychiatric Social Worker \n",
       "                           129                            129 \n",
       "                   Inspector 3                Health Worker 2 \n",
       "                           128                            127 \n",
       "          Physician Specialist       Counselor, Juvenile Hall \n",
       "                           127                            126 \n",
       "               Principal Clerk                   Clerk Typist \n",
       "                           126                            124 \n",
       "                       Painter                 Pool Lifeguard \n",
       "                           122                            120 \n",
       "          Senior Social Worker                   Lieutenant 3 \n",
       "                           120                            118 \n",
       "      Senior Personnel Analyst      Automotive Service Worker \n",
       "                           115                            112 \n",
       "                    Manager IV                    Electrician \n",
       "                           112                            108 \n",
       "                Accountant III                    Secretary 2 \n",
       "                           107                            107 \n",
       "    Eng/Arch/Landscape Arch Sr              Library Assistant \n",
       "                           104                            101 \n",
       " IS Business Analyst-Principal                  Account Clerk \n",
       "                            98                             97 \n",
       "                 Accountant II             IS Engineer-Senior \n",
       "                            95                             95 \n",
       "    IS Business Analyst-Senior          Medical Social Worker \n",
       "                            92                             91 \n",
       "                     Manager V                  Nurse Manager \n",
       "                            89                             89 \n",
       "             Personnel Analyst Stdntdsgntrain3, Arch/Eng/Plng \n",
       "                            89                             89 \n",
       "         Senior Deputy Sheriff     Hospital Eligiblity Worker \n",
       "                            88                             86 \n",
       "          Management Assistant                Junior Engineer \n",
       "                            86                             85 \n",
       " Library Technical Assistant 1                        (Other) \n",
       "                            84                          12851 "
      ]
     },
     "metadata": {},
     "output_type": "display_data"
    }
   ],
   "source": [
    "job2013 <- subset(employee.compensation, Year == 2013)\n",
    "job.2013 <- subset(job2013, YT.Year== \"Fiscal 2013\")\n",
    "job.2013.unique <- job.2013[!duplicated(job.2013), ]\n",
    "print(\"2013 Jobs\")\n",
    "summary(job.2013$Job)"
   ]
  },
  {
   "cell_type": "markdown",
   "id": "b65f5bfd",
   "metadata": {},
   "source": [
    "# Subset to segregate Total Compensation for Fiscal Year 2020\n",
    "I generated a the sum of  total compensation for the fiscal year of 2020. This can be used to compare an increase or decrease in total compensation from previous years. I also ran the report for 2013 for comparison. "
   ]
  },
  {
   "cell_type": "code",
   "execution_count": 10,
   "id": "6e2de1a0",
   "metadata": {},
   "outputs": [
    {
     "name": "stdout",
     "output_type": "stream",
     "text": [
      "[1] \"Total Compensation 2020\"\n"
     ]
    },
    {
     "data": {
      "text/html": [
       "5471228049.28"
      ],
      "text/latex": [
       "5471228049.28"
      ],
      "text/markdown": [
       "5471228049.28"
      ],
      "text/plain": [
       "[1] 5471228049"
      ]
     },
     "metadata": {},
     "output_type": "display_data"
    }
   ],
   "source": [
    "total.comp2020 <- subset(employee.compensation, Year == 2020)\n",
    "tot.compensation2020 <- subset(total.comp2020, YT.Year== \"Fiscal 2020\")\n",
    "print(\"Total Compensation 2020\")\n",
    "sum(tot.compensation2020$Total.Compensation)"
   ]
  },
  {
   "cell_type": "code",
   "execution_count": 11,
   "id": "81050547",
   "metadata": {},
   "outputs": [
    {
     "name": "stdout",
     "output_type": "stream",
     "text": [
      "[1] \"Total Compensation 2013\"\n"
     ]
    },
    {
     "data": {
      "text/html": [
       "3793165149.6"
      ],
      "text/latex": [
       "3793165149.6"
      ],
      "text/markdown": [
       "3793165149.6"
      ],
      "text/plain": [
       "[1] 3793165150"
      ]
     },
     "metadata": {},
     "output_type": "display_data"
    }
   ],
   "source": [
    "total.comp2013 <- subset(employee.compensation, Year == 2013)\n",
    "tot.compensation2013 <- subset(total.comp2013, YT.Year== \"Fiscal 2013\")\n",
    "print(\"Total Compensation 2013\")\n",
    "sum(tot.compensation2013$Total.Compensation)"
   ]
  },
  {
   "cell_type": "markdown",
   "id": "819e69cf",
   "metadata": {},
   "source": [
    "# Subset to segregate Total Benefits for Fiscal Year 2020\n",
    "I generated a the sum of  total benefits for the fiscal year of 2020. This can be used to compare an increase or decrease in total benefits from previous years."
   ]
  },
  {
   "cell_type": "code",
   "execution_count": 12,
   "id": "40b3a9cf",
   "metadata": {},
   "outputs": [
    {
     "name": "stdout",
     "output_type": "stream",
     "text": [
      "[1] \"Total Benefits 2020\"\n"
     ]
    },
    {
     "data": {
      "text/html": [
       "1488035892.71"
      ],
      "text/latex": [
       "1488035892.71"
      ],
      "text/markdown": [
       "1488035892.71"
      ],
      "text/plain": [
       "[1] 1488035893"
      ]
     },
     "metadata": {},
     "output_type": "display_data"
    }
   ],
   "source": [
    "total.comp2020 <- subset(employee.compensation, Year == 2020)\n",
    "tot.compensation2020 <- subset(total.comp2020, YT.Year== \"Fiscal 2020\")\n",
    "print(\"Total Benefits 2020\")\n",
    "sum(tot.compensation2020$Total.Benefits)"
   ]
  },
  {
   "cell_type": "code",
   "execution_count": 13,
   "id": "6f354e7f",
   "metadata": {},
   "outputs": [
    {
     "name": "stdout",
     "output_type": "stream",
     "text": [
      "[1] \"Total Benefits 2013\"\n"
     ]
    },
    {
     "data": {
      "text/html": [
       "994282178.75"
      ],
      "text/latex": [
       "994282178.75"
      ],
      "text/markdown": [
       "994282178.75"
      ],
      "text/plain": [
       "[1] 994282179"
      ]
     },
     "metadata": {},
     "output_type": "display_data"
    }
   ],
   "source": [
    "total.comp2013 <- subset(employee.compensation, Year == 2013)\n",
    "tot.compensation2013 <- subset(total.comp2013, YT.Year== \"Fiscal 2013\")\n",
    "print(\"Total Benefits 2013\")\n",
    "sum(tot.compensation2013$Total.Benefits)"
   ]
  },
  {
   "cell_type": "markdown",
   "id": "0f083669",
   "metadata": {},
   "source": [
    "# Single Vector\n",
    "I first used the summary() command to display the top jobs for my subset dataframe Fiscal.2020. We can use this vector later in our report if we wanted to find out such information such as the first, second, or third most popular city jobs in the year 2020. I also created 6 vectors to store information used in my loops further down in this report."
   ]
  },
  {
   "cell_type": "code",
   "execution_count": 14,
   "id": "5c7c2780",
   "metadata": {},
   "outputs": [],
   "source": [
    "#summary(fiscal.2020$Job)"
   ]
  },
  {
   "cell_type": "code",
   "execution_count": 39,
   "id": "56345170",
   "metadata": {},
   "outputs": [],
   "source": [
    "job.vec.2020 <- c(\"Transit Operator\", \"Special Nurse\", \"Registered Nurse\", \"Custodian\", \"Firefighter\")"
   ]
  },
  {
   "cell_type": "markdown",
   "id": "d5a1c8bb",
   "metadata": {},
   "source": [
    "# Loop to print salary ranges of Salaries for Fiscal 2020\n",
    "I created a loop that \"loops\" though the Total Salary column of my subset dataframe and returns each value within a range of salaries. I then rounded the percentage up using the ceiling() command. This data can be used to evaluate and compare increases or decreases in salary percentages per fiscal years. (Conditionals & List satisfied by Loops)\n",
    "\n",
    "Note: That the unaccounted for percentage is the percentage of employees who owed salary (or was listed to have a negative salary value)"
   ]
  },
  {
   "cell_type": "code",
   "execution_count": 40,
   "id": "d0859218",
   "metadata": {},
   "outputs": [],
   "source": [
    "income.ranges.2020 <- fiscal.2020 ##create new data"
   ]
  },
  {
   "cell_type": "code",
   "execution_count": 62,
   "id": "6f1d722c",
   "metadata": {},
   "outputs": [],
   "source": [
    "output <- cut(income.ranges.2020$Total.Salary, c(0, 25000, 55000, 85000, 95000, 150000, 195000, 250000, 350000, 450000, 550000, 650000, 700000), labels = c('0-20000', '20001-50000', '50001-80000', '80001-90000', '90001-100000', '100001-200000', '200001-300000','300001-400000', '400001-500000', '500001-600000', '600001-700000', '700001-800000'))\n",
    "##output cut tells computer where to break, labels provide ranges"
   ]
  },
  {
   "cell_type": "code",
   "execution_count": 63,
   "id": "ea0d8dc8",
   "metadata": {},
   "outputs": [],
   "source": [
    "#head(income.ranges.2020$Total.Salary, 10)"
   ]
  },
  {
   "cell_type": "code",
   "execution_count": 64,
   "id": "c6087058",
   "metadata": {
    "scrolled": false
   },
   "outputs": [
    {
     "data": {
      "text/html": [
       "<ol class=list-inline>\n",
       "\t<li><span style=white-space:pre-wrap>'16.54 % of employees earned between 0-20000  annual salary'</span></li>\n",
       "\t<li><span style=white-space:pre-wrap>'9.319 % of employees earned between 20001-50000  annual salary'</span></li>\n",
       "\t<li><span style=white-space:pre-wrap>'20.24 % of employees earned between 50001-80000  annual salary'</span></li>\n",
       "\t<li><span style=white-space:pre-wrap>'7.95 % of employees earned between 80001-90000  annual salary'</span></li>\n",
       "\t<li><span style=white-space:pre-wrap>'28.19 % of employees earned between 90001-100000  annual salary'</span></li>\n",
       "\t<li><span style=white-space:pre-wrap>'11.85 % of employees earned between 100001-200000  annual salary'</span></li>\n",
       "\t<li><span style=white-space:pre-wrap>'4.772 % of employees earned between 200001-300000  annual salary'</span></li>\n",
       "\t<li><span style=white-space:pre-wrap>'1.019 % of employees earned between 300001-400000  annual salary'</span></li>\n",
       "\t<li><span style=white-space:pre-wrap>'0.06843 % of employees earned between 400001-500000  annual salary'</span></li>\n",
       "\t<li><span style=white-space:pre-wrap>'0.01652 % of employees earned between 500001-600000  annual salary'</span></li>\n",
       "\t<li><span style=white-space:pre-wrap>'0.00236 % of employees earned between 600001-700000  annual salary'</span></li>\n",
       "\t<li><span style=white-space:pre-wrap>'0 % of employees earned between 700001-800000  annual salary'</span></li>\n",
       "</ol>\n"
      ],
      "text/latex": [
       "\\begin{enumerate*}\n",
       "\\item '16.54 \\% of employees earned between 0-20000  annual salary'\n",
       "\\item '9.319 \\% of employees earned between 20001-50000  annual salary'\n",
       "\\item '20.24 \\% of employees earned between 50001-80000  annual salary'\n",
       "\\item '7.95 \\% of employees earned between 80001-90000  annual salary'\n",
       "\\item '28.19 \\% of employees earned between 90001-100000  annual salary'\n",
       "\\item '11.85 \\% of employees earned between 100001-200000  annual salary'\n",
       "\\item '4.772 \\% of employees earned between 200001-300000  annual salary'\n",
       "\\item '1.019 \\% of employees earned between 300001-400000  annual salary'\n",
       "\\item '0.06843 \\% of employees earned between 400001-500000  annual salary'\n",
       "\\item '0.01652 \\% of employees earned between 500001-600000  annual salary'\n",
       "\\item '0.00236 \\% of employees earned between 600001-700000  annual salary'\n",
       "\\item '0 \\% of employees earned between 700001-800000  annual salary'\n",
       "\\end{enumerate*}\n"
      ],
      "text/markdown": [
       "1. <span style=white-space:pre-wrap>'16.54 % of employees earned between 0-20000  annual salary'</span>\n",
       "2. <span style=white-space:pre-wrap>'9.319 % of employees earned between 20001-50000  annual salary'</span>\n",
       "3. <span style=white-space:pre-wrap>'20.24 % of employees earned between 50001-80000  annual salary'</span>\n",
       "4. <span style=white-space:pre-wrap>'7.95 % of employees earned between 80001-90000  annual salary'</span>\n",
       "5. <span style=white-space:pre-wrap>'28.19 % of employees earned between 90001-100000  annual salary'</span>\n",
       "6. <span style=white-space:pre-wrap>'11.85 % of employees earned between 100001-200000  annual salary'</span>\n",
       "7. <span style=white-space:pre-wrap>'4.772 % of employees earned between 200001-300000  annual salary'</span>\n",
       "8. <span style=white-space:pre-wrap>'1.019 % of employees earned between 300001-400000  annual salary'</span>\n",
       "9. <span style=white-space:pre-wrap>'0.06843 % of employees earned between 400001-500000  annual salary'</span>\n",
       "10. <span style=white-space:pre-wrap>'0.01652 % of employees earned between 500001-600000  annual salary'</span>\n",
       "11. <span style=white-space:pre-wrap>'0.00236 % of employees earned between 600001-700000  annual salary'</span>\n",
       "12. <span style=white-space:pre-wrap>'0 % of employees earned between 700001-800000  annual salary'</span>\n",
       "\n",
       "\n"
      ],
      "text/plain": [
       " [1] \"16.54 % of employees earned between 0-20000  annual salary\"        \n",
       " [2] \"9.319 % of employees earned between 20001-50000  annual salary\"    \n",
       " [3] \"20.24 % of employees earned between 50001-80000  annual salary\"    \n",
       " [4] \"7.95 % of employees earned between 80001-90000  annual salary\"     \n",
       " [5] \"28.19 % of employees earned between 90001-100000  annual salary\"   \n",
       " [6] \"11.85 % of employees earned between 100001-200000  annual salary\"  \n",
       " [7] \"4.772 % of employees earned between 200001-300000  annual salary\"  \n",
       " [8] \"1.019 % of employees earned between 300001-400000  annual salary\"  \n",
       " [9] \"0.06843 % of employees earned between 400001-500000  annual salary\"\n",
       "[10] \"0.01652 % of employees earned between 500001-600000  annual salary\"\n",
       "[11] \"0.00236 % of employees earned between 600001-700000  annual salary\"\n",
       "[12] \"0 % of employees earned between 700001-800000  annual salary\"      "
      ]
     },
     "metadata": {},
     "output_type": "display_data"
    }
   ],
   "source": [
    "## I want to \"loop\" through the range of labels I created earlier. I took the value of labels and renamed it \"bin_labels\"\n",
    "## bin_labels are where we store the data being indexed [i] after each loop pass\n",
    "\n",
    "bin_labels <- c('0-20000', '20001-50000', '50001-80000', '80001-90000', '90001-100000', '100001-200000', '200001-300000','300001-400000', '400001-500000', '500001-600000', '600001-700000', '700001-800000')\n",
    "\n",
    "percents1 <- NULL ## Percent initializes vector for my output and makes it empty for future values\n",
    "\n",
    "for (i in 1:length(bin_labels)) { ##This line tell the computer what positions begin with\n",
    "    \n",
    "    percents1[i] <-100*length(which(output==bin_labels[i])) /length(output)\n",
    "}\n",
    "\n",
    "paste(signif(percents1, digits=4), \"% of employees earned between\", bin_labels, \" annual salary\")"
   ]
  },
  {
   "cell_type": "code",
   "execution_count": 72,
   "id": "c996166f",
   "metadata": {},
   "outputs": [
    {
     "data": {
      "image/png": "[encoded data removed]",
      "text/plain": [
       "Plot with title \"Salary Ranges for Fiscal Year: 2020\""
      ]
     },
     "metadata": {},
     "output_type": "display_data"
    }
   ],
   "source": [
    "barplot(percents1, names.arg= bin_labels, las=2, cex.names=0.5, col= \"#7393B3\", main = \"Salary Ranges for Fiscal Year: 2020\"  )\n",
    "##barplot that visually represent the Fiscal Year Salary Ranges for 2020: Plot percents1, \n",
    "## names.arg= bin_labels names x axis with the bin names (ranges) we created\n",
    "## las=2 changes the position of names.arg/ names on x axis\n",
    "## cex.names changes the font size on the x axis\n",
    "## col changes the color to blue"
   ]
  },
  {
   "cell_type": "markdown",
   "id": "55f1b782",
   "metadata": {},
   "source": [
    "# Loop 2 to print salary ranges of Salaries for Fiscal 2019"
   ]
  },
  {
   "cell_type": "code",
   "execution_count": 45,
   "id": "2c419651",
   "metadata": {},
   "outputs": [],
   "source": [
    "income.ranges.2019 <- fiscal.2019"
   ]
  },
  {
   "cell_type": "code",
   "execution_count": 46,
   "id": "da9a3ae4",
   "metadata": {},
   "outputs": [],
   "source": [
    "output <- cut(income.ranges.2019$Total.Salary, c(0, 25000, 55000, 85000, 95000, 150000, 195000, 250000, 350000, 450000, 550000, 650000, 700000), labels = c('0-20000', '20001-50000', '50001-80000', '80001-90000', '90001-100000', '100001-190000', '190001-200000','200001-300000', '300001-400000', '400001-500000', '500001-600000', '600001-700000'))\n"
   ]
  },
  {
   "cell_type": "code",
   "execution_count": 47,
   "id": "b20169e3",
   "metadata": {},
   "outputs": [
    {
     "data": {
      "text/html": [
       "<ol class=list-inline>\n",
       "\t<li><span style=white-space:pre-wrap>'21.26 % of employees earned between 0-20000  annual salary'</span></li>\n",
       "\t<li><span style=white-space:pre-wrap>'9.212 % of employees earned between 20001-50000  annual salary'</span></li>\n",
       "\t<li><span style=white-space:pre-wrap>'20.75 % of employees earned between 50001-80000  annual salary'</span></li>\n",
       "\t<li><span style=white-space:pre-wrap>'7.613 % of employees earned between 80001-90000  annual salary'</span></li>\n",
       "\t<li><span style=white-space:pre-wrap>'26.7 % of employees earned between 90001-100000  annual salary'</span></li>\n",
       "\t<li><span style=white-space:pre-wrap>'9.801 % of employees earned between 100001-190000  annual salary'</span></li>\n",
       "\t<li><span style=white-space:pre-wrap>'3.883 % of employees earned between 190001-200000  annual salary'</span></li>\n",
       "\t<li><span style=white-space:pre-wrap>'0.6917 % of employees earned between 200001-300000  annual salary'</span></li>\n",
       "\t<li><span style=white-space:pre-wrap>'0.04267 % of employees earned between 300001-400000  annual salary'</span></li>\n",
       "\t<li><span style=white-space:pre-wrap>'0.008983 % of employees earned between 400001-500000  annual salary'</span></li>\n",
       "\t<li><span style=white-space:pre-wrap>'0.004492 % of employees earned between 500001-600000  annual salary'</span></li>\n",
       "\t<li><span style=white-space:pre-wrap>'0.002246 % of employees earned between 600001-700000  annual salary'</span></li>\n",
       "</ol>\n"
      ],
      "text/latex": [
       "\\begin{enumerate*}\n",
       "\\item '21.26 \\% of employees earned between 0-20000  annual salary'\n",
       "\\item '9.212 \\% of employees earned between 20001-50000  annual salary'\n",
       "\\item '20.75 \\% of employees earned between 50001-80000  annual salary'\n",
       "\\item '7.613 \\% of employees earned between 80001-90000  annual salary'\n",
       "\\item '26.7 \\% of employees earned between 90001-100000  annual salary'\n",
       "\\item '9.801 \\% of employees earned between 100001-190000  annual salary'\n",
       "\\item '3.883 \\% of employees earned between 190001-200000  annual salary'\n",
       "\\item '0.6917 \\% of employees earned between 200001-300000  annual salary'\n",
       "\\item '0.04267 \\% of employees earned between 300001-400000  annual salary'\n",
       "\\item '0.008983 \\% of employees earned between 400001-500000  annual salary'\n",
       "\\item '0.004492 \\% of employees earned between 500001-600000  annual salary'\n",
       "\\item '0.002246 \\% of employees earned between 600001-700000  annual salary'\n",
       "\\end{enumerate*}\n"
      ],
      "text/markdown": [
       "1. <span style=white-space:pre-wrap>'21.26 % of employees earned between 0-20000  annual salary'</span>\n",
       "2. <span style=white-space:pre-wrap>'9.212 % of employees earned between 20001-50000  annual salary'</span>\n",
       "3. <span style=white-space:pre-wrap>'20.75 % of employees earned between 50001-80000  annual salary'</span>\n",
       "4. <span style=white-space:pre-wrap>'7.613 % of employees earned between 80001-90000  annual salary'</span>\n",
       "5. <span style=white-space:pre-wrap>'26.7 % of employees earned between 90001-100000  annual salary'</span>\n",
       "6. <span style=white-space:pre-wrap>'9.801 % of employees earned between 100001-190000  annual salary'</span>\n",
       "7. <span style=white-space:pre-wrap>'3.883 % of employees earned between 190001-200000  annual salary'</span>\n",
       "8. <span style=white-space:pre-wrap>'0.6917 % of employees earned between 200001-300000  annual salary'</span>\n",
       "9. <span style=white-space:pre-wrap>'0.04267 % of employees earned between 300001-400000  annual salary'</span>\n",
       "10. <span style=white-space:pre-wrap>'0.008983 % of employees earned between 400001-500000  annual salary'</span>\n",
       "11. <span style=white-space:pre-wrap>'0.004492 % of employees earned between 500001-600000  annual salary'</span>\n",
       "12. <span style=white-space:pre-wrap>'0.002246 % of employees earned between 600001-700000  annual salary'</span>\n",
       "\n",
       "\n"
      ],
      "text/plain": [
       " [1] \"21.26 % of employees earned between 0-20000  annual salary\"         \n",
       " [2] \"9.212 % of employees earned between 20001-50000  annual salary\"     \n",
       " [3] \"20.75 % of employees earned between 50001-80000  annual salary\"     \n",
       " [4] \"7.613 % of employees earned between 80001-90000  annual salary\"     \n",
       " [5] \"26.7 % of employees earned between 90001-100000  annual salary\"     \n",
       " [6] \"9.801 % of employees earned between 100001-190000  annual salary\"   \n",
       " [7] \"3.883 % of employees earned between 190001-200000  annual salary\"   \n",
       " [8] \"0.6917 % of employees earned between 200001-300000  annual salary\"  \n",
       " [9] \"0.04267 % of employees earned between 300001-400000  annual salary\" \n",
       "[10] \"0.008983 % of employees earned between 400001-500000  annual salary\"\n",
       "[11] \"0.004492 % of employees earned between 500001-600000  annual salary\"\n",
       "[12] \"0.002246 % of employees earned between 600001-700000  annual salary\""
      ]
     },
     "metadata": {},
     "output_type": "display_data"
    }
   ],
   "source": [
    "bin_labels2 <- c('0-20000', '20001-50000', '50001-80000', '80001-90000', '90001-100000', '100001-190000', '190001-200000','200001-300000', '300001-400000', '400001-500000', '500001-600000', '600001-700000')\n",
    "\n",
    "percents2 <- NULL \n",
    "\n",
    "for (i in 1:length(bin_labels2)) { \n",
    "    \n",
    "    percents2[i] <-100*length(which(output==bin_labels2[i])) /length(output)\n",
    "}\n",
    "\n",
    "paste(signif(percents2, digits=4), \"% of employees earned between\", bin_labels2, \" annual salary\")"
   ]
  },
  {
   "cell_type": "code",
   "execution_count": 48,
   "id": "789086a8",
   "metadata": {},
   "outputs": [
    {
     "data": {
      "image/png": "[encoded data removed]",
      "text/plain": [
       "Plot with title \"Salary Ranges for Fiscal Year: 2019\""
      ]
     },
     "metadata": {},
     "output_type": "display_data"
    }
   ],
   "source": [
    "barplot(percents2, names.arg= bin_labels2, las=2, cex.names=0.5, col= \"Light Blue\", main = \"Salary Ranges for Fiscal Year: 2019\"  )"
   ]
  },
  {
   "cell_type": "markdown",
   "id": "1efb1b06",
   "metadata": {},
   "source": [
    "# Loop to print salary ranges of Salaries for Fiscal 2018"
   ]
  },
  {
   "cell_type": "code",
   "execution_count": 49,
   "id": "1b1acba5",
   "metadata": {},
   "outputs": [],
   "source": [
    "income.ranges.2018 <- fiscal.2018"
   ]
  },
  {
   "cell_type": "code",
   "execution_count": 50,
   "id": "140ecd21",
   "metadata": {},
   "outputs": [],
   "source": [
    "output <- cut(income.ranges.2018$Total.Salary, c(0, 25000, 55000, 85000, 95000, 150000, 195000, 250000, 350000, 450000, 550000, 650000, 700000), labels = c('0-20000', '20001-50000', '50001-80000', '80001-90000', '90001-100000', '100001-190000', '190001-200000','200001-300000', '300001-400000', '400001-500000', '500001-600000', '600001-700000'))\n"
   ]
  },
  {
   "cell_type": "code",
   "execution_count": 51,
   "id": "69e6f513",
   "metadata": {},
   "outputs": [
    {
     "data": {
      "text/html": [
       "<ol class=list-inline>\n",
       "\t<li><span style=white-space:pre-wrap>'19.14 % of employees earned between 0-20000  annual salary'</span></li>\n",
       "\t<li><span style=white-space:pre-wrap>'9.963 % of employees earned between 20001-50000  annual salary'</span></li>\n",
       "\t<li><span style=white-space:pre-wrap>'23.52 % of employees earned between 50001-80000  annual salary'</span></li>\n",
       "\t<li><span style=white-space:pre-wrap>'7.929 % of employees earned between 80001-90000  annual salary'</span></li>\n",
       "\t<li><span style=white-space:pre-wrap>'26.63 % of employees earned between 90001-100000  annual salary'</span></li>\n",
       "\t<li><span style=white-space:pre-wrap>'8.961 % of employees earned between 100001-190000  annual salary'</span></li>\n",
       "\t<li><span style=white-space:pre-wrap>'3.267 % of employees earned between 190001-200000  annual salary'</span></li>\n",
       "\t<li><span style=white-space:pre-wrap>'0.5325 % of employees earned between 200001-300000  annual salary'</span></li>\n",
       "\t<li><span style=white-space:pre-wrap>'0.03036 % of employees earned between 300001-400000  annual salary'</span></li>\n",
       "\t<li><span style=white-space:pre-wrap>'0.007006 % of employees earned between 400001-500000  annual salary'</span></li>\n",
       "\t<li><span style=white-space:pre-wrap>'0.002335 % of employees earned between 500001-600000  annual salary'</span></li>\n",
       "\t<li><span style=white-space:pre-wrap>'0 % of employees earned between 600001-700000  annual salary'</span></li>\n",
       "</ol>\n"
      ],
      "text/latex": [
       "\\begin{enumerate*}\n",
       "\\item '19.14 \\% of employees earned between 0-20000  annual salary'\n",
       "\\item '9.963 \\% of employees earned between 20001-50000  annual salary'\n",
       "\\item '23.52 \\% of employees earned between 50001-80000  annual salary'\n",
       "\\item '7.929 \\% of employees earned between 80001-90000  annual salary'\n",
       "\\item '26.63 \\% of employees earned between 90001-100000  annual salary'\n",
       "\\item '8.961 \\% of employees earned between 100001-190000  annual salary'\n",
       "\\item '3.267 \\% of employees earned between 190001-200000  annual salary'\n",
       "\\item '0.5325 \\% of employees earned between 200001-300000  annual salary'\n",
       "\\item '0.03036 \\% of employees earned between 300001-400000  annual salary'\n",
       "\\item '0.007006 \\% of employees earned between 400001-500000  annual salary'\n",
       "\\item '0.002335 \\% of employees earned between 500001-600000  annual salary'\n",
       "\\item '0 \\% of employees earned between 600001-700000  annual salary'\n",
       "\\end{enumerate*}\n"
      ],
      "text/markdown": [
       "1. <span style=white-space:pre-wrap>'19.14 % of employees earned between 0-20000  annual salary'</span>\n",
       "2. <span style=white-space:pre-wrap>'9.963 % of employees earned between 20001-50000  annual salary'</span>\n",
       "3. <span style=white-space:pre-wrap>'23.52 % of employees earned between 50001-80000  annual salary'</span>\n",
       "4. <span style=white-space:pre-wrap>'7.929 % of employees earned between 80001-90000  annual salary'</span>\n",
       "5. <span style=white-space:pre-wrap>'26.63 % of employees earned between 90001-100000  annual salary'</span>\n",
       "6. <span style=white-space:pre-wrap>'8.961 % of employees earned between 100001-190000  annual salary'</span>\n",
       "7. <span style=white-space:pre-wrap>'3.267 % of employees earned between 190001-200000  annual salary'</span>\n",
       "8. <span style=white-space:pre-wrap>'0.5325 % of employees earned between 200001-300000  annual salary'</span>\n",
       "9. <span style=white-space:pre-wrap>'0.03036 % of employees earned between 300001-400000  annual salary'</span>\n",
       "10. <span style=white-space:pre-wrap>'0.007006 % of employees earned between 400001-500000  annual salary'</span>\n",
       "11. <span style=white-space:pre-wrap>'0.002335 % of employees earned between 500001-600000  annual salary'</span>\n",
       "12. <span style=white-space:pre-wrap>'0 % of employees earned between 600001-700000  annual salary'</span>\n",
       "\n",
       "\n"
      ],
      "text/plain": [
       " [1] \"19.14 % of employees earned between 0-20000  annual salary\"         \n",
       " [2] \"9.963 % of employees earned between 20001-50000  annual salary\"     \n",
       " [3] \"23.52 % of employees earned between 50001-80000  annual salary\"     \n",
       " [4] \"7.929 % of employees earned between 80001-90000  annual salary\"     \n",
       " [5] \"26.63 % of employees earned between 90001-100000  annual salary\"    \n",
       " [6] \"8.961 % of employees earned between 100001-190000  annual salary\"   \n",
       " [7] \"3.267 % of employees earned between 190001-200000  annual salary\"   \n",
       " [8] \"0.5325 % of employees earned between 200001-300000  annual salary\"  \n",
       " [9] \"0.03036 % of employees earned between 300001-400000  annual salary\" \n",
       "[10] \"0.007006 % of employees earned between 400001-500000  annual salary\"\n",
       "[11] \"0.002335 % of employees earned between 500001-600000  annual salary\"\n",
       "[12] \"0 % of employees earned between 600001-700000  annual salary\"       "
      ]
     },
     "metadata": {},
     "output_type": "display_data"
    }
   ],
   "source": [
    "bin_labels3 <- c('0-20000', '20001-50000', '50001-80000', '80001-90000', '90001-100000', '100001-190000', '190001-200000','200001-300000', '300001-400000', '400001-500000', '500001-600000', '600001-700000')\n",
    "\n",
    "percents3 <- NULL \n",
    "\n",
    "for (i in 1:length(bin_labels3)) {\n",
    "    \n",
    "    percents3[i] <-100*length(which(output==bin_labels3[i])) /length(output)\n",
    "}\n",
    "\n",
    "paste(signif(percents3, digits=4), \"% of employees earned between\", bin_labels3, \" annual salary\")"
   ]
  },
  {
   "cell_type": "code",
   "execution_count": 76,
   "id": "8e56574f",
   "metadata": {},
   "outputs": [
    {
     "data": {
      "image/png": "[encoded data removed]",
      "text/plain": [
       "Plot with title \"Salary Ranges for Fiscal Year: 2019\""
      ]
     },
     "metadata": {},
     "output_type": "display_data"
    }
   ],
   "source": [
    "barplot(percents3, names.arg= bin_labels3, las=2, cex.names=0.5, col= \"#4169E1\", main = \"Salary Ranges for Fiscal Year: 2019\"  )"
   ]
  },
  {
   "cell_type": "markdown",
   "id": "accf0104",
   "metadata": {},
   "source": [
    "# Loop to print salary ranges of Salaries for Fiscal 2017"
   ]
  },
  {
   "cell_type": "code",
   "execution_count": 53,
   "id": "665accc9",
   "metadata": {},
   "outputs": [],
   "source": [
    "income.ranges.2017 <- fiscal.2017"
   ]
  },
  {
   "cell_type": "code",
   "execution_count": 54,
   "id": "f54a38cc",
   "metadata": {},
   "outputs": [],
   "source": [
    "output4 <- cut(income.ranges.2017$Total.Salary, c(0, 25000, 55000, 85000, 95000, 150000, 195000, 250000, 350000, 450000, 550000, 650000, 700000), labels = c('0-20000', '20001-50000', '50001-80000', '80001-90000', '90001-100000', '100001-190000', '190001-200000','200001-300000', '300001-400000', '400001-500000', '500001-600000', '600001-700000'))\n"
   ]
  },
  {
   "cell_type": "code",
   "execution_count": 55,
   "id": "319fd2b2",
   "metadata": {
    "scrolled": true
   },
   "outputs": [
    {
     "data": {
      "text/html": [
       "<ol class=list-inline>\n",
       "\t<li><span style=white-space:pre-wrap>'22 % of employees earned between 0-20000  annual salary'</span></li>\n",
       "\t<li><span style=white-space:pre-wrap>'11.8 % of employees earned between 20001-50000  annual salary'</span></li>\n",
       "\t<li><span style=white-space:pre-wrap>'24 % of employees earned between 50001-80000  annual salary'</span></li>\n",
       "\t<li><span style=white-space:pre-wrap>'7.36 % of employees earned between 80001-90000  annual salary'</span></li>\n",
       "\t<li><span style=white-space:pre-wrap>'24 % of employees earned between 90001-100000  annual salary'</span></li>\n",
       "\t<li><span style=white-space:pre-wrap>'7.69 % of employees earned between 100001-190000  annual salary'</span></li>\n",
       "\t<li><span style=white-space:pre-wrap>'2.66 % of employees earned between 190001-200000  annual salary'</span></li>\n",
       "\t<li><span style=white-space:pre-wrap>'0.383 % of employees earned between 200001-300000  annual salary'</span></li>\n",
       "\t<li><span style=white-space:pre-wrap>'0.0125 % of employees earned between 300001-400000  annual salary'</span></li>\n",
       "\t<li><span style=white-space:pre-wrap>'0.00228 % of employees earned between 400001-500000  annual salary'</span></li>\n",
       "\t<li><span style=white-space:pre-wrap>'0 % of employees earned between 500001-600000  annual salary'</span></li>\n",
       "\t<li><span style=white-space:pre-wrap>'0 % of employees earned between 600001-700000  annual salary'</span></li>\n",
       "</ol>\n"
      ],
      "text/latex": [
       "\\begin{enumerate*}\n",
       "\\item '22 \\% of employees earned between 0-20000  annual salary'\n",
       "\\item '11.8 \\% of employees earned between 20001-50000  annual salary'\n",
       "\\item '24 \\% of employees earned between 50001-80000  annual salary'\n",
       "\\item '7.36 \\% of employees earned between 80001-90000  annual salary'\n",
       "\\item '24 \\% of employees earned between 90001-100000  annual salary'\n",
       "\\item '7.69 \\% of employees earned between 100001-190000  annual salary'\n",
       "\\item '2.66 \\% of employees earned between 190001-200000  annual salary'\n",
       "\\item '0.383 \\% of employees earned between 200001-300000  annual salary'\n",
       "\\item '0.0125 \\% of employees earned between 300001-400000  annual salary'\n",
       "\\item '0.00228 \\% of employees earned between 400001-500000  annual salary'\n",
       "\\item '0 \\% of employees earned between 500001-600000  annual salary'\n",
       "\\item '0 \\% of employees earned between 600001-700000  annual salary'\n",
       "\\end{enumerate*}\n"
      ],
      "text/markdown": [
       "1. <span style=white-space:pre-wrap>'22 % of employees earned between 0-20000  annual salary'</span>\n",
       "2. <span style=white-space:pre-wrap>'11.8 % of employees earned between 20001-50000  annual salary'</span>\n",
       "3. <span style=white-space:pre-wrap>'24 % of employees earned between 50001-80000  annual salary'</span>\n",
       "4. <span style=white-space:pre-wrap>'7.36 % of employees earned between 80001-90000  annual salary'</span>\n",
       "5. <span style=white-space:pre-wrap>'24 % of employees earned between 90001-100000  annual salary'</span>\n",
       "6. <span style=white-space:pre-wrap>'7.69 % of employees earned between 100001-190000  annual salary'</span>\n",
       "7. <span style=white-space:pre-wrap>'2.66 % of employees earned between 190001-200000  annual salary'</span>\n",
       "8. <span style=white-space:pre-wrap>'0.383 % of employees earned between 200001-300000  annual salary'</span>\n",
       "9. <span style=white-space:pre-wrap>'0.0125 % of employees earned between 300001-400000  annual salary'</span>\n",
       "10. <span style=white-space:pre-wrap>'0.00228 % of employees earned between 400001-500000  annual salary'</span>\n",
       "11. <span style=white-space:pre-wrap>'0 % of employees earned between 500001-600000  annual salary'</span>\n",
       "12. <span style=white-space:pre-wrap>'0 % of employees earned between 600001-700000  annual salary'</span>\n",
       "\n",
       "\n"
      ],
      "text/plain": [
       " [1] \"22 % of employees earned between 0-20000  annual salary\"           \n",
       " [2] \"11.8 % of employees earned between 20001-50000  annual salary\"     \n",
       " [3] \"24 % of employees earned between 50001-80000  annual salary\"       \n",
       " [4] \"7.36 % of employees earned between 80001-90000  annual salary\"     \n",
       " [5] \"24 % of employees earned between 90001-100000  annual salary\"      \n",
       " [6] \"7.69 % of employees earned between 100001-190000  annual salary\"   \n",
       " [7] \"2.66 % of employees earned between 190001-200000  annual salary\"   \n",
       " [8] \"0.383 % of employees earned between 200001-300000  annual salary\"  \n",
       " [9] \"0.0125 % of employees earned between 300001-400000  annual salary\" \n",
       "[10] \"0.00228 % of employees earned between 400001-500000  annual salary\"\n",
       "[11] \"0 % of employees earned between 500001-600000  annual salary\"      \n",
       "[12] \"0 % of employees earned between 600001-700000  annual salary\"      "
      ]
     },
     "metadata": {},
     "output_type": "display_data"
    }
   ],
   "source": [
    "bin_labels4 <- c('0-20000', '20001-50000', '50001-80000', '80001-90000', '90001-100000', '100001-190000', '190001-200000','200001-300000', '300001-400000', '400001-500000', '500001-600000', '600001-700000')\n",
    "\n",
    "percents4 <- NULL ## Percent initializes vector for my output and makes it empty for future values\n",
    "\n",
    "for (i in 1:length(bin_labels4)) { ##This line tell the computer what positions begin with\n",
    "    \n",
    "    percents4[i] <-100*length(which(output4==bin_labels4[i])) /length(output4)\n",
    "}\n",
    "\n",
    "paste(signif(percents4, digits=3), \"% of employees earned between\", bin_labels4, \" annual salary\")"
   ]
  },
  {
   "cell_type": "code",
   "execution_count": 66,
   "id": "1ca9f6e9",
   "metadata": {},
   "outputs": [
    {
     "data": {
      "image/png": "[encoded data removed]",
      "text/plain": [
       "Plot with title \"Salary Ranges for Fiscal Year: 2017\""
      ]
     },
     "metadata": {},
     "output_type": "display_data"
    }
   ],
   "source": [
    "barplot(percents4, names.arg= bin_labels4, las=2, cex.names=0.5, col= \"Yellow\", main = \"Salary Ranges for Fiscal Year: 2017\"  )"
   ]
  },
  {
   "cell_type": "markdown",
   "id": "b0daaca5",
   "metadata": {},
   "source": [
    "# Summary \n",
    "\n",
    "The difference between total salary paid to San Francisco city employees has risen from $2,798,882,970.85 to $3,983,192,156.57 from 2013 to 2021. This is a difference of $1,184,309,185.72. There is also an unexplained spike in total\" salary for 2017. The negative salary adjustments in \"2018 to 2020\" does not account for the difference however since the \n",
    "negative total salary for those years equals to $127,509.56. \n",
    "\n",
    "The data also shows changes in the top five most held job titles. In 2013, the top five were “Transit Operator”, “Special Nurse”, “Registered Nurse”, “Public Service Aide- Public Works“, and “Police Officer 3”. In 2020 however, the top five most held job titles changed to “Transit Operator”, “Special Nurse”, “Registered Nurse”, “Custodian”, and “Firefighter”. The number of transit officers rose from 2379 to 2741; Special Nurses from 1500 to 1589; Registered Nurses from 1274 to 1541; Custodian increased from 812 to 888; Firefighter from 764 to 881.While the city saw decreases in Public Service Aide- Public Works which went down from 888 to 352; and Police Officer 3 which went down from 831 to 823.\n",
    "\n",
    "Additionally, the total compensation paid out to all employees in Fiscal Year 2020 increased to $5,471,228,049.28 from Fiscal Year 2013 which was $3,793,165,149.6. And the total benefits paid out in Fiscal Year 2020 $1,488,035,892.71, which rose from Fiscal Year 2013 which was $994,282,178.75. This is an increase of $493,753,713.96, or 49.66%. According to Zillow.com the median home price by December of 2013 was approximately $940,000. By December of 2020, it had risen to 1.39 million. This is a 47.8723% increase\n",
    "\n",
    "References:\n",
    "Zillow.com (September 12, 2021) San Francisco Home Values: Zillow Home Price Index. Retrieved from. https://www.zillow.com/san-francisco-ca/home-values/ \"\n"
   ]
  },
  {
   "cell_type": "markdown",
   "id": "c8181083",
   "metadata": {},
   "source": [
    "# Recommendation\n",
    "\n",
    "According to Chase.com, the “28% rule” states that a home buyer should spend 28% (or less) of their monthly gross income on your mortgage payment (including principal, interest, taxes and insurance). It is recommended that the SF Chronical compare the average home prices from 2013 and the percentage of city employees who were able to buy homes then, to the average home price of 2020 and the percentage of employees who were able to buy homes. \n",
    "\n",
    "\n",
    "References:\n",
    "\n",
    "Chase.com (September 12, 2021) Well-known mortgage payment rules or methods\n",
    "https://www.chase.com/personal/mortgage/education/financing-a-home/what-percentage-income-towards-mortgage\n",
    "\n"
   ]
  },
  {
   "cell_type": "markdown",
   "id": "dc78bfd2",
   "metadata": {},
   "source": [
    "# Additional Code"
   ]
  },
  {
   "cell_type": "markdown",
   "id": "9b2e0c96",
   "metadata": {},
   "source": [
    "I used rbind to merge my subsets into one dataframe in order to plot it. This may not be the most efficient code, but it worked!"
   ]
  },
  {
   "cell_type": "code",
   "execution_count": 38,
   "id": "ac1b5399",
   "metadata": {},
   "outputs": [],
   "source": [
    "merge1 <- rbind(fiscal.2020, fiscal.2019)\n",
    "merge2 <- rbind(merge1, fiscal.2018)\n",
    "merge3 <- rbind(merge1, fiscal.2017)\n",
    "merge4 <- rbind(merge1, fiscal.2016)\n",
    "merge5 <- rbind(merge1, fiscal.2015)\n",
    "merge6 <- rbind(merge1, fiscal.2014)\n",
    "total.salary.data <- rbind(merge1, fiscal.2013)\n"
   ]
  },
  {
   "cell_type": "code",
   "execution_count": null,
   "id": "6ebb07c7",
   "metadata": {},
   "outputs": [],
   "source": [
    "##summary(total.salary.data)"
   ]
  },
  {
   "cell_type": "code",
   "execution_count": 23,
   "id": "b22bff0f",
   "metadata": {},
   "outputs": [
    {
     "data": {
      "text/html": [
       "-38722.2"
      ],
      "text/latex": [
       "-38722.2"
      ],
      "text/markdown": [
       "-38722.2"
      ],
      "text/plain": [
       "[1] -38722.2"
      ]
     },
     "metadata": {},
     "output_type": "display_data"
    }
   ],
   "source": [
    "neg <- sum(fiscal.2020$Total.Salary[fiscal.2020$Total.Salary<0])\n",
    "neg"
   ]
  },
  {
   "cell_type": "code",
   "execution_count": 24,
   "id": "11bdb101",
   "metadata": {},
   "outputs": [
    {
     "data": {
      "text/html": [
       "-52450.3"
      ],
      "text/latex": [
       "-52450.3"
      ],
      "text/markdown": [
       "-52450.3"
      ],
      "text/plain": [
       "[1] -52450.3"
      ]
     },
     "metadata": {},
     "output_type": "display_data"
    }
   ],
   "source": [
    "neg2 <- sum(fiscal.2019$Total.Salary[fiscal.2019$Total.Salary<0])\n",
    "neg2"
   ]
  },
  {
   "cell_type": "code",
   "execution_count": 25,
   "id": "eea69f45",
   "metadata": {},
   "outputs": [
    {
     "data": {
      "text/html": [
       "-36337.06"
      ],
      "text/latex": [
       "-36337.06"
      ],
      "text/markdown": [
       "-36337.06"
      ],
      "text/plain": [
       "[1] -36337.06"
      ]
     },
     "metadata": {},
     "output_type": "display_data"
    }
   ],
   "source": [
    "neg3 <- sum(fiscal.2018$Total.Salary[fiscal.2018$Total.Salary<0])\n",
    "neg3"
   ]
  }
 ],
 "metadata": {
  "kernelspec": {
   "display_name": "R",
   "language": "R",
   "name": "ir"
  },
  "language_info": {
   "codemirror_mode": "r",
   "file_extension": ".r",
   "mimetype": "text/x-r-source",
   "name": "R",
   "pygments_lexer": "r",
   "version": "3.6.1"
  }
 },
 "nbformat": 4,
 "nbformat_minor": 5
}
