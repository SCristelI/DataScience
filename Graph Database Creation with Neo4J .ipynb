{
 "cells": [
  {
   "cell_type": "markdown",
   "id": "e412e10e",
   "metadata": {},
   "source": [
    "Cristel Irwin"
   ]
  },
  {
   "cell_type": "code",
   "execution_count": 49,
   "id": "f0652629",
   "metadata": {},
   "outputs": [],
   "source": [
    "#Connect to database\n",
    "from py2neo import Graph\n",
    "\n",
    "graph = Graph(uri=\"bolt://localhost:7687\", auth=(\"neo4j\",\"FMP10\"))"
   ]
  },
  {
   "cell_type": "code",
   "execution_count": 50,
   "id": "57b3b007",
   "metadata": {},
   "outputs": [],
   "source": [
    "#Deletes graphs\n",
    "graph.delete_all()"
   ]
  },
  {
   "cell_type": "code",
   "execution_count": 51,
   "id": "9e8354da",
   "metadata": {},
   "outputs": [],
   "source": [
    "#Create nodes\n",
    "from py2neo import Node\n",
    "\n",
    "Node1 = Node(\"Adminstration\", job_title=\"Administrator\", name=\"J. Smith\", CE_training_hours=\"40\", duties=\"supervises clinical and administrative affairs of nursing home such as overseeing staff and personnel, financial matters, medical care, medical supplies, facilities and other tasks required to run a nursing home facility.\")\n",
    "\n",
    "\n",
    "#Node2 = Node(Director of Nurses (DoN)(node from main), Department= Nursing \n",
    "Node2 = Node(\"Clinical\", job_title=\"DoN\", name=\"Andi Mitchell\", university=\"Betty Irene Moore School of Nursing, University of California, Davis\", certifications=\"Registered Nursing License, Acute Care Nurse Practitioner- Adult-Gerontology, Trauma Certified Registered Nurse, Certified Nurse Manager and Leader, Stroke Certified Registered Nurse, Cardiac-Vascular Nursing, Pain Management Nursing, Public Health Nursing-Advanced, Nursing Case Management, Emergency Nurse Practitioner, Orthopaedic Nurse Certified, Certified Academic Clinical Nurse Educator, Training in Infection Prevention and Control to Provide On-Site Management of the IPC Program, Psychiatric-Mental Health Nursing, Informatics Nursing, Rheumatology Nursing, Clinical Nurse Specialist\", duties=\"oversees nursing staff and nursing operations of healthcare facility, evaluates and directs all nursing employees, establishes goals for the nursing department, creates and enforces compliant healthcare policies, designates trainers.\")\n",
    "#Nodes under DoN\n",
    "Node3 = Node(\"Clinical\", job_title=\"Charge Nurse\", CDC='Yes', CDCduties=\"CDC Duties include Provide Supplies Necessary to Adhere to Recommended IPC Practices\", credentials=\"Certified Rehabilitation Registered Nurse, Certified Registered Nurse First Assistant, Certified Ostomy Care Nurse, Stroke Certified Registered Nurse, Pain Management Nursing\", duties=\"oversees clinical staff on behalf of DoN\")\n",
    "Node4 = Node(\"Clinical\", job_title=\"RN Staff\", schedule=\"rotation\", shifts=\"AM, PM, NOC\")\n",
    "Node5 =Node(\"Clinical\", job_title=\"Wound Care\", requirements=\"WOCNCB Certified Wound Care Nurse\", specialty_care=\"Wound Care, Ostomy Care, Continence Care, Foot Care\")\n",
    "Node6 = Node(\"Clinical\", job_title=\"Certified Nursing Assistants-CNA\", num_of_staff=\"45\")\n",
    "\n",
    "#Node under Node1 Administrator, Department= Admissions \n",
    "Node7 = Node(\"Admissions\", job_title=\"Admissions Director\", duties= \"responsible for admissions process and staff in a nursing home. Works directly with residents and the families of elderly hospital patients who may need to move into the facility.\")\n",
    "Node8 = Node(\"Admissions1\", job_title=\"Admissions Assistant\", education=\"High School Diploma\", duties= \"responsible for assisting in the admissions process and staff in a nursing home. Works directly with residents and the families of elderly hospital patients who may need to move into the facility.\")\n",
    "\n",
    "\n",
    "#Node under Node1 Administrator, Department= Dietary                                        \n",
    "Node9 = Node(\"Dietary\", job_title=\"Executive Chef\", specialty_training=\"Culinary Degree, CPR Certification, Food Service Management Certification\")\n",
    "#Nodes under Culinary Specialist\n",
    "Node10 = Node(\"Dietary1\", job_title=\"Cook1\", specialty_training=\"Associate's Degree in Food Service Preparation, Nutrition Specialist Certification, Choking Prevention Certification\")\n",
    "Node11 = Node(\"Dietary2\", job_title=\"Cook2\", education=\"High School Diploma\")\n",
    "Node12 = Node(\"Dietary3\", job_title=\"Cook3\", education=\"GED\")\n",
    "                                      \n",
    "#Node under Node1 Administrator, Department= Maintenance                                      \n",
    "Node13 = Node(\"Maintenance\", job_title=\"Maintenance Supervisor\", apprenticeship_status=\"Graduate, Lakeshore Technical College\", salary_type=\"Annual\", CDC_duties=\"Ensure HCP have access to all necessary supplies including alcohol based hand sanitizer with 60-95% alcohol, personal protective equipment (PPE), and supplies for cleaning and disinfection. Put FDA-approved alcohol-based hand sanitizer with 60-95 percent alcohol in every resident room and other resident care and common areas\")\n",
    "Node14 = Node(\"Maintenance1\", job_title=\"Maintenance Assistant/Laundry\", apprenticeship_status=\"none\", hourly_pay=\"17.50\")\n",
    "\n",
    "#Node under Node1 Administrator, Department= Billing                                    \n",
    "Node15 = Node(\"Billing\", job_title=\"Billing Specialist\", payment_methods=\"Private insurance, Government insurance, Private Cash Payments\", hours=\"Monday 8am-4pm, Tuesday 8am-4pm, Wednesday 8am-4pm, Thursday 8am-4pm\")\n",
    "\n",
    "                                \n",
    "#Node under Node1 Administrator, Department= SSD  \n",
    "Node16 = Node(\"Social Services\", job_title=\"Social Services Director\", qualifications=\"Master of Social Work, Advanced Social Worker in Gerontology- ASW-G, Advanced Certified Hospice and Palliative Social Worker- ACHP-SW, Certified Clinical Alcohol, Tobacco & Other Drugs Social Worker C-CATODSW\")\n",
    "\n",
    "#Node under Node1 Administrator/Node 2 DoN , Department= MedRec                                        \n",
    "Node17 = Node(\"MedRec\", job_title=\"Medical Records Coordinator\", duties=\"making certain that patient data is being compiled, updated, and organized accurately in compliance with regulations\")\n",
    "Node18 = Node(\"MedRec2\", job_title=\"MDS Coordinator\", degree=\"Bachelor's in Nursing\", job_requirements=\"assesses and monitors proper treatment for residents in nursing homes\")                                     \n",
    "\n",
    "#Node under Node1 Administrator/Node 2 DoN, Department= Rehab                                       \n",
    "Node19 = Node(\"Rehab\", job_title=\"Therapy Director\", experience=\"20 years of experience working in rehabilitation, specializing in senior care\", duties=\"sets and implements guidelines for rehabilitation programs such as physical therapy, occupational therapy, and speech therapy.\")\n",
    "Node20 = Node(\"Rehab1\", job_title=\"Occupational Therapist\", accreditations=\"Master's degree in Occupational Therapy, NBCOT certification\", duties=\"treat injured, ill, or disabled patients through the therapeutic use of everyday activities.\")\n",
    "Node21 = Node(\"Rehab2\", job_title=\"Physical Therapist\", duties=\"examines, evaluates, diagnoses a patient in order to reduce disability\")\n",
    "Node22 = Node(\"Rehab3\", job_title=\" Speech Pathologist\", licenses=\"American Sign Language (ASL) Interpreting Certificate\", duties=\"work to prevent, assess, diagnose, and treat speech, language, social communication, cognitive-communication, and swallowing disorders in children and adults\")\n",
    "                                      \n",
    "\n",
    "#Node under Node1 Administrator/Node 2 DoN, Department= Activities \n",
    "Node23 = Node(\"Activities\", job_title=\"Activities Director\", committees=\"Activity Directors Network\", duties= \"coordinates activities such as group events, field trips, and recreational activities\")\n",
    "Node24 = Node(\"Activities1\", job_title=\"Activities Assistant\", duties= \"assists the director in coordinating activities such as group events, field trips, and recreational activities\")                                     \n"
   ]
  },
  {
   "cell_type": "code",
   "execution_count": 52,
   "id": "5faccd25",
   "metadata": {},
   "outputs": [],
   "source": [
    "#Create relationships\n",
    "\n",
    "from py2neo import Relationship\n",
    "\n",
    "#Nodes that directly report to Node1\n",
    "graph.create(Relationship(Node1, \"Oversees\", Node2)) #DoN Nursing\n",
    "graph.create(Relationship(Node1, \"Oversees\", Node7)) #Admissions\n",
    "graph.create(Relationship(Node1, \"Oversees\", Node9)) #Culinary\n",
    "graph.create(Relationship(Node1,  \"Oversees\", Node13)) #Maintenance\n",
    "graph.create(Relationship(Node1, \"Oversees\", Node15)) #Financial\n",
    "graph.create(Relationship(Node1, \"Oversees\", Node16)) #Social Services\n",
    "graph.create(Relationship(Node1, \"Oversees\", Node17)) #MedRec\n",
    "graph.create(Relationship(Node1, \"Oversees\", Node19)) #Therapy\n",
    "graph.create(Relationship(Node1, \"Oversees\", Node23)) #Activities\n",
    "\n",
    "\n",
    "#Nodes that directly report to Node2\n",
    "graph.create(Relationship(Node2, \"Oversees\", Node3)) #Charge/Lead RN\n",
    "graph.create(Relationship(Node2, \"Oversees\", Node4)) # Rn Floor Staff\n",
    "graph.create(Relationship(Node2, \"Oversees\", Node5)) #Wound Care RN\n",
    "graph.create(Relationship(Node2,  \"Oversees\", Node6)) #CNA's\n",
    "\n",
    "#Nodes that directly report to Node7\n",
    "graph.create(Relationship(Node7, \"Oversees\", Node8)) #Admissions Assistant\n",
    "\n",
    "#Nodes that directly report to Node9\n",
    "graph.create(Relationship(Node9, \"Oversees\", Node10)) #Cook 1\n",
    "graph.create(Relationship(Node9, \"Oversees\", Node11)) #Cook 2\n",
    "graph.create(Relationship(Node9, \"Oversees\", Node12)) #Cook 3\n",
    "\n",
    "#Nodes that directly report to Node13\n",
    "graph.create(Relationship(Node13, \"Oversees\", Node14)) #Maintenance Assistance\n",
    "\n",
    "#Nodes that directly report to Node17\n",
    "graph.create(Relationship(Node17, \"Oversees\", Node18)) #Medical Records Cooridnator 2\n",
    "\n",
    "#Nodes that directly report to Node19\n",
    "graph.create(Relationship(Node19, \"Oversees\", Node20)) #Occupational Therapist\n",
    "graph.create(Relationship(Node19, \"Oversees\", Node21)) #Physical Therapist\n",
    "graph.create(Relationship(Node19, \"Oversees\", Node22)) #Speech Pathologist\n",
    "\n",
    "#Nodes that directly report to Node23\n",
    "graph.create(Relationship(Node23, \"Oversees\", Node24)) #Activities Assistant\n"
   ]
  },
  {
   "cell_type": "code",
   "execution_count": 26,
   "id": "ad47d470",
   "metadata": {},
   "outputs": [
    {
     "name": "stdout",
     "output_type": "stream",
     "text": [
      "No of Director of Nurses employeed 5 & No of activities director employed is 1\n"
     ]
    }
   ],
   "source": [
    "#query\n",
    "\n",
    "number_of_DoN=\"MATCH(p:Clinical) RETURN Count(p)\"\n",
    "number_of_ActivitiesDir=\"MATCH(m:Activities) RETURN Count(m)\"\n",
    "\n",
    "\n",
    "results=graph.evaluate(number_of_DoN)\n",
    "results2=graph.evaluate(number_of_ActivitiesDir)\n",
    "\n",
    "#Print the result\n",
    "print(f\"No of Director of Nurses employeed {results} & No of activities director employed is {results2}\")"
   ]
  },
  {
   "cell_type": "code",
   "execution_count": 27,
   "id": "fde3be36",
   "metadata": {},
   "outputs": [
    {
     "data": {
      "text/html": [
       "<div>\n",
       "<style scoped>\n",
       "    .dataframe tbody tr th:only-of-type {\n",
       "        vertical-align: middle;\n",
       "    }\n",
       "\n",
       "    .dataframe tbody tr th {\n",
       "        vertical-align: top;\n",
       "    }\n",
       "\n",
       "    .dataframe thead th {\n",
       "        text-align: right;\n",
       "    }\n",
       "</style>\n",
       "<table border=\"1\" class=\"dataframe\">\n",
       "  <thead>\n",
       "    <tr style=\"text-align: right;\">\n",
       "      <th></th>\n",
       "      <th>RelationType</th>\n",
       "    </tr>\n",
       "  </thead>\n",
       "  <tbody>\n",
       "    <tr>\n",
       "      <th>0</th>\n",
       "      <td>Oversees</td>\n",
       "    </tr>\n",
       "  </tbody>\n",
       "</table>\n",
       "</div>"
      ],
      "text/plain": [
       "  RelationType\n",
       "0     Oversees"
      ]
     },
     "execution_count": 27,
     "metadata": {},
     "output_type": "execute_result"
    }
   ],
   "source": [
    "#Returns unique relationship types\n",
    "\n",
    "cypher_all_relationship=\"MATCH (n)-[r]-(m) RETURN DISTINCT type(r) as RelationType\"\n",
    "\n",
    "graph.run(cypher_all_relationship).to_data_frame()"
   ]
  },
  {
   "cell_type": "code",
   "execution_count": 44,
   "id": "f84bc8a5",
   "metadata": {},
   "outputs": [],
   "source": [
    "driver = GraphDatabase.driver(uri=\"bolt://localhost:7687\", auth=(\"neo4j\",\"FMP10\"))"
   ]
  },
  {
   "cell_type": "code",
   "execution_count": 45,
   "id": "f632f7c3",
   "metadata": {},
   "outputs": [],
   "source": [
    "session = driver.session()"
   ]
  },
  {
   "cell_type": "code",
   "execution_count": 46,
   "id": "7bf567c4",
   "metadata": {},
   "outputs": [
    {
     "name": "stdout",
     "output_type": "stream",
     "text": [
      "<Record (x.job_title)='Cook3'>\n"
     ]
    }
   ],
   "source": [
    "question1 = \"MATCH (x) where x.education='GED' return (x.job_title)\"\n",
    "nodes = session.run(question1)\n",
    "\n",
    "for node in nodes:\n",
    "    print(node)"
   ]
  },
  {
   "cell_type": "code",
   "execution_count": 47,
   "id": "425278f7",
   "metadata": {},
   "outputs": [
    {
     "name": "stdout",
     "output_type": "stream",
     "text": [
      "<Record x=<Node id=37 labels=frozenset({'Clinical'}) properties={'num_of_staff': '45', 'job_title': 'Certified Nursing Assistants-CNA'}>>\n"
     ]
    }
   ],
   "source": [
    "question2 = \"MATCH (x) where x.num_of_staff='45' return (x)\"\n",
    "nodes2 = session.run(question2)\n",
    "\n",
    "for node in nodes2:\n",
    "    print(node)"
   ]
  },
  {
   "cell_type": "code",
   "execution_count": 48,
   "id": "b5c9d010",
   "metadata": {},
   "outputs": [
    {
     "name": "stdout",
     "output_type": "stream",
     "text": [
      "<Record (x.CDCduties)='CDC Duties include Provide Supplies Necessary to Adhere to Recommended IPC Practices'>\n"
     ]
    }
   ],
   "source": [
    "question3 = 'MATCH (x) where x.CDC=\"Yes\" return (x.CDCduties)'\n",
    "nodes = session.run(question3)\n",
    "\n",
    "for node in nodes:\n",
    "    print(node)"
   ]
  },
  {
   "cell_type": "code",
   "execution_count": null,
   "id": "55f49456",
   "metadata": {},
   "outputs": [],
   "source": []
  }
 ],
 "metadata": {
  "kernelspec": {
   "display_name": "Python 3 (ipykernel)",
   "language": "python",
   "name": "python3"
  },
  "language_info": {
   "codemirror_mode": {
    "name": "ipython",
    "version": 3
   },
   "file_extension": ".py",
   "mimetype": "text/x-python",
   "name": "python",
   "nbconvert_exporter": "python",
   "pygments_lexer": "ipython3",
   "version": "3.9.7"
  }
 },
 "nbformat": 4,
 "nbformat_minor": 5
}
