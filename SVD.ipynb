{
 "cells": [
  {
   "cell_type": "code",
   "execution_count": null,
   "id": "4086b10b",
   "metadata": {},
   "outputs": [],
   "source": [
    "Final"
   ]
  },
  {
   "cell_type": "markdown",
   "id": "12ca23bf",
   "metadata": {
    "id": "12ca23bf"
   },
   "source": [
    "Final"
   ]
  },
  {
   "cell_type": "code",
   "execution_count": 31,
   "id": "8f7e0b99",
   "metadata": {},
   "outputs": [],
   "source": [
    "trip <- read.csv('C:/Users/Sandy/Desktop/R CSV FILES/imagesSVD.csv', header = FALSE)\n"
   ]
  },
  {
   "cell_type": "code",
   "execution_count": 32,
   "id": "lurFPC-rR8uD",
   "metadata": {
    "colab": {
     "base_uri": "https://localhost:8080/",
     "height": 85
    },
    "id": "lurFPC-rR8uD",
    "outputId": "d6a22bba-a9e4-471c-c527-82122dccc587"
   },
   "outputs": [
    {
     "data": {
      "text/html": [
       "<ol class=list-inline>\n",
       "\t<li>512</li>\n",
       "\t<li>512</li>\n",
       "</ol>\n"
      ],
      "text/latex": [
       "\\begin{enumerate*}\n",
       "\\item 512\n",
       "\\item 512\n",
       "\\end{enumerate*}\n"
      ],
      "text/markdown": [
       "1. 512\n",
       "2. 512\n",
       "\n",
       "\n"
      ],
      "text/plain": [
       "[1] 512 512"
      ]
     },
     "metadata": {},
     "output_type": "display_data"
    },
    {
     "data": {
      "text/html": [
       "<ol class=list-inline>\n",
       "\t<li>256</li>\n",
       "\t<li>2007</li>\n",
       "</ol>\n"
      ],
      "text/latex": [
       "\\begin{enumerate*}\n",
       "\\item 256\n",
       "\\item 2007\n",
       "\\end{enumerate*}\n"
      ],
      "text/markdown": [
       "1. 256\n",
       "2. 2007\n",
       "\n",
       "\n"
      ],
      "text/plain": [
       "[1]  256 2007"
      ]
     },
     "metadata": {},
     "output_type": "display_data"
    },
    {
     "data": {
      "text/html": [
       "<ol class=list-inline>\n",
       "\t<li>1</li>\n",
       "\t<li>1707</li>\n",
       "</ol>\n"
      ],
      "text/latex": [
       "\\begin{enumerate*}\n",
       "\\item 1\n",
       "\\item 1707\n",
       "\\end{enumerate*}\n"
      ],
      "text/markdown": [
       "1. 1\n",
       "2. 1707\n",
       "\n",
       "\n"
      ],
      "text/plain": [
       "[1]    1 1707"
      ]
     },
     "metadata": {},
     "output_type": "display_data"
    },
    {
     "data": {
      "text/html": [
       "<ol class=list-inline>\n",
       "\t<li>1</li>\n",
       "\t<li>2007</li>\n",
       "</ol>\n"
      ],
      "text/latex": [
       "\\begin{enumerate*}\n",
       "\\item 1\n",
       "\\item 2007\n",
       "\\end{enumerate*}\n"
      ],
      "text/markdown": [
       "1. 1\n",
       "2. 2007\n",
       "\n",
       "\n"
      ],
      "text/plain": [
       "[1]    1 2007"
      ]
     },
     "metadata": {},
     "output_type": "display_data"
    }
   ],
   "source": [
    "dim(trip)\n",
    "dim(b)\n",
    "dim(trop)\n",
    "dim(tsop)"
   ]
  },
  {
   "cell_type": "code",
   "execution_count": 33,
   "id": "08cd0b61",
   "metadata": {
    "id": "08cd0b61"
   },
   "outputs": [],
   "source": [
    "##Form a matrix A for each digit, such that each row in A represents an image of that digit. (You \n",
    "##will have 10 A’s). "
   ]
  },
  {
   "cell_type": "code",
   "execution_count": 34,
   "id": "23c6ed9b",
   "metadata": {
    "id": "23c6ed9b"
   },
   "outputs": [
    {
     "ename": "ERROR",
     "evalue": "Error in rbind(deparse.level, ...): numbers of columns of arguments do not match\n",
     "output_type": "error",
     "traceback": [
      "Error in rbind(deparse.level, ...): numbers of columns of arguments do not match\nTraceback:\n",
      "1. rbind(trip, trop)",
      "2. rbind(deparse.level, ...)",
      "3. stop(\"numbers of columns of arguments do not match\")"
     ]
    }
   ],
   "source": [
    "tr = rbind(trip,trop)\n",
    "a = t(tr)\n",
    "A = as.matrix(a)\n",
    "A0 = A[A[,257] == 0, 1:256]\n",
    "A1 = A[A[,257] == 1, 1:256]\n",
    "A2 = A[A[,257] == 2, 1:256]\n",
    "A3 = A[A[,257] == 3, 1:256]\n",
    "A4 = A[A[,257] == 4, 1:256]\n",
    "A5 = A[A[,257] == 5, 1:256]\n",
    "A6 = A[A[,257] == 6, 1:256]\n",
    "A7 = A[A[,257] == 7, 1:256]\n",
    "A8 = A[A[,257] == 8, 1:256]\n",
    "A9 = A[A[,257] == 9, 1:256]"
   ]
  },
  {
   "cell_type": "code",
   "execution_count": 35,
   "id": "c4491287",
   "metadata": {
    "id": "c4491287"
   },
   "outputs": [],
   "source": [
    "##Determine the singular value decomposition for each A. (Right singular vectors Vi are an \n",
    "##orthogonal basis in the image space of that digit. We will refer to the right singular vectors as \n",
    "##“singular images.”) You should get 10 sets of singular images, one for each digit. "
   ]
  },
  {
   "cell_type": "code",
   "execution_count": 61,
   "id": "803d50e4",
   "metadata": {
    "id": "803d50e4"
   },
   "outputs": [],
   "source": [
    "A0S = svd(A0)\n",
    "A1S = svd(A1)\n",
    "A2S = svd(A2)\n",
    "A3S = svd(A3)\n",
    "A4S = svd(A4)\n",
    "A5S = svd(A5)\n",
    "A6S = svd(A6)\n",
    "A7S = svd(A7)\n",
    "A8S = svd(A8)\n",
    "A9S = svd(A9)"
   ]
  },
  {
   "cell_type": "code",
   "execution_count": 37,
   "id": "5f96d9b9",
   "metadata": {
    "id": "5f96d9b9"
   },
   "outputs": [],
   "source": [
    "##Express test images as a linear combination of the first k=20 singular images of each digit.\n",
    "##(This is a least square problem of the form Ax=b). "
   ]
  },
  {
   "cell_type": "code",
   "execution_count": 38,
   "id": "5de8c31a",
   "metadata": {
    "id": "5de8c31a"
   },
   "outputs": [],
   "source": [
    "A0T =  A0S$v[,1:20]\n",
    "A1T =  A1S$v[,1:20]\n",
    "A2T =  A2S$v[,1:20]\n",
    "A3T =  A3S$v[,1:20]\n",
    "A4T =  A4S$v[,1:20]\n",
    "A5T =  A5S$v[,1:20]\n",
    "A6T =  A6S$v[,1:20]\n",
    "A7T =  A7S$v[,1:20]\n",
    "A8T =  A8S$v[,1:20]\n",
    "A9T =  A9S$v[,1:20]"
   ]
  },
  {
   "cell_type": "code",
   "execution_count": 39,
   "id": "76bc0882",
   "metadata": {
    "id": "76bc0882"
   },
   "outputs": [],
   "source": [
    "##Compute the distance between test images and their least square approximations. "
   ]
  },
  {
   "cell_type": "code",
   "execution_count": 40,
   "id": "9d-sJ8X6r-7M",
   "metadata": {
    "id": "9d-sJ8X6r-7M"
   },
   "outputs": [],
   "source": [
    "B = as.matrix(b)"
   ]
  },
  {
   "cell_type": "code",
   "execution_count": 41,
   "id": "qWlr951qr-1z",
   "metadata": {
    "id": "qWlr951qr-1z"
   },
   "outputs": [],
   "source": [
    "#install.packages(\"MASS\")\n",
    "\n",
    "# test\timages\tas\ta\tlinear\tcombination\tof\tthe\tfirst\tk=20 singular\timages\tof\teach\tdigit\n",
    "library(MASS)\n",
    "X0 = ginv(A0T)%*%B\n",
    "X1 = ginv(A1T)%*%B\n",
    "X2 = ginv(A2T)%*%B\n",
    "X3 = ginv(A3T)%*%B\n",
    "X4 = ginv(A4T)%*%B\n",
    "X5 = ginv(A5T)%*%B\n",
    "X6 = ginv(A6T)%*%B\n",
    "X7 = ginv(A7T)%*%B\n",
    "X8 = ginv(A8T)%*%B\n",
    "X9 = ginv(A9T)%*%B"
   ]
  },
  {
   "cell_type": "code",
   "execution_count": 42,
   "id": "B4sid3WV1r0i",
   "metadata": {
    "id": "B4sid3WV1r0i"
   },
   "outputs": [],
   "source": [
    "# Creating empty vectors to append later in the excercise\n",
    "\n",
    "error.matrix.A0 <- c()\n",
    "error.matrix.A1 <- c()\n",
    "error.matrix.A2 <- c()\n",
    "error.matrix.A3 <- c()\n",
    "error.matrix.A4 <- c()\n",
    "error.matrix.A5 <- c()\n",
    "error.matrix.A6 <- c()\n",
    "error.matrix.A7 <- c()\n",
    "error.matrix.A8 <- c()\n",
    "error.matrix.A9 <- c()\n"
   ]
  },
  {
   "cell_type": "code",
   "execution_count": 43,
   "id": "fukgL85J_wkG",
   "metadata": {
    "id": "fukgL85J_wkG"
   },
   "outputs": [],
   "source": [
    "# these for loops will calculate distance between test image and their least square approximations and apend the result in respective vectors created above\n",
    "for (i in 1:2007) {\n",
    "error = norm(as.matrix(B[,i]) - A0T%*%X0[,i], '2')\n",
    "error.matrix.A0 <- append(error.matrix.A0, error)\n",
    "}\n",
    "for (i in 1:2007) {\n",
    "error = norm(as.matrix(B[,i]) - A1T%*%X1[,i], '2')\n",
    "error.matrix.A1 <- append(error.matrix.A1, error)\n",
    "}\n",
    "for (i in 1:2007) {\n",
    "error = norm(as.matrix(B[,i]) - A2T%*%X2[,i], '2')\n",
    "error.matrix.A2 <- append(error.matrix.A2, error)\n",
    "}\n",
    "for (i in 1:2007) {\n",
    "error = norm(as.matrix(B[,i]) - A3T%*%X3[,i], '2')\n",
    "error.matrix.A3 <- append(error.matrix.A3, error)\n",
    "}\n",
    "for (i in 1:2007) {\n",
    "error = norm(as.matrix(B[,i]) - A4T%*%X4[,i], '2')\n",
    "error.matrix.A4 <- append(error.matrix.A4, error)\n",
    "}\n",
    "for (i in 1:2007) {\n",
    "error = norm(as.matrix(B[,i]) - A5T%*%X5[,i], '2')\n",
    "error.matrix.A5 <- append(error.matrix.A5, error)\n",
    "}\n",
    "for (i in 1:2007) {\n",
    "error = norm(as.matrix(B[,i]) - A6T%*%X6[,i], '2')\n",
    "error.matrix.A6 <- append(error.matrix.A6, error)\n",
    "}\n",
    "for (i in 1:2007) {\n",
    "error = norm(as.matrix(B[,i]) - A7T%*%X7[,i], '2')\n",
    "error.matrix.A7 <- append(error.matrix.A7, error)\n",
    "}\n",
    "for (i in 1:2007) {\n",
    "error = norm(as.matrix(B[,i]) - A8T%*%X8[,i], '2')\n",
    "error.matrix.A8 <- append(error.matrix.A8, error)\n",
    "}\n",
    "for (i in 1:2007) {\n",
    "error = norm(as.matrix(B[,i]) - A9T%*%X9[,i], '2')\n",
    "error.matrix.A9 <- append(error.matrix.A9, error)\n",
    "}"
   ]
  },
  {
   "cell_type": "code",
   "execution_count": 44,
   "id": "KUfDSc-eCL2a",
   "metadata": {
    "id": "KUfDSc-eCL2a"
   },
   "outputs": [],
   "source": [
    "# creating final error matrix with all the approximations\n",
    "error.matrix <- cbind(error.matrix.A0,error.matrix.A1, error.matrix.A2, error.matrix.A3,error.matrix.A4, error.matrix.A5, error.matrix.A6, error.matrix.A7, error.matrix.A8, error.matrix.A9)"
   ]
  },
  {
   "cell_type": "code",
   "execution_count": 45,
   "id": "bPK6PQYxEEMi",
   "metadata": {
    "colab": {
     "base_uri": "https://localhost:8080/",
     "height": 34
    },
    "id": "bPK6PQYxEEMi",
    "outputId": "80d8dee7-ceda-4e74-b1bd-7c3ade45db69"
   },
   "outputs": [
    {
     "data": {
      "text/html": [
       "<ol class=list-inline>\n",
       "\t<li>2007</li>\n",
       "\t<li>10</li>\n",
       "</ol>\n"
      ],
      "text/latex": [
       "\\begin{enumerate*}\n",
       "\\item 2007\n",
       "\\item 10\n",
       "\\end{enumerate*}\n"
      ],
      "text/markdown": [
       "1. 2007\n",
       "2. 10\n",
       "\n",
       "\n"
      ],
      "text/plain": [
       "[1] 2007   10"
      ]
     },
     "metadata": {},
     "output_type": "display_data"
    }
   ],
   "source": [
    "dim(error.matrix)"
   ]
  },
  {
   "cell_type": "code",
   "execution_count": 46,
   "id": "iBMX7emoE3mg",
   "metadata": {
    "id": "iBMX7emoE3mg"
   },
   "outputs": [],
   "source": [
    "Error.df <- as.data.frame(error.matrix)"
   ]
  },
  {
   "cell_type": "code",
   "execution_count": 47,
   "id": "NHcMC-kQF7lo",
   "metadata": {
    "colab": {
     "base_uri": "https://localhost:8080/"
    },
    "id": "NHcMC-kQF7lo",
    "outputId": "4800c2ce-c067-456f-8f64-eb01ef9cadfa"
   },
   "outputs": [],
   "source": [
    "#install.packages(\"tidyverse\")\n",
    "# Renaming all the column names to corresponding digits\n",
    "library(tidyverse)\n",
    "\n",
    "Error.df <- Error.df %>% \n",
    "  rename(\n",
    "    Digit.0 = error.matrix.A0 ,\n",
    "    Digit.1 = error.matrix.A1 ,\n",
    "    Digit.2 = error.matrix.A2 ,\n",
    "    Digit.3 = error.matrix.A3 ,\n",
    "    Digit.4 = error.matrix.A4 ,\n",
    "    Digit.5 = error.matrix.A5 ,\n",
    "    Digit.6 = error.matrix.A6 ,\n",
    "    Digit.7 = error.matrix.A7 ,\n",
    "    Digit.8 = error.matrix.A8 ,\n",
    "    Digit.9 = error.matrix.A9 ,\n",
    "    )"
   ]
  },
  {
   "cell_type": "code",
   "execution_count": 48,
   "id": "5g7xGX5JIsJk",
   "metadata": {
    "id": "5g7xGX5JIsJk"
   },
   "outputs": [],
   "source": [
    "# this for loop will find the respective column name for the value that matches the minimum value\n",
    "\n",
    "Classification.test <- c()\n",
    "for (i in 1:2007) {\n",
    "f <- names(Error.df)[which(Error.df == min(Error.df[i,]), arr.ind=T)[, \"col\"]]\n",
    "Classification.test <- append(Classification.test, f)\n",
    "}"
   ]
  },
  {
   "cell_type": "code",
   "execution_count": 49,
   "id": "-IAHMo_rIsEx",
   "metadata": {
    "id": "-IAHMo_rIsEx"
   },
   "outputs": [],
   "source": [
    "Classification.test <- as.data.frame(Classification.test) # converting the matrix to a dataframe"
   ]
  },
  {
   "cell_type": "code",
   "execution_count": 50,
   "id": "WnZxNyUcIsCd",
   "metadata": {
    "id": "WnZxNyUcIsCd"
   },
   "outputs": [],
   "source": [
    "#Classification.test$index <- 1:nrow(Classification.test)"
   ]
  },
  {
   "cell_type": "code",
   "execution_count": 51,
   "id": "Y7m_PDptIrw6",
   "metadata": {
    "id": "Y7m_PDptIrw6"
   },
   "outputs": [],
   "source": [
    "Actual.values <- t(tsop) # transpose of the given test output file"
   ]
  },
  {
   "cell_type": "code",
   "execution_count": 52,
   "id": "Fo9JQkyZIrmt",
   "metadata": {
    "id": "Fo9JQkyZIrmt"
   },
   "outputs": [],
   "source": [
    "Classification.test <- Classification.test %>% separate(Classification.test, c(\"A\", \"Predicted.Values\"))\n",
    "final.df <- cbind(Classification.test,Actual.values) # Final data set with predicted and actual values"
   ]
  },
  {
   "cell_type": "code",
   "execution_count": 53,
   "id": "K5SjJTOYIrkP",
   "metadata": {
    "id": "K5SjJTOYIrkP"
   },
   "outputs": [],
   "source": [
    "final.df <- final.df %>% select(-c(A) )  # removing unnecessary column"
   ]
  },
  {
   "cell_type": "code",
   "execution_count": 54,
   "id": "6yTYFURQIrh_",
   "metadata": {
    "colab": {
     "base_uri": "https://localhost:8080/",
     "height": 283
    },
    "id": "6yTYFURQIrh_",
    "outputId": "39ff9e98-60a9-4723-89e2-f882dd8c7f8b"
   },
   "outputs": [
    {
     "data": {
      "text/html": [
       "<table>\n",
       "<thead><tr><th></th><th scope=col>Predicted.Values</th><th scope=col>Actual.values</th></tr></thead>\n",
       "<tbody>\n",
       "\t<tr><th scope=row>V1</th><td>9</td><td>9</td></tr>\n",
       "\t<tr><th scope=row>V2</th><td>6</td><td>6</td></tr>\n",
       "\t<tr><th scope=row>V3</th><td>3</td><td>3</td></tr>\n",
       "\t<tr><th scope=row>V4</th><td>0</td><td>6</td></tr>\n",
       "\t<tr><th scope=row>V5</th><td>6</td><td>6</td></tr>\n",
       "\t<tr><th scope=row>V6</th><td>0</td><td>0</td></tr>\n",
       "</tbody>\n",
       "</table>\n"
      ],
      "text/latex": [
       "\\begin{tabular}{r|ll}\n",
       "  & Predicted.Values & Actual.values\\\\\n",
       "\\hline\n",
       "\tV1 & 9 & 9\\\\\n",
       "\tV2 & 6 & 6\\\\\n",
       "\tV3 & 3 & 3\\\\\n",
       "\tV4 & 0 & 6\\\\\n",
       "\tV5 & 6 & 6\\\\\n",
       "\tV6 & 0 & 0\\\\\n",
       "\\end{tabular}\n"
      ],
      "text/markdown": [
       "\n",
       "| <!--/--> | Predicted.Values | Actual.values |\n",
       "|---|---|---|\n",
       "| V1 | 9 | 9 |\n",
       "| V2 | 6 | 6 |\n",
       "| V3 | 3 | 3 |\n",
       "| V4 | 0 | 6 |\n",
       "| V5 | 6 | 6 |\n",
       "| V6 | 0 | 0 |\n",
       "\n"
      ],
      "text/plain": [
       "   Predicted.Values Actual.values\n",
       "V1 9                9            \n",
       "V2 6                6            \n",
       "V3 3                3            \n",
       "V4 0                6            \n",
       "V5 6                6            \n",
       "V6 0                0            "
      ]
     },
     "metadata": {},
     "output_type": "display_data"
    }
   ],
   "source": [
    "head(final.df)"
   ]
  },
  {
   "cell_type": "code",
   "execution_count": 55,
   "id": "B99k8IkJnRtE",
   "metadata": {
    "colab": {
     "base_uri": "https://localhost:8080/",
     "height": 34
    },
    "id": "B99k8IkJnRtE",
    "outputId": "4f69c34d-feb7-419c-9a36-ad0150558033"
   },
   "outputs": [
    {
     "data": {
      "text/html": [
       "0.93971101145989"
      ],
      "text/latex": [
       "0.93971101145989"
      ],
      "text/markdown": [
       "0.93971101145989"
      ],
      "text/plain": [
       "[1] 0.939711"
      ]
     },
     "metadata": {},
     "output_type": "display_data"
    }
   ],
   "source": [
    "sum(final.df['Predicted.Values'] == final.df['Actual.values'])/nrow(final.df)"
   ]
  },
  {
   "cell_type": "code",
   "execution_count": 56,
   "id": "MREMOiE4IraM",
   "metadata": {
    "colab": {
     "base_uri": "https://localhost:8080/"
    },
    "id": "MREMOiE4IraM",
    "outputId": "002c2d87-c002-4cae-fa88-47acf20e9bc8"
   },
   "outputs": [
    {
     "ename": "ERROR",
     "evalue": "Error in library(gmodels): there is no package called 'gmodels'\n",
     "output_type": "error",
     "traceback": [
      "Error in library(gmodels): there is no package called 'gmodels'\nTraceback:\n",
      "1. library(gmodels)"
     ]
    }
   ],
   "source": [
    "#install required packages \n",
    "#install.packages('gmodels')\n",
    "#import required library \n",
    "library(gmodels)\n",
    " \n",
    "#Computes the crosstable calculations or confusion matrix\n",
    "Confusion.Matrix <- CrossTable(final.df$Actual.values, final.df$Predicted.Values)"
   ]
  },
  {
   "cell_type": "code",
   "execution_count": 57,
   "id": "UT4Cr5heIqno",
   "metadata": {
    "id": "UT4Cr5heIqno"
   },
   "outputs": [],
   "source": [
    "t <- as.matrix(table(final.df$Actual.values, final.df$Predicted.Values)) # creating table to calculate classification rates"
   ]
  },
  {
   "cell_type": "code",
   "execution_count": 58,
   "id": "9oTfA3XTIqlL",
   "metadata": {
    "id": "9oTfA3XTIqlL"
   },
   "outputs": [],
   "source": [
    "overall.correct.classification.rate <- sum(diag(t))/nrow(final.df) # overall accuracy of the model"
   ]
  },
  {
   "cell_type": "code",
   "execution_count": 59,
   "id": "KF1NqkjTIqi4",
   "metadata": {
    "colab": {
     "base_uri": "https://localhost:8080/",
     "height": 34
    },
    "id": "KF1NqkjTIqi4",
    "outputId": "c158c720-906d-43ee-9aa6-0f72203d862c"
   },
   "outputs": [
    {
     "data": {
      "text/html": [
       "0.93971101145989"
      ],
      "text/latex": [
       "0.93971101145989"
      ],
      "text/markdown": [
       "0.93971101145989"
      ],
      "text/plain": [
       "[1] 0.939711"
      ]
     },
     "metadata": {},
     "output_type": "display_data"
    }
   ],
   "source": [
    "overall.correct.classification.rate"
   ]
  },
  {
   "cell_type": "code",
   "execution_count": 60,
   "id": "47tW-rDeIqgX",
   "metadata": {
    "colab": {
     "base_uri": "https://localhost:8080/"
    },
    "id": "47tW-rDeIqgX",
    "outputId": "17f1c462-be8e-4825-82ee-9ab6f458033c"
   },
   "outputs": [
    {
     "name": "stdout",
     "output_type": "stream",
     "text": [
      "The classification for digit: 1 is 0.9888579 \n",
      "The classification for digit: 2 is 0.9810606 \n",
      "The classification for digit: 3 is 0.9040404 \n",
      "The classification for digit: 4 is 0.8915663 \n",
      "The classification for digit: 5 is 0.935 \n",
      "The classification for digit: 6 is 0.875 \n",
      "The classification for digit: 7 is 0.9647059 \n",
      "The classification for digit: 8 is 0.9455782 \n",
      "The classification for digit: 9 is 0.8975904 \n",
      "The classification for digit: 10 is 0.9378531 \n"
     ]
    }
   ],
   "source": [
    "# correct classification of each digit\n",
    "\n",
    "for (i in 1:10) {\n",
    "classification.digit <- diag(t)[i]/sum(final.df['Actual.values']==i-1)\n",
    "cat(\"The classification for digit:\",i , \"is\", classification.digit, \"\\n\")\n",
    "}"
   ]
  },
  {
   "cell_type": "code",
   "execution_count": null,
   "id": "9a77339a",
   "metadata": {},
   "outputs": [],
   "source": []
  }
 ],
 "metadata": {
  "colab": {
   "name": "SVD Programming Assignment 4 SVD Final.ipynb",
   "provenance": []
  },
  "kernelspec": {
   "display_name": "R",
   "language": "R",
   "name": "ir"
  },
  "language_info": {
   "codemirror_mode": "r",
   "file_extension": ".r",
   "mimetype": "text/x-r-source",
   "name": "R",
   "pygments_lexer": "r",
   "version": "3.6.1"
  }
 },
 "nbformat": 4,
 "nbformat_minor": 5
}
